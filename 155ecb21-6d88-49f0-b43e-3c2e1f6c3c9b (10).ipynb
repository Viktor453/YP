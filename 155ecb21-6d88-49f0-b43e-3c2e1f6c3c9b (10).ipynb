{
 "cells": [
  {
   "cell_type": "markdown",
   "metadata": {
    "toc": true
   },
   "source": [
    "<h1>Содержание<span class=\"tocSkip\"></span></h1>\n",
    "<div class=\"toc\"><ul class=\"toc-item\"><li><span><a href=\"#Подготовка-данных\" data-toc-modified-id=\"Подготовка-данных-1\"><span class=\"toc-item-num\">1&nbsp;&nbsp;</span>Подготовка данных</a></span><ul class=\"toc-item\"><li><span><a href=\"#Вывод\" data-toc-modified-id=\"Вывод-1.1\"><span class=\"toc-item-num\">1.1&nbsp;&nbsp;</span>Вывод</a></span></li></ul></li><li><span><a href=\"#Анализ-данных\" data-toc-modified-id=\"Анализ-данных-2\"><span class=\"toc-item-num\">2&nbsp;&nbsp;</span>Анализ данных</a></span><ul class=\"toc-item\"><li><span><a href=\"#Вывод\" data-toc-modified-id=\"Вывод-2.1\"><span class=\"toc-item-num\">2.1&nbsp;&nbsp;</span>Вывод</a></span></li></ul></li><li><span><a href=\"#Модель\" data-toc-modified-id=\"Модель-3\"><span class=\"toc-item-num\">3&nbsp;&nbsp;</span>Модель</a></span><ul class=\"toc-item\"><li><span><a href=\"#Вывод\" data-toc-modified-id=\"Вывод-3.1\"><span class=\"toc-item-num\">3.1&nbsp;&nbsp;</span>Вывод</a></span></li></ul></li><li><span><a href=\"#Чек-лист-готовности-проекта\" data-toc-modified-id=\"Чек-лист-готовности-проекта-4\"><span class=\"toc-item-num\">4&nbsp;&nbsp;</span>Чек-лист готовности проекта</a></span></li></ul></div>"
   ]
  },
  {
   "cell_type": "markdown",
   "metadata": {},
   "source": [
    "# Восстановление золота из руды"
   ]
  },
  {
   "cell_type": "markdown",
   "metadata": {},
   "source": [
    "Подготовьте прототип модели машинного обучения для «Цифры». Компания разрабатывает решения для эффективной работы промышленных предприятий.\n",
    "\n",
    "Модель должна предсказать коэффициент восстановления золота из золотосодержащей руды. Используйте данные с параметрами добычи и очистки. \n",
    "\n",
    "Модель поможет оптимизировать производство, чтобы не запускать предприятие с убыточными характеристиками.\n",
    "\n",
    "Вам нужно:\n",
    "\n",
    "1. Подготовить данные;\n",
    "2. Провести исследовательский анализ данных;\n",
    "3. Построить и обучить модель.\n",
    "\n",
    "Чтобы выполнить проект, обращайтесь к библиотекам *pandas*, *matplotlib* и *sklearn.* Вам поможет их документация."
   ]
  },
  {
   "cell_type": "markdown",
   "metadata": {},
   "source": [
    "## Подготовка данных"
   ]
  },
  {
   "cell_type": "code",
   "execution_count": 4,
   "metadata": {},
   "outputs": [],
   "source": [
    "import matplotlib.pyplot as plt\n",
    "import numpy as np\n",
    "import pandas as pd\n",
    "import seaborn as sns\n",
    "import warnings\n",
    "from sklearn.dummy import DummyRegressor\n",
    "from collections import defaultdict\n",
    "from sklearn.preprocessing import StandardScaler\n",
    "from sklearn.metrics import make_scorer\n",
    "from sklearn.metrics import mean_absolute_error\n",
    "from sklearn.linear_model import LinearRegression\n",
    "from sklearn.ensemble import RandomForestRegressor\n",
    "from sklearn.tree import DecisionTreeRegressor\n",
    "from sklearn.model_selection import cross_val_score\n",
    "warnings.filterwarnings('ignore')"
   ]
  },
  {
   "cell_type": "code",
   "execution_count": 5,
   "metadata": {},
   "outputs": [],
   "source": [
    "gold_recovery_train_new = pd.read_csv('/datasets/gold_recovery_train_new.csv', index_col='date')\n",
    "gold_recovery_test_new = pd.read_csv('/datasets/gold_recovery_test_new.csv', index_col='date')\n",
    "gold_recovery_full_new = pd.read_csv('/datasets/gold_recovery_full_new.csv', index_col='date')"
   ]
  },
  {
   "cell_type": "code",
   "execution_count": 6,
   "metadata": {},
   "outputs": [],
   "source": [
    "def inf(x):\n",
    "    display(x.describe())\n",
    "    display(x.head())\n",
    "    x.info()   "
   ]
  },
  {
   "cell_type": "code",
   "execution_count": 8,
   "metadata": {},
   "outputs": [
    {
     "data": {
      "text/html": [
       "<div>\n",
       "<style scoped>\n",
       "    .dataframe tbody tr th:only-of-type {\n",
       "        vertical-align: middle;\n",
       "    }\n",
       "\n",
       "    .dataframe tbody tr th {\n",
       "        vertical-align: top;\n",
       "    }\n",
       "\n",
       "    .dataframe thead th {\n",
       "        text-align: right;\n",
       "    }\n",
       "</style>\n",
       "<table border=\"1\" class=\"dataframe\">\n",
       "  <thead>\n",
       "    <tr style=\"text-align: right;\">\n",
       "      <th></th>\n",
       "      <th>final.output.concentrate_ag</th>\n",
       "      <th>final.output.concentrate_pb</th>\n",
       "      <th>final.output.concentrate_sol</th>\n",
       "      <th>final.output.concentrate_au</th>\n",
       "      <th>final.output.recovery</th>\n",
       "      <th>final.output.tail_ag</th>\n",
       "      <th>final.output.tail_pb</th>\n",
       "      <th>final.output.tail_sol</th>\n",
       "      <th>final.output.tail_au</th>\n",
       "      <th>primary_cleaner.input.sulfate</th>\n",
       "      <th>...</th>\n",
       "      <th>secondary_cleaner.state.floatbank4_a_air</th>\n",
       "      <th>secondary_cleaner.state.floatbank4_a_level</th>\n",
       "      <th>secondary_cleaner.state.floatbank4_b_air</th>\n",
       "      <th>secondary_cleaner.state.floatbank4_b_level</th>\n",
       "      <th>secondary_cleaner.state.floatbank5_a_air</th>\n",
       "      <th>secondary_cleaner.state.floatbank5_a_level</th>\n",
       "      <th>secondary_cleaner.state.floatbank5_b_air</th>\n",
       "      <th>secondary_cleaner.state.floatbank5_b_level</th>\n",
       "      <th>secondary_cleaner.state.floatbank6_a_air</th>\n",
       "      <th>secondary_cleaner.state.floatbank6_a_level</th>\n",
       "    </tr>\n",
       "  </thead>\n",
       "  <tbody>\n",
       "    <tr>\n",
       "      <th>count</th>\n",
       "      <td>14148.000000</td>\n",
       "      <td>14148.000000</td>\n",
       "      <td>13938.000000</td>\n",
       "      <td>14149.000000</td>\n",
       "      <td>14149.000000</td>\n",
       "      <td>14149.000000</td>\n",
       "      <td>14049.000000</td>\n",
       "      <td>14144.000000</td>\n",
       "      <td>14149.000000</td>\n",
       "      <td>14129.000000</td>\n",
       "      <td>...</td>\n",
       "      <td>14143.000000</td>\n",
       "      <td>14148.000000</td>\n",
       "      <td>14148.000000</td>\n",
       "      <td>14148.000000</td>\n",
       "      <td>14148.000000</td>\n",
       "      <td>14148.000000</td>\n",
       "      <td>14148.000000</td>\n",
       "      <td>14148.000000</td>\n",
       "      <td>14147.000000</td>\n",
       "      <td>14148.000000</td>\n",
       "    </tr>\n",
       "    <tr>\n",
       "      <th>mean</th>\n",
       "      <td>5.142034</td>\n",
       "      <td>10.132960</td>\n",
       "      <td>9.202849</td>\n",
       "      <td>44.003792</td>\n",
       "      <td>66.518832</td>\n",
       "      <td>9.607035</td>\n",
       "      <td>2.597298</td>\n",
       "      <td>10.512122</td>\n",
       "      <td>2.918421</td>\n",
       "      <td>133.320659</td>\n",
       "      <td>...</td>\n",
       "      <td>19.985454</td>\n",
       "      <td>-478.696836</td>\n",
       "      <td>15.487065</td>\n",
       "      <td>-460.229416</td>\n",
       "      <td>16.775136</td>\n",
       "      <td>-483.956022</td>\n",
       "      <td>13.064590</td>\n",
       "      <td>-483.966564</td>\n",
       "      <td>19.577539</td>\n",
       "      <td>-506.798480</td>\n",
       "    </tr>\n",
       "    <tr>\n",
       "      <th>std</th>\n",
       "      <td>1.369586</td>\n",
       "      <td>1.654930</td>\n",
       "      <td>2.790516</td>\n",
       "      <td>4.905261</td>\n",
       "      <td>10.295402</td>\n",
       "      <td>2.319069</td>\n",
       "      <td>0.971843</td>\n",
       "      <td>3.003617</td>\n",
       "      <td>0.903712</td>\n",
       "      <td>39.431659</td>\n",
       "      <td>...</td>\n",
       "      <td>5.657723</td>\n",
       "      <td>50.736021</td>\n",
       "      <td>5.255655</td>\n",
       "      <td>58.843586</td>\n",
       "      <td>5.831906</td>\n",
       "      <td>37.892788</td>\n",
       "      <td>5.765617</td>\n",
       "      <td>39.207913</td>\n",
       "      <td>5.764417</td>\n",
       "      <td>37.079249</td>\n",
       "    </tr>\n",
       "    <tr>\n",
       "      <th>min</th>\n",
       "      <td>0.000000</td>\n",
       "      <td>0.000000</td>\n",
       "      <td>0.000000</td>\n",
       "      <td>0.000000</td>\n",
       "      <td>0.000000</td>\n",
       "      <td>0.000000</td>\n",
       "      <td>0.000000</td>\n",
       "      <td>0.000000</td>\n",
       "      <td>0.000000</td>\n",
       "      <td>0.003112</td>\n",
       "      <td>...</td>\n",
       "      <td>0.000000</td>\n",
       "      <td>-799.709069</td>\n",
       "      <td>0.000000</td>\n",
       "      <td>-799.889113</td>\n",
       "      <td>-0.372054</td>\n",
       "      <td>-797.142475</td>\n",
       "      <td>0.646208</td>\n",
       "      <td>-800.006180</td>\n",
       "      <td>0.195324</td>\n",
       "      <td>-809.398668</td>\n",
       "    </tr>\n",
       "    <tr>\n",
       "      <th>25%</th>\n",
       "      <td>4.211620</td>\n",
       "      <td>9.297355</td>\n",
       "      <td>7.484645</td>\n",
       "      <td>43.276111</td>\n",
       "      <td>62.545817</td>\n",
       "      <td>7.997429</td>\n",
       "      <td>1.905973</td>\n",
       "      <td>8.811324</td>\n",
       "      <td>2.368607</td>\n",
       "      <td>107.006651</td>\n",
       "      <td>...</td>\n",
       "      <td>14.990775</td>\n",
       "      <td>-500.628656</td>\n",
       "      <td>11.894558</td>\n",
       "      <td>-500.149000</td>\n",
       "      <td>11.083980</td>\n",
       "      <td>-500.363177</td>\n",
       "      <td>8.994405</td>\n",
       "      <td>-500.105994</td>\n",
       "      <td>14.989304</td>\n",
       "      <td>-500.745104</td>\n",
       "    </tr>\n",
       "    <tr>\n",
       "      <th>50%</th>\n",
       "      <td>4.994652</td>\n",
       "      <td>10.297144</td>\n",
       "      <td>8.845462</td>\n",
       "      <td>44.872436</td>\n",
       "      <td>67.432775</td>\n",
       "      <td>9.480270</td>\n",
       "      <td>2.592022</td>\n",
       "      <td>10.514621</td>\n",
       "      <td>2.851025</td>\n",
       "      <td>133.018328</td>\n",
       "      <td>...</td>\n",
       "      <td>20.001789</td>\n",
       "      <td>-499.681450</td>\n",
       "      <td>14.975536</td>\n",
       "      <td>-499.388738</td>\n",
       "      <td>17.932223</td>\n",
       "      <td>-499.702452</td>\n",
       "      <td>11.997547</td>\n",
       "      <td>-499.914556</td>\n",
       "      <td>19.984175</td>\n",
       "      <td>-500.061431</td>\n",
       "    </tr>\n",
       "    <tr>\n",
       "      <th>75%</th>\n",
       "      <td>5.859540</td>\n",
       "      <td>11.170603</td>\n",
       "      <td>10.487508</td>\n",
       "      <td>46.166425</td>\n",
       "      <td>72.346428</td>\n",
       "      <td>11.003707</td>\n",
       "      <td>3.241723</td>\n",
       "      <td>11.933009</td>\n",
       "      <td>3.434764</td>\n",
       "      <td>159.825396</td>\n",
       "      <td>...</td>\n",
       "      <td>24.990826</td>\n",
       "      <td>-477.472413</td>\n",
       "      <td>20.059375</td>\n",
       "      <td>-400.039008</td>\n",
       "      <td>21.346550</td>\n",
       "      <td>-487.712108</td>\n",
       "      <td>17.982903</td>\n",
       "      <td>-453.186936</td>\n",
       "      <td>24.991623</td>\n",
       "      <td>-499.536466</td>\n",
       "    </tr>\n",
       "    <tr>\n",
       "      <th>max</th>\n",
       "      <td>16.001945</td>\n",
       "      <td>17.031899</td>\n",
       "      <td>18.124851</td>\n",
       "      <td>52.756638</td>\n",
       "      <td>100.000000</td>\n",
       "      <td>19.552149</td>\n",
       "      <td>5.639565</td>\n",
       "      <td>22.317730</td>\n",
       "      <td>8.197408</td>\n",
       "      <td>250.127834</td>\n",
       "      <td>...</td>\n",
       "      <td>30.115735</td>\n",
       "      <td>-245.239184</td>\n",
       "      <td>24.007913</td>\n",
       "      <td>-145.071088</td>\n",
       "      <td>43.709931</td>\n",
       "      <td>-275.073125</td>\n",
       "      <td>27.926001</td>\n",
       "      <td>-157.396071</td>\n",
       "      <td>32.188906</td>\n",
       "      <td>-104.427459</td>\n",
       "    </tr>\n",
       "  </tbody>\n",
       "</table>\n",
       "<p>8 rows × 86 columns</p>\n",
       "</div>"
      ],
      "text/plain": [
       "       final.output.concentrate_ag  final.output.concentrate_pb  \\\n",
       "count                 14148.000000                 14148.000000   \n",
       "mean                      5.142034                    10.132960   \n",
       "std                       1.369586                     1.654930   \n",
       "min                       0.000000                     0.000000   \n",
       "25%                       4.211620                     9.297355   \n",
       "50%                       4.994652                    10.297144   \n",
       "75%                       5.859540                    11.170603   \n",
       "max                      16.001945                    17.031899   \n",
       "\n",
       "       final.output.concentrate_sol  final.output.concentrate_au  \\\n",
       "count                  13938.000000                 14149.000000   \n",
       "mean                       9.202849                    44.003792   \n",
       "std                        2.790516                     4.905261   \n",
       "min                        0.000000                     0.000000   \n",
       "25%                        7.484645                    43.276111   \n",
       "50%                        8.845462                    44.872436   \n",
       "75%                       10.487508                    46.166425   \n",
       "max                       18.124851                    52.756638   \n",
       "\n",
       "       final.output.recovery  final.output.tail_ag  final.output.tail_pb  \\\n",
       "count           14149.000000          14149.000000          14049.000000   \n",
       "mean               66.518832              9.607035              2.597298   \n",
       "std                10.295402              2.319069              0.971843   \n",
       "min                 0.000000              0.000000              0.000000   \n",
       "25%                62.545817              7.997429              1.905973   \n",
       "50%                67.432775              9.480270              2.592022   \n",
       "75%                72.346428             11.003707              3.241723   \n",
       "max               100.000000             19.552149              5.639565   \n",
       "\n",
       "       final.output.tail_sol  final.output.tail_au  \\\n",
       "count           14144.000000          14149.000000   \n",
       "mean               10.512122              2.918421   \n",
       "std                 3.003617              0.903712   \n",
       "min                 0.000000              0.000000   \n",
       "25%                 8.811324              2.368607   \n",
       "50%                10.514621              2.851025   \n",
       "75%                11.933009              3.434764   \n",
       "max                22.317730              8.197408   \n",
       "\n",
       "       primary_cleaner.input.sulfate  ...  \\\n",
       "count                   14129.000000  ...   \n",
       "mean                      133.320659  ...   \n",
       "std                        39.431659  ...   \n",
       "min                         0.003112  ...   \n",
       "25%                       107.006651  ...   \n",
       "50%                       133.018328  ...   \n",
       "75%                       159.825396  ...   \n",
       "max                       250.127834  ...   \n",
       "\n",
       "       secondary_cleaner.state.floatbank4_a_air  \\\n",
       "count                              14143.000000   \n",
       "mean                                  19.985454   \n",
       "std                                    5.657723   \n",
       "min                                    0.000000   \n",
       "25%                                   14.990775   \n",
       "50%                                   20.001789   \n",
       "75%                                   24.990826   \n",
       "max                                   30.115735   \n",
       "\n",
       "       secondary_cleaner.state.floatbank4_a_level  \\\n",
       "count                                14148.000000   \n",
       "mean                                  -478.696836   \n",
       "std                                     50.736021   \n",
       "min                                   -799.709069   \n",
       "25%                                   -500.628656   \n",
       "50%                                   -499.681450   \n",
       "75%                                   -477.472413   \n",
       "max                                   -245.239184   \n",
       "\n",
       "       secondary_cleaner.state.floatbank4_b_air  \\\n",
       "count                              14148.000000   \n",
       "mean                                  15.487065   \n",
       "std                                    5.255655   \n",
       "min                                    0.000000   \n",
       "25%                                   11.894558   \n",
       "50%                                   14.975536   \n",
       "75%                                   20.059375   \n",
       "max                                   24.007913   \n",
       "\n",
       "       secondary_cleaner.state.floatbank4_b_level  \\\n",
       "count                                14148.000000   \n",
       "mean                                  -460.229416   \n",
       "std                                     58.843586   \n",
       "min                                   -799.889113   \n",
       "25%                                   -500.149000   \n",
       "50%                                   -499.388738   \n",
       "75%                                   -400.039008   \n",
       "max                                   -145.071088   \n",
       "\n",
       "       secondary_cleaner.state.floatbank5_a_air  \\\n",
       "count                              14148.000000   \n",
       "mean                                  16.775136   \n",
       "std                                    5.831906   \n",
       "min                                   -0.372054   \n",
       "25%                                   11.083980   \n",
       "50%                                   17.932223   \n",
       "75%                                   21.346550   \n",
       "max                                   43.709931   \n",
       "\n",
       "       secondary_cleaner.state.floatbank5_a_level  \\\n",
       "count                                14148.000000   \n",
       "mean                                  -483.956022   \n",
       "std                                     37.892788   \n",
       "min                                   -797.142475   \n",
       "25%                                   -500.363177   \n",
       "50%                                   -499.702452   \n",
       "75%                                   -487.712108   \n",
       "max                                   -275.073125   \n",
       "\n",
       "       secondary_cleaner.state.floatbank5_b_air  \\\n",
       "count                              14148.000000   \n",
       "mean                                  13.064590   \n",
       "std                                    5.765617   \n",
       "min                                    0.646208   \n",
       "25%                                    8.994405   \n",
       "50%                                   11.997547   \n",
       "75%                                   17.982903   \n",
       "max                                   27.926001   \n",
       "\n",
       "       secondary_cleaner.state.floatbank5_b_level  \\\n",
       "count                                14148.000000   \n",
       "mean                                  -483.966564   \n",
       "std                                     39.207913   \n",
       "min                                   -800.006180   \n",
       "25%                                   -500.105994   \n",
       "50%                                   -499.914556   \n",
       "75%                                   -453.186936   \n",
       "max                                   -157.396071   \n",
       "\n",
       "       secondary_cleaner.state.floatbank6_a_air  \\\n",
       "count                              14147.000000   \n",
       "mean                                  19.577539   \n",
       "std                                    5.764417   \n",
       "min                                    0.195324   \n",
       "25%                                   14.989304   \n",
       "50%                                   19.984175   \n",
       "75%                                   24.991623   \n",
       "max                                   32.188906   \n",
       "\n",
       "       secondary_cleaner.state.floatbank6_a_level  \n",
       "count                                14148.000000  \n",
       "mean                                  -506.798480  \n",
       "std                                     37.079249  \n",
       "min                                   -809.398668  \n",
       "25%                                   -500.745104  \n",
       "50%                                   -500.061431  \n",
       "75%                                   -499.536466  \n",
       "max                                   -104.427459  \n",
       "\n",
       "[8 rows x 86 columns]"
      ]
     },
     "metadata": {},
     "output_type": "display_data"
    },
    {
     "data": {
      "text/html": [
       "<div>\n",
       "<style scoped>\n",
       "    .dataframe tbody tr th:only-of-type {\n",
       "        vertical-align: middle;\n",
       "    }\n",
       "\n",
       "    .dataframe tbody tr th {\n",
       "        vertical-align: top;\n",
       "    }\n",
       "\n",
       "    .dataframe thead th {\n",
       "        text-align: right;\n",
       "    }\n",
       "</style>\n",
       "<table border=\"1\" class=\"dataframe\">\n",
       "  <thead>\n",
       "    <tr style=\"text-align: right;\">\n",
       "      <th></th>\n",
       "      <th>final.output.concentrate_ag</th>\n",
       "      <th>final.output.concentrate_pb</th>\n",
       "      <th>final.output.concentrate_sol</th>\n",
       "      <th>final.output.concentrate_au</th>\n",
       "      <th>final.output.recovery</th>\n",
       "      <th>final.output.tail_ag</th>\n",
       "      <th>final.output.tail_pb</th>\n",
       "      <th>final.output.tail_sol</th>\n",
       "      <th>final.output.tail_au</th>\n",
       "      <th>primary_cleaner.input.sulfate</th>\n",
       "      <th>...</th>\n",
       "      <th>secondary_cleaner.state.floatbank4_a_air</th>\n",
       "      <th>secondary_cleaner.state.floatbank4_a_level</th>\n",
       "      <th>secondary_cleaner.state.floatbank4_b_air</th>\n",
       "      <th>secondary_cleaner.state.floatbank4_b_level</th>\n",
       "      <th>secondary_cleaner.state.floatbank5_a_air</th>\n",
       "      <th>secondary_cleaner.state.floatbank5_a_level</th>\n",
       "      <th>secondary_cleaner.state.floatbank5_b_air</th>\n",
       "      <th>secondary_cleaner.state.floatbank5_b_level</th>\n",
       "      <th>secondary_cleaner.state.floatbank6_a_air</th>\n",
       "      <th>secondary_cleaner.state.floatbank6_a_level</th>\n",
       "    </tr>\n",
       "    <tr>\n",
       "      <th>date</th>\n",
       "      <th></th>\n",
       "      <th></th>\n",
       "      <th></th>\n",
       "      <th></th>\n",
       "      <th></th>\n",
       "      <th></th>\n",
       "      <th></th>\n",
       "      <th></th>\n",
       "      <th></th>\n",
       "      <th></th>\n",
       "      <th></th>\n",
       "      <th></th>\n",
       "      <th></th>\n",
       "      <th></th>\n",
       "      <th></th>\n",
       "      <th></th>\n",
       "      <th></th>\n",
       "      <th></th>\n",
       "      <th></th>\n",
       "      <th></th>\n",
       "      <th></th>\n",
       "    </tr>\n",
       "  </thead>\n",
       "  <tbody>\n",
       "    <tr>\n",
       "      <th>2016-01-15 00:00:00</th>\n",
       "      <td>6.055403</td>\n",
       "      <td>9.889648</td>\n",
       "      <td>5.507324</td>\n",
       "      <td>42.192020</td>\n",
       "      <td>70.541216</td>\n",
       "      <td>10.411962</td>\n",
       "      <td>0.895447</td>\n",
       "      <td>16.904297</td>\n",
       "      <td>2.143149</td>\n",
       "      <td>127.092003</td>\n",
       "      <td>...</td>\n",
       "      <td>14.016835</td>\n",
       "      <td>-502.488007</td>\n",
       "      <td>12.099931</td>\n",
       "      <td>-504.715942</td>\n",
       "      <td>9.925633</td>\n",
       "      <td>-498.310211</td>\n",
       "      <td>8.079666</td>\n",
       "      <td>-500.470978</td>\n",
       "      <td>14.151341</td>\n",
       "      <td>-605.841980</td>\n",
       "    </tr>\n",
       "    <tr>\n",
       "      <th>2016-01-15 01:00:00</th>\n",
       "      <td>6.029369</td>\n",
       "      <td>9.968944</td>\n",
       "      <td>5.257781</td>\n",
       "      <td>42.701629</td>\n",
       "      <td>69.266198</td>\n",
       "      <td>10.462676</td>\n",
       "      <td>0.927452</td>\n",
       "      <td>16.634514</td>\n",
       "      <td>2.224930</td>\n",
       "      <td>125.629232</td>\n",
       "      <td>...</td>\n",
       "      <td>13.992281</td>\n",
       "      <td>-505.503262</td>\n",
       "      <td>11.950531</td>\n",
       "      <td>-501.331529</td>\n",
       "      <td>10.039245</td>\n",
       "      <td>-500.169983</td>\n",
       "      <td>7.984757</td>\n",
       "      <td>-500.582168</td>\n",
       "      <td>13.998353</td>\n",
       "      <td>-599.787184</td>\n",
       "    </tr>\n",
       "    <tr>\n",
       "      <th>2016-01-15 02:00:00</th>\n",
       "      <td>6.055926</td>\n",
       "      <td>10.213995</td>\n",
       "      <td>5.383759</td>\n",
       "      <td>42.657501</td>\n",
       "      <td>68.116445</td>\n",
       "      <td>10.507046</td>\n",
       "      <td>0.953716</td>\n",
       "      <td>16.208849</td>\n",
       "      <td>2.257889</td>\n",
       "      <td>123.819808</td>\n",
       "      <td>...</td>\n",
       "      <td>14.015015</td>\n",
       "      <td>-502.520901</td>\n",
       "      <td>11.912783</td>\n",
       "      <td>-501.133383</td>\n",
       "      <td>10.070913</td>\n",
       "      <td>-500.129135</td>\n",
       "      <td>8.013877</td>\n",
       "      <td>-500.517572</td>\n",
       "      <td>14.028663</td>\n",
       "      <td>-601.427363</td>\n",
       "    </tr>\n",
       "    <tr>\n",
       "      <th>2016-01-15 03:00:00</th>\n",
       "      <td>6.047977</td>\n",
       "      <td>9.977019</td>\n",
       "      <td>4.858634</td>\n",
       "      <td>42.689819</td>\n",
       "      <td>68.347543</td>\n",
       "      <td>10.422762</td>\n",
       "      <td>0.883763</td>\n",
       "      <td>16.532835</td>\n",
       "      <td>2.146849</td>\n",
       "      <td>122.270188</td>\n",
       "      <td>...</td>\n",
       "      <td>14.036510</td>\n",
       "      <td>-500.857308</td>\n",
       "      <td>11.999550</td>\n",
       "      <td>-501.193686</td>\n",
       "      <td>9.970366</td>\n",
       "      <td>-499.201640</td>\n",
       "      <td>7.977324</td>\n",
       "      <td>-500.255908</td>\n",
       "      <td>14.005551</td>\n",
       "      <td>-599.996129</td>\n",
       "    </tr>\n",
       "    <tr>\n",
       "      <th>2016-01-15 04:00:00</th>\n",
       "      <td>6.148599</td>\n",
       "      <td>10.142511</td>\n",
       "      <td>4.939416</td>\n",
       "      <td>42.774141</td>\n",
       "      <td>66.927016</td>\n",
       "      <td>10.360302</td>\n",
       "      <td>0.792826</td>\n",
       "      <td>16.525686</td>\n",
       "      <td>2.055292</td>\n",
       "      <td>117.988169</td>\n",
       "      <td>...</td>\n",
       "      <td>14.027298</td>\n",
       "      <td>-499.838632</td>\n",
       "      <td>11.953070</td>\n",
       "      <td>-501.053894</td>\n",
       "      <td>9.925709</td>\n",
       "      <td>-501.686727</td>\n",
       "      <td>7.894242</td>\n",
       "      <td>-500.356035</td>\n",
       "      <td>13.996647</td>\n",
       "      <td>-601.496691</td>\n",
       "    </tr>\n",
       "  </tbody>\n",
       "</table>\n",
       "<p>5 rows × 86 columns</p>\n",
       "</div>"
      ],
      "text/plain": [
       "                     final.output.concentrate_ag  final.output.concentrate_pb  \\\n",
       "date                                                                            \n",
       "2016-01-15 00:00:00                     6.055403                     9.889648   \n",
       "2016-01-15 01:00:00                     6.029369                     9.968944   \n",
       "2016-01-15 02:00:00                     6.055926                    10.213995   \n",
       "2016-01-15 03:00:00                     6.047977                     9.977019   \n",
       "2016-01-15 04:00:00                     6.148599                    10.142511   \n",
       "\n",
       "                     final.output.concentrate_sol  \\\n",
       "date                                                \n",
       "2016-01-15 00:00:00                      5.507324   \n",
       "2016-01-15 01:00:00                      5.257781   \n",
       "2016-01-15 02:00:00                      5.383759   \n",
       "2016-01-15 03:00:00                      4.858634   \n",
       "2016-01-15 04:00:00                      4.939416   \n",
       "\n",
       "                     final.output.concentrate_au  final.output.recovery  \\\n",
       "date                                                                      \n",
       "2016-01-15 00:00:00                    42.192020              70.541216   \n",
       "2016-01-15 01:00:00                    42.701629              69.266198   \n",
       "2016-01-15 02:00:00                    42.657501              68.116445   \n",
       "2016-01-15 03:00:00                    42.689819              68.347543   \n",
       "2016-01-15 04:00:00                    42.774141              66.927016   \n",
       "\n",
       "                     final.output.tail_ag  final.output.tail_pb  \\\n",
       "date                                                              \n",
       "2016-01-15 00:00:00             10.411962              0.895447   \n",
       "2016-01-15 01:00:00             10.462676              0.927452   \n",
       "2016-01-15 02:00:00             10.507046              0.953716   \n",
       "2016-01-15 03:00:00             10.422762              0.883763   \n",
       "2016-01-15 04:00:00             10.360302              0.792826   \n",
       "\n",
       "                     final.output.tail_sol  final.output.tail_au  \\\n",
       "date                                                               \n",
       "2016-01-15 00:00:00              16.904297              2.143149   \n",
       "2016-01-15 01:00:00              16.634514              2.224930   \n",
       "2016-01-15 02:00:00              16.208849              2.257889   \n",
       "2016-01-15 03:00:00              16.532835              2.146849   \n",
       "2016-01-15 04:00:00              16.525686              2.055292   \n",
       "\n",
       "                     primary_cleaner.input.sulfate  ...  \\\n",
       "date                                                ...   \n",
       "2016-01-15 00:00:00                     127.092003  ...   \n",
       "2016-01-15 01:00:00                     125.629232  ...   \n",
       "2016-01-15 02:00:00                     123.819808  ...   \n",
       "2016-01-15 03:00:00                     122.270188  ...   \n",
       "2016-01-15 04:00:00                     117.988169  ...   \n",
       "\n",
       "                     secondary_cleaner.state.floatbank4_a_air  \\\n",
       "date                                                            \n",
       "2016-01-15 00:00:00                                 14.016835   \n",
       "2016-01-15 01:00:00                                 13.992281   \n",
       "2016-01-15 02:00:00                                 14.015015   \n",
       "2016-01-15 03:00:00                                 14.036510   \n",
       "2016-01-15 04:00:00                                 14.027298   \n",
       "\n",
       "                     secondary_cleaner.state.floatbank4_a_level  \\\n",
       "date                                                              \n",
       "2016-01-15 00:00:00                                 -502.488007   \n",
       "2016-01-15 01:00:00                                 -505.503262   \n",
       "2016-01-15 02:00:00                                 -502.520901   \n",
       "2016-01-15 03:00:00                                 -500.857308   \n",
       "2016-01-15 04:00:00                                 -499.838632   \n",
       "\n",
       "                     secondary_cleaner.state.floatbank4_b_air  \\\n",
       "date                                                            \n",
       "2016-01-15 00:00:00                                 12.099931   \n",
       "2016-01-15 01:00:00                                 11.950531   \n",
       "2016-01-15 02:00:00                                 11.912783   \n",
       "2016-01-15 03:00:00                                 11.999550   \n",
       "2016-01-15 04:00:00                                 11.953070   \n",
       "\n",
       "                     secondary_cleaner.state.floatbank4_b_level  \\\n",
       "date                                                              \n",
       "2016-01-15 00:00:00                                 -504.715942   \n",
       "2016-01-15 01:00:00                                 -501.331529   \n",
       "2016-01-15 02:00:00                                 -501.133383   \n",
       "2016-01-15 03:00:00                                 -501.193686   \n",
       "2016-01-15 04:00:00                                 -501.053894   \n",
       "\n",
       "                     secondary_cleaner.state.floatbank5_a_air  \\\n",
       "date                                                            \n",
       "2016-01-15 00:00:00                                  9.925633   \n",
       "2016-01-15 01:00:00                                 10.039245   \n",
       "2016-01-15 02:00:00                                 10.070913   \n",
       "2016-01-15 03:00:00                                  9.970366   \n",
       "2016-01-15 04:00:00                                  9.925709   \n",
       "\n",
       "                     secondary_cleaner.state.floatbank5_a_level  \\\n",
       "date                                                              \n",
       "2016-01-15 00:00:00                                 -498.310211   \n",
       "2016-01-15 01:00:00                                 -500.169983   \n",
       "2016-01-15 02:00:00                                 -500.129135   \n",
       "2016-01-15 03:00:00                                 -499.201640   \n",
       "2016-01-15 04:00:00                                 -501.686727   \n",
       "\n",
       "                     secondary_cleaner.state.floatbank5_b_air  \\\n",
       "date                                                            \n",
       "2016-01-15 00:00:00                                  8.079666   \n",
       "2016-01-15 01:00:00                                  7.984757   \n",
       "2016-01-15 02:00:00                                  8.013877   \n",
       "2016-01-15 03:00:00                                  7.977324   \n",
       "2016-01-15 04:00:00                                  7.894242   \n",
       "\n",
       "                     secondary_cleaner.state.floatbank5_b_level  \\\n",
       "date                                                              \n",
       "2016-01-15 00:00:00                                 -500.470978   \n",
       "2016-01-15 01:00:00                                 -500.582168   \n",
       "2016-01-15 02:00:00                                 -500.517572   \n",
       "2016-01-15 03:00:00                                 -500.255908   \n",
       "2016-01-15 04:00:00                                 -500.356035   \n",
       "\n",
       "                     secondary_cleaner.state.floatbank6_a_air  \\\n",
       "date                                                            \n",
       "2016-01-15 00:00:00                                 14.151341   \n",
       "2016-01-15 01:00:00                                 13.998353   \n",
       "2016-01-15 02:00:00                                 14.028663   \n",
       "2016-01-15 03:00:00                                 14.005551   \n",
       "2016-01-15 04:00:00                                 13.996647   \n",
       "\n",
       "                     secondary_cleaner.state.floatbank6_a_level  \n",
       "date                                                             \n",
       "2016-01-15 00:00:00                                 -605.841980  \n",
       "2016-01-15 01:00:00                                 -599.787184  \n",
       "2016-01-15 02:00:00                                 -601.427363  \n",
       "2016-01-15 03:00:00                                 -599.996129  \n",
       "2016-01-15 04:00:00                                 -601.496691  \n",
       "\n",
       "[5 rows x 86 columns]"
      ]
     },
     "metadata": {},
     "output_type": "display_data"
    },
    {
     "name": "stdout",
     "output_type": "stream",
     "text": [
      "<class 'pandas.core.frame.DataFrame'>\n",
      "Index: 14149 entries, 2016-01-15 00:00:00 to 2018-08-18 10:59:59\n",
      "Data columns (total 86 columns):\n",
      " #   Column                                              Non-Null Count  Dtype  \n",
      "---  ------                                              --------------  -----  \n",
      " 0   final.output.concentrate_ag                         14148 non-null  float64\n",
      " 1   final.output.concentrate_pb                         14148 non-null  float64\n",
      " 2   final.output.concentrate_sol                        13938 non-null  float64\n",
      " 3   final.output.concentrate_au                         14149 non-null  float64\n",
      " 4   final.output.recovery                               14149 non-null  float64\n",
      " 5   final.output.tail_ag                                14149 non-null  float64\n",
      " 6   final.output.tail_pb                                14049 non-null  float64\n",
      " 7   final.output.tail_sol                               14144 non-null  float64\n",
      " 8   final.output.tail_au                                14149 non-null  float64\n",
      " 9   primary_cleaner.input.sulfate                       14129 non-null  float64\n",
      " 10  primary_cleaner.input.depressant                    14117 non-null  float64\n",
      " 11  primary_cleaner.input.feed_size                     14149 non-null  float64\n",
      " 12  primary_cleaner.input.xanthate                      14049 non-null  float64\n",
      " 13  primary_cleaner.output.concentrate_ag               14149 non-null  float64\n",
      " 14  primary_cleaner.output.concentrate_pb               14063 non-null  float64\n",
      " 15  primary_cleaner.output.concentrate_sol              13863 non-null  float64\n",
      " 16  primary_cleaner.output.concentrate_au               14149 non-null  float64\n",
      " 17  primary_cleaner.output.tail_ag                      14148 non-null  float64\n",
      " 18  primary_cleaner.output.tail_pb                      14134 non-null  float64\n",
      " 19  primary_cleaner.output.tail_sol                     14103 non-null  float64\n",
      " 20  primary_cleaner.output.tail_au                      14149 non-null  float64\n",
      " 21  primary_cleaner.state.floatbank8_a_air              14145 non-null  float64\n",
      " 22  primary_cleaner.state.floatbank8_a_level            14148 non-null  float64\n",
      " 23  primary_cleaner.state.floatbank8_b_air              14145 non-null  float64\n",
      " 24  primary_cleaner.state.floatbank8_b_level            14148 non-null  float64\n",
      " 25  primary_cleaner.state.floatbank8_c_air              14147 non-null  float64\n",
      " 26  primary_cleaner.state.floatbank8_c_level            14148 non-null  float64\n",
      " 27  primary_cleaner.state.floatbank8_d_air              14146 non-null  float64\n",
      " 28  primary_cleaner.state.floatbank8_d_level            14148 non-null  float64\n",
      " 29  rougher.calculation.sulfate_to_au_concentrate       14148 non-null  float64\n",
      " 30  rougher.calculation.floatbank10_sulfate_to_au_feed  14148 non-null  float64\n",
      " 31  rougher.calculation.floatbank11_sulfate_to_au_feed  14148 non-null  float64\n",
      " 32  rougher.calculation.au_pb_ratio                     14149 non-null  float64\n",
      " 33  rougher.input.feed_ag                               14149 non-null  float64\n",
      " 34  rougher.input.feed_pb                               14049 non-null  float64\n",
      " 35  rougher.input.feed_rate                             14141 non-null  float64\n",
      " 36  rougher.input.feed_size                             14005 non-null  float64\n",
      " 37  rougher.input.feed_sol                              14071 non-null  float64\n",
      " 38  rougher.input.feed_au                               14149 non-null  float64\n",
      " 39  rougher.input.floatbank10_sulfate                   14120 non-null  float64\n",
      " 40  rougher.input.floatbank10_xanthate                  14141 non-null  float64\n",
      " 41  rougher.input.floatbank11_sulfate                   14113 non-null  float64\n",
      " 42  rougher.input.floatbank11_xanthate                  13721 non-null  float64\n",
      " 43  rougher.output.concentrate_ag                       14149 non-null  float64\n",
      " 44  rougher.output.concentrate_pb                       14149 non-null  float64\n",
      " 45  rougher.output.concentrate_sol                      14127 non-null  float64\n",
      " 46  rougher.output.concentrate_au                       14149 non-null  float64\n",
      " 47  rougher.output.recovery                             14149 non-null  float64\n",
      " 48  rougher.output.tail_ag                              14148 non-null  float64\n",
      " 49  rougher.output.tail_pb                              14149 non-null  float64\n",
      " 50  rougher.output.tail_sol                             14149 non-null  float64\n",
      " 51  rougher.output.tail_au                              14149 non-null  float64\n",
      " 52  rougher.state.floatbank10_a_air                     14148 non-null  float64\n",
      " 53  rougher.state.floatbank10_a_level                   14148 non-null  float64\n",
      " 54  rougher.state.floatbank10_b_air                     14148 non-null  float64\n",
      " 55  rougher.state.floatbank10_b_level                   14148 non-null  float64\n",
      " 56  rougher.state.floatbank10_c_air                     14148 non-null  float64\n",
      " 57  rougher.state.floatbank10_c_level                   14148 non-null  float64\n",
      " 58  rougher.state.floatbank10_d_air                     14149 non-null  float64\n",
      " 59  rougher.state.floatbank10_d_level                   14149 non-null  float64\n",
      " 60  rougher.state.floatbank10_e_air                     13713 non-null  float64\n",
      " 61  rougher.state.floatbank10_e_level                   14149 non-null  float64\n",
      " 62  rougher.state.floatbank10_f_air                     14149 non-null  float64\n",
      " 63  rougher.state.floatbank10_f_level                   14149 non-null  float64\n",
      " 64  secondary_cleaner.output.tail_ag                    14147 non-null  float64\n",
      " 65  secondary_cleaner.output.tail_pb                    14139 non-null  float64\n",
      " 66  secondary_cleaner.output.tail_sol                   12544 non-null  float64\n",
      " 67  secondary_cleaner.output.tail_au                    14149 non-null  float64\n",
      " 68  secondary_cleaner.state.floatbank2_a_air            13932 non-null  float64\n",
      " 69  secondary_cleaner.state.floatbank2_a_level          14148 non-null  float64\n",
      " 70  secondary_cleaner.state.floatbank2_b_air            14128 non-null  float64\n",
      " 71  secondary_cleaner.state.floatbank2_b_level          14148 non-null  float64\n",
      " 72  secondary_cleaner.state.floatbank3_a_air            14145 non-null  float64\n",
      " 73  secondary_cleaner.state.floatbank3_a_level          14148 non-null  float64\n",
      " 74  secondary_cleaner.state.floatbank3_b_air            14148 non-null  float64\n",
      " 75  secondary_cleaner.state.floatbank3_b_level          14148 non-null  float64\n",
      " 76  secondary_cleaner.state.floatbank4_a_air            14143 non-null  float64\n",
      " 77  secondary_cleaner.state.floatbank4_a_level          14148 non-null  float64\n",
      " 78  secondary_cleaner.state.floatbank4_b_air            14148 non-null  float64\n",
      " 79  secondary_cleaner.state.floatbank4_b_level          14148 non-null  float64\n",
      " 80  secondary_cleaner.state.floatbank5_a_air            14148 non-null  float64\n",
      " 81  secondary_cleaner.state.floatbank5_a_level          14148 non-null  float64\n",
      " 82  secondary_cleaner.state.floatbank5_b_air            14148 non-null  float64\n",
      " 83  secondary_cleaner.state.floatbank5_b_level          14148 non-null  float64\n",
      " 84  secondary_cleaner.state.floatbank6_a_air            14147 non-null  float64\n",
      " 85  secondary_cleaner.state.floatbank6_a_level          14148 non-null  float64\n",
      "dtypes: float64(86)\n",
      "memory usage: 9.4+ MB\n"
     ]
    }
   ],
   "source": [
    "inf(gold_recovery_train_new)"
   ]
  },
  {
   "cell_type": "code",
   "execution_count": 9,
   "metadata": {
    "scrolled": true
   },
   "outputs": [
    {
     "data": {
      "text/html": [
       "<div>\n",
       "<style scoped>\n",
       "    .dataframe tbody tr th:only-of-type {\n",
       "        vertical-align: middle;\n",
       "    }\n",
       "\n",
       "    .dataframe tbody tr th {\n",
       "        vertical-align: top;\n",
       "    }\n",
       "\n",
       "    .dataframe thead th {\n",
       "        text-align: right;\n",
       "    }\n",
       "</style>\n",
       "<table border=\"1\" class=\"dataframe\">\n",
       "  <thead>\n",
       "    <tr style=\"text-align: right;\">\n",
       "      <th></th>\n",
       "      <th>primary_cleaner.input.sulfate</th>\n",
       "      <th>primary_cleaner.input.depressant</th>\n",
       "      <th>primary_cleaner.input.feed_size</th>\n",
       "      <th>primary_cleaner.input.xanthate</th>\n",
       "      <th>primary_cleaner.state.floatbank8_a_air</th>\n",
       "      <th>primary_cleaner.state.floatbank8_a_level</th>\n",
       "      <th>primary_cleaner.state.floatbank8_b_air</th>\n",
       "      <th>primary_cleaner.state.floatbank8_b_level</th>\n",
       "      <th>primary_cleaner.state.floatbank8_c_air</th>\n",
       "      <th>primary_cleaner.state.floatbank8_c_level</th>\n",
       "      <th>...</th>\n",
       "      <th>secondary_cleaner.state.floatbank4_a_air</th>\n",
       "      <th>secondary_cleaner.state.floatbank4_a_level</th>\n",
       "      <th>secondary_cleaner.state.floatbank4_b_air</th>\n",
       "      <th>secondary_cleaner.state.floatbank4_b_level</th>\n",
       "      <th>secondary_cleaner.state.floatbank5_a_air</th>\n",
       "      <th>secondary_cleaner.state.floatbank5_a_level</th>\n",
       "      <th>secondary_cleaner.state.floatbank5_b_air</th>\n",
       "      <th>secondary_cleaner.state.floatbank5_b_level</th>\n",
       "      <th>secondary_cleaner.state.floatbank6_a_air</th>\n",
       "      <th>secondary_cleaner.state.floatbank6_a_level</th>\n",
       "    </tr>\n",
       "  </thead>\n",
       "  <tbody>\n",
       "    <tr>\n",
       "      <th>count</th>\n",
       "      <td>5286.000000</td>\n",
       "      <td>5285.000000</td>\n",
       "      <td>5290.000000</td>\n",
       "      <td>5286.000000</td>\n",
       "      <td>5.290000e+03</td>\n",
       "      <td>5290.000000</td>\n",
       "      <td>5.290000e+03</td>\n",
       "      <td>5290.000000</td>\n",
       "      <td>5.290000e+03</td>\n",
       "      <td>5290.000000</td>\n",
       "      <td>...</td>\n",
       "      <td>5.290000e+03</td>\n",
       "      <td>5290.000000</td>\n",
       "      <td>5.290000e+03</td>\n",
       "      <td>5290.000000</td>\n",
       "      <td>5290.000000</td>\n",
       "      <td>5290.000000</td>\n",
       "      <td>5290.000000</td>\n",
       "      <td>5290.000000</td>\n",
       "      <td>5290.000000</td>\n",
       "      <td>5290.000000</td>\n",
       "    </tr>\n",
       "    <tr>\n",
       "      <th>mean</th>\n",
       "      <td>174.839652</td>\n",
       "      <td>8.683596</td>\n",
       "      <td>7.266339</td>\n",
       "      <td>1.383803</td>\n",
       "      <td>1.539494e+03</td>\n",
       "      <td>-497.665883</td>\n",
       "      <td>1.545174e+03</td>\n",
       "      <td>-500.273098</td>\n",
       "      <td>1.527272e+03</td>\n",
       "      <td>-498.330680</td>\n",
       "      <td>...</td>\n",
       "      <td>1.632007e+01</td>\n",
       "      <td>-505.144570</td>\n",
       "      <td>1.373544e+01</td>\n",
       "      <td>-463.349858</td>\n",
       "      <td>12.804186</td>\n",
       "      <td>-501.329122</td>\n",
       "      <td>9.881145</td>\n",
       "      <td>-495.663398</td>\n",
       "      <td>17.304935</td>\n",
       "      <td>-501.793193</td>\n",
       "    </tr>\n",
       "    <tr>\n",
       "      <th>std</th>\n",
       "      <td>43.027080</td>\n",
       "      <td>3.072050</td>\n",
       "      <td>0.610219</td>\n",
       "      <td>0.643474</td>\n",
       "      <td>1.167979e+02</td>\n",
       "      <td>19.952431</td>\n",
       "      <td>1.222246e+02</td>\n",
       "      <td>32.968307</td>\n",
       "      <td>1.225380e+02</td>\n",
       "      <td>21.964876</td>\n",
       "      <td>...</td>\n",
       "      <td>3.493583e+00</td>\n",
       "      <td>31.427337</td>\n",
       "      <td>3.430484e+00</td>\n",
       "      <td>86.189107</td>\n",
       "      <td>3.026591</td>\n",
       "      <td>17.951495</td>\n",
       "      <td>2.868205</td>\n",
       "      <td>34.535007</td>\n",
       "      <td>4.536544</td>\n",
       "      <td>39.044215</td>\n",
       "    </tr>\n",
       "    <tr>\n",
       "      <th>min</th>\n",
       "      <td>2.566156</td>\n",
       "      <td>0.003839</td>\n",
       "      <td>5.650000</td>\n",
       "      <td>0.004984</td>\n",
       "      <td>5.445860e-32</td>\n",
       "      <td>-795.316337</td>\n",
       "      <td>6.647490e-32</td>\n",
       "      <td>-799.997015</td>\n",
       "      <td>4.033736e-32</td>\n",
       "      <td>-799.960571</td>\n",
       "      <td>...</td>\n",
       "      <td>1.079872e-16</td>\n",
       "      <td>-799.798523</td>\n",
       "      <td>2.489718e-17</td>\n",
       "      <td>-800.836914</td>\n",
       "      <td>0.069227</td>\n",
       "      <td>-797.323986</td>\n",
       "      <td>0.528083</td>\n",
       "      <td>-800.220337</td>\n",
       "      <td>-0.079426</td>\n",
       "      <td>-809.741464</td>\n",
       "    </tr>\n",
       "    <tr>\n",
       "      <th>25%</th>\n",
       "      <td>147.121401</td>\n",
       "      <td>6.489555</td>\n",
       "      <td>6.890000</td>\n",
       "      <td>0.907623</td>\n",
       "      <td>1.498936e+03</td>\n",
       "      <td>-500.357298</td>\n",
       "      <td>1.498971e+03</td>\n",
       "      <td>-500.703002</td>\n",
       "      <td>1.473230e+03</td>\n",
       "      <td>-501.018117</td>\n",
       "      <td>...</td>\n",
       "      <td>1.403618e+01</td>\n",
       "      <td>-500.868258</td>\n",
       "      <td>1.202862e+01</td>\n",
       "      <td>-500.323028</td>\n",
       "      <td>10.914838</td>\n",
       "      <td>-500.726841</td>\n",
       "      <td>8.036719</td>\n",
       "      <td>-500.194668</td>\n",
       "      <td>13.997317</td>\n",
       "      <td>-500.690984</td>\n",
       "    </tr>\n",
       "    <tr>\n",
       "      <th>50%</th>\n",
       "      <td>177.828489</td>\n",
       "      <td>8.052207</td>\n",
       "      <td>7.250000</td>\n",
       "      <td>1.197610</td>\n",
       "      <td>1.585129e+03</td>\n",
       "      <td>-499.969164</td>\n",
       "      <td>1.595622e+03</td>\n",
       "      <td>-500.028514</td>\n",
       "      <td>1.549595e+03</td>\n",
       "      <td>-500.017711</td>\n",
       "      <td>...</td>\n",
       "      <td>1.700847e+01</td>\n",
       "      <td>-500.115727</td>\n",
       "      <td>1.496486e+01</td>\n",
       "      <td>-499.576513</td>\n",
       "      <td>12.954182</td>\n",
       "      <td>-499.990332</td>\n",
       "      <td>10.004301</td>\n",
       "      <td>-499.990535</td>\n",
       "      <td>16.014935</td>\n",
       "      <td>-500.007126</td>\n",
       "    </tr>\n",
       "    <tr>\n",
       "      <th>75%</th>\n",
       "      <td>208.125438</td>\n",
       "      <td>10.027764</td>\n",
       "      <td>7.600000</td>\n",
       "      <td>1.797819</td>\n",
       "      <td>1.602077e+03</td>\n",
       "      <td>-499.568951</td>\n",
       "      <td>1.602324e+03</td>\n",
       "      <td>-499.293257</td>\n",
       "      <td>1.601144e+03</td>\n",
       "      <td>-498.994130</td>\n",
       "      <td>...</td>\n",
       "      <td>1.803862e+01</td>\n",
       "      <td>-499.404224</td>\n",
       "      <td>1.596213e+01</td>\n",
       "      <td>-400.933805</td>\n",
       "      <td>15.097528</td>\n",
       "      <td>-499.283191</td>\n",
       "      <td>11.997467</td>\n",
       "      <td>-499.719913</td>\n",
       "      <td>21.020013</td>\n",
       "      <td>-499.373018</td>\n",
       "    </tr>\n",
       "    <tr>\n",
       "      <th>max</th>\n",
       "      <td>265.983123</td>\n",
       "      <td>40.000000</td>\n",
       "      <td>15.500000</td>\n",
       "      <td>4.102454</td>\n",
       "      <td>2.103104e+03</td>\n",
       "      <td>-57.195404</td>\n",
       "      <td>1.813084e+03</td>\n",
       "      <td>-142.527229</td>\n",
       "      <td>1.715054e+03</td>\n",
       "      <td>-150.937035</td>\n",
       "      <td>...</td>\n",
       "      <td>3.005180e+01</td>\n",
       "      <td>-401.565212</td>\n",
       "      <td>3.126971e+01</td>\n",
       "      <td>-6.506986</td>\n",
       "      <td>25.258848</td>\n",
       "      <td>-244.483566</td>\n",
       "      <td>14.086866</td>\n",
       "      <td>-137.740004</td>\n",
       "      <td>26.705889</td>\n",
       "      <td>-123.307487</td>\n",
       "    </tr>\n",
       "  </tbody>\n",
       "</table>\n",
       "<p>8 rows × 52 columns</p>\n",
       "</div>"
      ],
      "text/plain": [
       "       primary_cleaner.input.sulfate  primary_cleaner.input.depressant  \\\n",
       "count                    5286.000000                       5285.000000   \n",
       "mean                      174.839652                          8.683596   \n",
       "std                        43.027080                          3.072050   \n",
       "min                         2.566156                          0.003839   \n",
       "25%                       147.121401                          6.489555   \n",
       "50%                       177.828489                          8.052207   \n",
       "75%                       208.125438                         10.027764   \n",
       "max                       265.983123                         40.000000   \n",
       "\n",
       "       primary_cleaner.input.feed_size  primary_cleaner.input.xanthate  \\\n",
       "count                      5290.000000                     5286.000000   \n",
       "mean                          7.266339                        1.383803   \n",
       "std                           0.610219                        0.643474   \n",
       "min                           5.650000                        0.004984   \n",
       "25%                           6.890000                        0.907623   \n",
       "50%                           7.250000                        1.197610   \n",
       "75%                           7.600000                        1.797819   \n",
       "max                          15.500000                        4.102454   \n",
       "\n",
       "       primary_cleaner.state.floatbank8_a_air  \\\n",
       "count                            5.290000e+03   \n",
       "mean                             1.539494e+03   \n",
       "std                              1.167979e+02   \n",
       "min                              5.445860e-32   \n",
       "25%                              1.498936e+03   \n",
       "50%                              1.585129e+03   \n",
       "75%                              1.602077e+03   \n",
       "max                              2.103104e+03   \n",
       "\n",
       "       primary_cleaner.state.floatbank8_a_level  \\\n",
       "count                               5290.000000   \n",
       "mean                                -497.665883   \n",
       "std                                   19.952431   \n",
       "min                                 -795.316337   \n",
       "25%                                 -500.357298   \n",
       "50%                                 -499.969164   \n",
       "75%                                 -499.568951   \n",
       "max                                  -57.195404   \n",
       "\n",
       "       primary_cleaner.state.floatbank8_b_air  \\\n",
       "count                            5.290000e+03   \n",
       "mean                             1.545174e+03   \n",
       "std                              1.222246e+02   \n",
       "min                              6.647490e-32   \n",
       "25%                              1.498971e+03   \n",
       "50%                              1.595622e+03   \n",
       "75%                              1.602324e+03   \n",
       "max                              1.813084e+03   \n",
       "\n",
       "       primary_cleaner.state.floatbank8_b_level  \\\n",
       "count                               5290.000000   \n",
       "mean                                -500.273098   \n",
       "std                                   32.968307   \n",
       "min                                 -799.997015   \n",
       "25%                                 -500.703002   \n",
       "50%                                 -500.028514   \n",
       "75%                                 -499.293257   \n",
       "max                                 -142.527229   \n",
       "\n",
       "       primary_cleaner.state.floatbank8_c_air  \\\n",
       "count                            5.290000e+03   \n",
       "mean                             1.527272e+03   \n",
       "std                              1.225380e+02   \n",
       "min                              4.033736e-32   \n",
       "25%                              1.473230e+03   \n",
       "50%                              1.549595e+03   \n",
       "75%                              1.601144e+03   \n",
       "max                              1.715054e+03   \n",
       "\n",
       "       primary_cleaner.state.floatbank8_c_level  ...  \\\n",
       "count                               5290.000000  ...   \n",
       "mean                                -498.330680  ...   \n",
       "std                                   21.964876  ...   \n",
       "min                                 -799.960571  ...   \n",
       "25%                                 -501.018117  ...   \n",
       "50%                                 -500.017711  ...   \n",
       "75%                                 -498.994130  ...   \n",
       "max                                 -150.937035  ...   \n",
       "\n",
       "       secondary_cleaner.state.floatbank4_a_air  \\\n",
       "count                              5.290000e+03   \n",
       "mean                               1.632007e+01   \n",
       "std                                3.493583e+00   \n",
       "min                                1.079872e-16   \n",
       "25%                                1.403618e+01   \n",
       "50%                                1.700847e+01   \n",
       "75%                                1.803862e+01   \n",
       "max                                3.005180e+01   \n",
       "\n",
       "       secondary_cleaner.state.floatbank4_a_level  \\\n",
       "count                                 5290.000000   \n",
       "mean                                  -505.144570   \n",
       "std                                     31.427337   \n",
       "min                                   -799.798523   \n",
       "25%                                   -500.868258   \n",
       "50%                                   -500.115727   \n",
       "75%                                   -499.404224   \n",
       "max                                   -401.565212   \n",
       "\n",
       "       secondary_cleaner.state.floatbank4_b_air  \\\n",
       "count                              5.290000e+03   \n",
       "mean                               1.373544e+01   \n",
       "std                                3.430484e+00   \n",
       "min                                2.489718e-17   \n",
       "25%                                1.202862e+01   \n",
       "50%                                1.496486e+01   \n",
       "75%                                1.596213e+01   \n",
       "max                                3.126971e+01   \n",
       "\n",
       "       secondary_cleaner.state.floatbank4_b_level  \\\n",
       "count                                 5290.000000   \n",
       "mean                                  -463.349858   \n",
       "std                                     86.189107   \n",
       "min                                   -800.836914   \n",
       "25%                                   -500.323028   \n",
       "50%                                   -499.576513   \n",
       "75%                                   -400.933805   \n",
       "max                                     -6.506986   \n",
       "\n",
       "       secondary_cleaner.state.floatbank5_a_air  \\\n",
       "count                               5290.000000   \n",
       "mean                                  12.804186   \n",
       "std                                    3.026591   \n",
       "min                                    0.069227   \n",
       "25%                                   10.914838   \n",
       "50%                                   12.954182   \n",
       "75%                                   15.097528   \n",
       "max                                   25.258848   \n",
       "\n",
       "       secondary_cleaner.state.floatbank5_a_level  \\\n",
       "count                                 5290.000000   \n",
       "mean                                  -501.329122   \n",
       "std                                     17.951495   \n",
       "min                                   -797.323986   \n",
       "25%                                   -500.726841   \n",
       "50%                                   -499.990332   \n",
       "75%                                   -499.283191   \n",
       "max                                   -244.483566   \n",
       "\n",
       "       secondary_cleaner.state.floatbank5_b_air  \\\n",
       "count                               5290.000000   \n",
       "mean                                   9.881145   \n",
       "std                                    2.868205   \n",
       "min                                    0.528083   \n",
       "25%                                    8.036719   \n",
       "50%                                   10.004301   \n",
       "75%                                   11.997467   \n",
       "max                                   14.086866   \n",
       "\n",
       "       secondary_cleaner.state.floatbank5_b_level  \\\n",
       "count                                 5290.000000   \n",
       "mean                                  -495.663398   \n",
       "std                                     34.535007   \n",
       "min                                   -800.220337   \n",
       "25%                                   -500.194668   \n",
       "50%                                   -499.990535   \n",
       "75%                                   -499.719913   \n",
       "max                                   -137.740004   \n",
       "\n",
       "       secondary_cleaner.state.floatbank6_a_air  \\\n",
       "count                               5290.000000   \n",
       "mean                                  17.304935   \n",
       "std                                    4.536544   \n",
       "min                                   -0.079426   \n",
       "25%                                   13.997317   \n",
       "50%                                   16.014935   \n",
       "75%                                   21.020013   \n",
       "max                                   26.705889   \n",
       "\n",
       "       secondary_cleaner.state.floatbank6_a_level  \n",
       "count                                 5290.000000  \n",
       "mean                                  -501.793193  \n",
       "std                                     39.044215  \n",
       "min                                   -809.741464  \n",
       "25%                                   -500.690984  \n",
       "50%                                   -500.007126  \n",
       "75%                                   -499.373018  \n",
       "max                                   -123.307487  \n",
       "\n",
       "[8 rows x 52 columns]"
      ]
     },
     "metadata": {},
     "output_type": "display_data"
    },
    {
     "data": {
      "text/html": [
       "<div>\n",
       "<style scoped>\n",
       "    .dataframe tbody tr th:only-of-type {\n",
       "        vertical-align: middle;\n",
       "    }\n",
       "\n",
       "    .dataframe tbody tr th {\n",
       "        vertical-align: top;\n",
       "    }\n",
       "\n",
       "    .dataframe thead th {\n",
       "        text-align: right;\n",
       "    }\n",
       "</style>\n",
       "<table border=\"1\" class=\"dataframe\">\n",
       "  <thead>\n",
       "    <tr style=\"text-align: right;\">\n",
       "      <th></th>\n",
       "      <th>primary_cleaner.input.sulfate</th>\n",
       "      <th>primary_cleaner.input.depressant</th>\n",
       "      <th>primary_cleaner.input.feed_size</th>\n",
       "      <th>primary_cleaner.input.xanthate</th>\n",
       "      <th>primary_cleaner.state.floatbank8_a_air</th>\n",
       "      <th>primary_cleaner.state.floatbank8_a_level</th>\n",
       "      <th>primary_cleaner.state.floatbank8_b_air</th>\n",
       "      <th>primary_cleaner.state.floatbank8_b_level</th>\n",
       "      <th>primary_cleaner.state.floatbank8_c_air</th>\n",
       "      <th>primary_cleaner.state.floatbank8_c_level</th>\n",
       "      <th>...</th>\n",
       "      <th>secondary_cleaner.state.floatbank4_a_air</th>\n",
       "      <th>secondary_cleaner.state.floatbank4_a_level</th>\n",
       "      <th>secondary_cleaner.state.floatbank4_b_air</th>\n",
       "      <th>secondary_cleaner.state.floatbank4_b_level</th>\n",
       "      <th>secondary_cleaner.state.floatbank5_a_air</th>\n",
       "      <th>secondary_cleaner.state.floatbank5_a_level</th>\n",
       "      <th>secondary_cleaner.state.floatbank5_b_air</th>\n",
       "      <th>secondary_cleaner.state.floatbank5_b_level</th>\n",
       "      <th>secondary_cleaner.state.floatbank6_a_air</th>\n",
       "      <th>secondary_cleaner.state.floatbank6_a_level</th>\n",
       "    </tr>\n",
       "    <tr>\n",
       "      <th>date</th>\n",
       "      <th></th>\n",
       "      <th></th>\n",
       "      <th></th>\n",
       "      <th></th>\n",
       "      <th></th>\n",
       "      <th></th>\n",
       "      <th></th>\n",
       "      <th></th>\n",
       "      <th></th>\n",
       "      <th></th>\n",
       "      <th></th>\n",
       "      <th></th>\n",
       "      <th></th>\n",
       "      <th></th>\n",
       "      <th></th>\n",
       "      <th></th>\n",
       "      <th></th>\n",
       "      <th></th>\n",
       "      <th></th>\n",
       "      <th></th>\n",
       "      <th></th>\n",
       "    </tr>\n",
       "  </thead>\n",
       "  <tbody>\n",
       "    <tr>\n",
       "      <th>2016-09-01 00:59:59</th>\n",
       "      <td>210.800909</td>\n",
       "      <td>14.993118</td>\n",
       "      <td>8.080000</td>\n",
       "      <td>1.005021</td>\n",
       "      <td>1398.981301</td>\n",
       "      <td>-500.225577</td>\n",
       "      <td>1399.144926</td>\n",
       "      <td>-499.919735</td>\n",
       "      <td>1400.102998</td>\n",
       "      <td>-500.704369</td>\n",
       "      <td>...</td>\n",
       "      <td>12.023554</td>\n",
       "      <td>-497.795834</td>\n",
       "      <td>8.016656</td>\n",
       "      <td>-501.289139</td>\n",
       "      <td>7.946562</td>\n",
       "      <td>-432.317850</td>\n",
       "      <td>4.872511</td>\n",
       "      <td>-500.037437</td>\n",
       "      <td>26.705889</td>\n",
       "      <td>-499.709414</td>\n",
       "    </tr>\n",
       "    <tr>\n",
       "      <th>2016-09-01 01:59:59</th>\n",
       "      <td>215.392455</td>\n",
       "      <td>14.987471</td>\n",
       "      <td>8.080000</td>\n",
       "      <td>0.990469</td>\n",
       "      <td>1398.777912</td>\n",
       "      <td>-500.057435</td>\n",
       "      <td>1398.055362</td>\n",
       "      <td>-499.778182</td>\n",
       "      <td>1396.151033</td>\n",
       "      <td>-499.240168</td>\n",
       "      <td>...</td>\n",
       "      <td>12.058140</td>\n",
       "      <td>-498.695773</td>\n",
       "      <td>8.130979</td>\n",
       "      <td>-499.634209</td>\n",
       "      <td>7.958270</td>\n",
       "      <td>-525.839648</td>\n",
       "      <td>4.878850</td>\n",
       "      <td>-500.162375</td>\n",
       "      <td>25.019940</td>\n",
       "      <td>-499.819438</td>\n",
       "    </tr>\n",
       "    <tr>\n",
       "      <th>2016-09-01 02:59:59</th>\n",
       "      <td>215.259946</td>\n",
       "      <td>12.884934</td>\n",
       "      <td>7.786667</td>\n",
       "      <td>0.996043</td>\n",
       "      <td>1398.493666</td>\n",
       "      <td>-500.868360</td>\n",
       "      <td>1398.860436</td>\n",
       "      <td>-499.764529</td>\n",
       "      <td>1398.075709</td>\n",
       "      <td>-502.151509</td>\n",
       "      <td>...</td>\n",
       "      <td>11.962366</td>\n",
       "      <td>-498.767484</td>\n",
       "      <td>8.096893</td>\n",
       "      <td>-500.827423</td>\n",
       "      <td>8.071056</td>\n",
       "      <td>-500.801673</td>\n",
       "      <td>4.905125</td>\n",
       "      <td>-499.828510</td>\n",
       "      <td>24.994862</td>\n",
       "      <td>-500.622559</td>\n",
       "    </tr>\n",
       "    <tr>\n",
       "      <th>2016-09-01 03:59:59</th>\n",
       "      <td>215.336236</td>\n",
       "      <td>12.006805</td>\n",
       "      <td>7.640000</td>\n",
       "      <td>0.863514</td>\n",
       "      <td>1399.618111</td>\n",
       "      <td>-498.863574</td>\n",
       "      <td>1397.440120</td>\n",
       "      <td>-499.211024</td>\n",
       "      <td>1400.129303</td>\n",
       "      <td>-498.355873</td>\n",
       "      <td>...</td>\n",
       "      <td>12.033091</td>\n",
       "      <td>-498.350935</td>\n",
       "      <td>8.074946</td>\n",
       "      <td>-499.474407</td>\n",
       "      <td>7.897085</td>\n",
       "      <td>-500.868509</td>\n",
       "      <td>4.931400</td>\n",
       "      <td>-499.963623</td>\n",
       "      <td>24.948919</td>\n",
       "      <td>-498.709987</td>\n",
       "    </tr>\n",
       "    <tr>\n",
       "      <th>2016-09-01 04:59:59</th>\n",
       "      <td>199.099327</td>\n",
       "      <td>10.682530</td>\n",
       "      <td>7.530000</td>\n",
       "      <td>0.805575</td>\n",
       "      <td>1401.268123</td>\n",
       "      <td>-500.808305</td>\n",
       "      <td>1398.128818</td>\n",
       "      <td>-499.504543</td>\n",
       "      <td>1402.172226</td>\n",
       "      <td>-500.810606</td>\n",
       "      <td>...</td>\n",
       "      <td>12.025367</td>\n",
       "      <td>-500.786497</td>\n",
       "      <td>8.054678</td>\n",
       "      <td>-500.397500</td>\n",
       "      <td>8.107890</td>\n",
       "      <td>-509.526725</td>\n",
       "      <td>4.957674</td>\n",
       "      <td>-500.360026</td>\n",
       "      <td>25.003331</td>\n",
       "      <td>-500.856333</td>\n",
       "    </tr>\n",
       "  </tbody>\n",
       "</table>\n",
       "<p>5 rows × 52 columns</p>\n",
       "</div>"
      ],
      "text/plain": [
       "                     primary_cleaner.input.sulfate  \\\n",
       "date                                                 \n",
       "2016-09-01 00:59:59                     210.800909   \n",
       "2016-09-01 01:59:59                     215.392455   \n",
       "2016-09-01 02:59:59                     215.259946   \n",
       "2016-09-01 03:59:59                     215.336236   \n",
       "2016-09-01 04:59:59                     199.099327   \n",
       "\n",
       "                     primary_cleaner.input.depressant  \\\n",
       "date                                                    \n",
       "2016-09-01 00:59:59                         14.993118   \n",
       "2016-09-01 01:59:59                         14.987471   \n",
       "2016-09-01 02:59:59                         12.884934   \n",
       "2016-09-01 03:59:59                         12.006805   \n",
       "2016-09-01 04:59:59                         10.682530   \n",
       "\n",
       "                     primary_cleaner.input.feed_size  \\\n",
       "date                                                   \n",
       "2016-09-01 00:59:59                         8.080000   \n",
       "2016-09-01 01:59:59                         8.080000   \n",
       "2016-09-01 02:59:59                         7.786667   \n",
       "2016-09-01 03:59:59                         7.640000   \n",
       "2016-09-01 04:59:59                         7.530000   \n",
       "\n",
       "                     primary_cleaner.input.xanthate  \\\n",
       "date                                                  \n",
       "2016-09-01 00:59:59                        1.005021   \n",
       "2016-09-01 01:59:59                        0.990469   \n",
       "2016-09-01 02:59:59                        0.996043   \n",
       "2016-09-01 03:59:59                        0.863514   \n",
       "2016-09-01 04:59:59                        0.805575   \n",
       "\n",
       "                     primary_cleaner.state.floatbank8_a_air  \\\n",
       "date                                                          \n",
       "2016-09-01 00:59:59                             1398.981301   \n",
       "2016-09-01 01:59:59                             1398.777912   \n",
       "2016-09-01 02:59:59                             1398.493666   \n",
       "2016-09-01 03:59:59                             1399.618111   \n",
       "2016-09-01 04:59:59                             1401.268123   \n",
       "\n",
       "                     primary_cleaner.state.floatbank8_a_level  \\\n",
       "date                                                            \n",
       "2016-09-01 00:59:59                               -500.225577   \n",
       "2016-09-01 01:59:59                               -500.057435   \n",
       "2016-09-01 02:59:59                               -500.868360   \n",
       "2016-09-01 03:59:59                               -498.863574   \n",
       "2016-09-01 04:59:59                               -500.808305   \n",
       "\n",
       "                     primary_cleaner.state.floatbank8_b_air  \\\n",
       "date                                                          \n",
       "2016-09-01 00:59:59                             1399.144926   \n",
       "2016-09-01 01:59:59                             1398.055362   \n",
       "2016-09-01 02:59:59                             1398.860436   \n",
       "2016-09-01 03:59:59                             1397.440120   \n",
       "2016-09-01 04:59:59                             1398.128818   \n",
       "\n",
       "                     primary_cleaner.state.floatbank8_b_level  \\\n",
       "date                                                            \n",
       "2016-09-01 00:59:59                               -499.919735   \n",
       "2016-09-01 01:59:59                               -499.778182   \n",
       "2016-09-01 02:59:59                               -499.764529   \n",
       "2016-09-01 03:59:59                               -499.211024   \n",
       "2016-09-01 04:59:59                               -499.504543   \n",
       "\n",
       "                     primary_cleaner.state.floatbank8_c_air  \\\n",
       "date                                                          \n",
       "2016-09-01 00:59:59                             1400.102998   \n",
       "2016-09-01 01:59:59                             1396.151033   \n",
       "2016-09-01 02:59:59                             1398.075709   \n",
       "2016-09-01 03:59:59                             1400.129303   \n",
       "2016-09-01 04:59:59                             1402.172226   \n",
       "\n",
       "                     primary_cleaner.state.floatbank8_c_level  ...  \\\n",
       "date                                                           ...   \n",
       "2016-09-01 00:59:59                               -500.704369  ...   \n",
       "2016-09-01 01:59:59                               -499.240168  ...   \n",
       "2016-09-01 02:59:59                               -502.151509  ...   \n",
       "2016-09-01 03:59:59                               -498.355873  ...   \n",
       "2016-09-01 04:59:59                               -500.810606  ...   \n",
       "\n",
       "                     secondary_cleaner.state.floatbank4_a_air  \\\n",
       "date                                                            \n",
       "2016-09-01 00:59:59                                 12.023554   \n",
       "2016-09-01 01:59:59                                 12.058140   \n",
       "2016-09-01 02:59:59                                 11.962366   \n",
       "2016-09-01 03:59:59                                 12.033091   \n",
       "2016-09-01 04:59:59                                 12.025367   \n",
       "\n",
       "                     secondary_cleaner.state.floatbank4_a_level  \\\n",
       "date                                                              \n",
       "2016-09-01 00:59:59                                 -497.795834   \n",
       "2016-09-01 01:59:59                                 -498.695773   \n",
       "2016-09-01 02:59:59                                 -498.767484   \n",
       "2016-09-01 03:59:59                                 -498.350935   \n",
       "2016-09-01 04:59:59                                 -500.786497   \n",
       "\n",
       "                     secondary_cleaner.state.floatbank4_b_air  \\\n",
       "date                                                            \n",
       "2016-09-01 00:59:59                                  8.016656   \n",
       "2016-09-01 01:59:59                                  8.130979   \n",
       "2016-09-01 02:59:59                                  8.096893   \n",
       "2016-09-01 03:59:59                                  8.074946   \n",
       "2016-09-01 04:59:59                                  8.054678   \n",
       "\n",
       "                     secondary_cleaner.state.floatbank4_b_level  \\\n",
       "date                                                              \n",
       "2016-09-01 00:59:59                                 -501.289139   \n",
       "2016-09-01 01:59:59                                 -499.634209   \n",
       "2016-09-01 02:59:59                                 -500.827423   \n",
       "2016-09-01 03:59:59                                 -499.474407   \n",
       "2016-09-01 04:59:59                                 -500.397500   \n",
       "\n",
       "                     secondary_cleaner.state.floatbank5_a_air  \\\n",
       "date                                                            \n",
       "2016-09-01 00:59:59                                  7.946562   \n",
       "2016-09-01 01:59:59                                  7.958270   \n",
       "2016-09-01 02:59:59                                  8.071056   \n",
       "2016-09-01 03:59:59                                  7.897085   \n",
       "2016-09-01 04:59:59                                  8.107890   \n",
       "\n",
       "                     secondary_cleaner.state.floatbank5_a_level  \\\n",
       "date                                                              \n",
       "2016-09-01 00:59:59                                 -432.317850   \n",
       "2016-09-01 01:59:59                                 -525.839648   \n",
       "2016-09-01 02:59:59                                 -500.801673   \n",
       "2016-09-01 03:59:59                                 -500.868509   \n",
       "2016-09-01 04:59:59                                 -509.526725   \n",
       "\n",
       "                     secondary_cleaner.state.floatbank5_b_air  \\\n",
       "date                                                            \n",
       "2016-09-01 00:59:59                                  4.872511   \n",
       "2016-09-01 01:59:59                                  4.878850   \n",
       "2016-09-01 02:59:59                                  4.905125   \n",
       "2016-09-01 03:59:59                                  4.931400   \n",
       "2016-09-01 04:59:59                                  4.957674   \n",
       "\n",
       "                     secondary_cleaner.state.floatbank5_b_level  \\\n",
       "date                                                              \n",
       "2016-09-01 00:59:59                                 -500.037437   \n",
       "2016-09-01 01:59:59                                 -500.162375   \n",
       "2016-09-01 02:59:59                                 -499.828510   \n",
       "2016-09-01 03:59:59                                 -499.963623   \n",
       "2016-09-01 04:59:59                                 -500.360026   \n",
       "\n",
       "                     secondary_cleaner.state.floatbank6_a_air  \\\n",
       "date                                                            \n",
       "2016-09-01 00:59:59                                 26.705889   \n",
       "2016-09-01 01:59:59                                 25.019940   \n",
       "2016-09-01 02:59:59                                 24.994862   \n",
       "2016-09-01 03:59:59                                 24.948919   \n",
       "2016-09-01 04:59:59                                 25.003331   \n",
       "\n",
       "                     secondary_cleaner.state.floatbank6_a_level  \n",
       "date                                                             \n",
       "2016-09-01 00:59:59                                 -499.709414  \n",
       "2016-09-01 01:59:59                                 -499.819438  \n",
       "2016-09-01 02:59:59                                 -500.622559  \n",
       "2016-09-01 03:59:59                                 -498.709987  \n",
       "2016-09-01 04:59:59                                 -500.856333  \n",
       "\n",
       "[5 rows x 52 columns]"
      ]
     },
     "metadata": {},
     "output_type": "display_data"
    },
    {
     "name": "stdout",
     "output_type": "stream",
     "text": [
      "<class 'pandas.core.frame.DataFrame'>\n",
      "Index: 5290 entries, 2016-09-01 00:59:59 to 2017-12-31 23:59:59\n",
      "Data columns (total 52 columns):\n",
      " #   Column                                      Non-Null Count  Dtype  \n",
      "---  ------                                      --------------  -----  \n",
      " 0   primary_cleaner.input.sulfate               5286 non-null   float64\n",
      " 1   primary_cleaner.input.depressant            5285 non-null   float64\n",
      " 2   primary_cleaner.input.feed_size             5290 non-null   float64\n",
      " 3   primary_cleaner.input.xanthate              5286 non-null   float64\n",
      " 4   primary_cleaner.state.floatbank8_a_air      5290 non-null   float64\n",
      " 5   primary_cleaner.state.floatbank8_a_level    5290 non-null   float64\n",
      " 6   primary_cleaner.state.floatbank8_b_air      5290 non-null   float64\n",
      " 7   primary_cleaner.state.floatbank8_b_level    5290 non-null   float64\n",
      " 8   primary_cleaner.state.floatbank8_c_air      5290 non-null   float64\n",
      " 9   primary_cleaner.state.floatbank8_c_level    5290 non-null   float64\n",
      " 10  primary_cleaner.state.floatbank8_d_air      5290 non-null   float64\n",
      " 11  primary_cleaner.state.floatbank8_d_level    5290 non-null   float64\n",
      " 12  rougher.input.feed_ag                       5290 non-null   float64\n",
      " 13  rougher.input.feed_pb                       5290 non-null   float64\n",
      " 14  rougher.input.feed_rate                     5287 non-null   float64\n",
      " 15  rougher.input.feed_size                     5289 non-null   float64\n",
      " 16  rougher.input.feed_sol                      5269 non-null   float64\n",
      " 17  rougher.input.feed_au                       5290 non-null   float64\n",
      " 18  rougher.input.floatbank10_sulfate           5285 non-null   float64\n",
      " 19  rougher.input.floatbank10_xanthate          5290 non-null   float64\n",
      " 20  rougher.input.floatbank11_sulfate           5282 non-null   float64\n",
      " 21  rougher.input.floatbank11_xanthate          5265 non-null   float64\n",
      " 22  rougher.state.floatbank10_a_air             5290 non-null   float64\n",
      " 23  rougher.state.floatbank10_a_level           5290 non-null   float64\n",
      " 24  rougher.state.floatbank10_b_air             5290 non-null   float64\n",
      " 25  rougher.state.floatbank10_b_level           5290 non-null   float64\n",
      " 26  rougher.state.floatbank10_c_air             5290 non-null   float64\n",
      " 27  rougher.state.floatbank10_c_level           5290 non-null   float64\n",
      " 28  rougher.state.floatbank10_d_air             5290 non-null   float64\n",
      " 29  rougher.state.floatbank10_d_level           5290 non-null   float64\n",
      " 30  rougher.state.floatbank10_e_air             5290 non-null   float64\n",
      " 31  rougher.state.floatbank10_e_level           5290 non-null   float64\n",
      " 32  rougher.state.floatbank10_f_air             5290 non-null   float64\n",
      " 33  rougher.state.floatbank10_f_level           5290 non-null   float64\n",
      " 34  secondary_cleaner.state.floatbank2_a_air    5287 non-null   float64\n",
      " 35  secondary_cleaner.state.floatbank2_a_level  5290 non-null   float64\n",
      " 36  secondary_cleaner.state.floatbank2_b_air    5288 non-null   float64\n",
      " 37  secondary_cleaner.state.floatbank2_b_level  5290 non-null   float64\n",
      " 38  secondary_cleaner.state.floatbank3_a_air    5281 non-null   float64\n",
      " 39  secondary_cleaner.state.floatbank3_a_level  5290 non-null   float64\n",
      " 40  secondary_cleaner.state.floatbank3_b_air    5290 non-null   float64\n",
      " 41  secondary_cleaner.state.floatbank3_b_level  5290 non-null   float64\n",
      " 42  secondary_cleaner.state.floatbank4_a_air    5290 non-null   float64\n",
      " 43  secondary_cleaner.state.floatbank4_a_level  5290 non-null   float64\n",
      " 44  secondary_cleaner.state.floatbank4_b_air    5290 non-null   float64\n",
      " 45  secondary_cleaner.state.floatbank4_b_level  5290 non-null   float64\n",
      " 46  secondary_cleaner.state.floatbank5_a_air    5290 non-null   float64\n",
      " 47  secondary_cleaner.state.floatbank5_a_level  5290 non-null   float64\n",
      " 48  secondary_cleaner.state.floatbank5_b_air    5290 non-null   float64\n",
      " 49  secondary_cleaner.state.floatbank5_b_level  5290 non-null   float64\n",
      " 50  secondary_cleaner.state.floatbank6_a_air    5290 non-null   float64\n",
      " 51  secondary_cleaner.state.floatbank6_a_level  5290 non-null   float64\n",
      "dtypes: float64(52)\n",
      "memory usage: 2.1+ MB\n"
     ]
    }
   ],
   "source": [
    "inf(gold_recovery_test_new)"
   ]
  },
  {
   "cell_type": "code",
   "execution_count": 10,
   "metadata": {},
   "outputs": [
    {
     "data": {
      "text/html": [
       "<div>\n",
       "<style scoped>\n",
       "    .dataframe tbody tr th:only-of-type {\n",
       "        vertical-align: middle;\n",
       "    }\n",
       "\n",
       "    .dataframe tbody tr th {\n",
       "        vertical-align: top;\n",
       "    }\n",
       "\n",
       "    .dataframe thead th {\n",
       "        text-align: right;\n",
       "    }\n",
       "</style>\n",
       "<table border=\"1\" class=\"dataframe\">\n",
       "  <thead>\n",
       "    <tr style=\"text-align: right;\">\n",
       "      <th></th>\n",
       "      <th>final.output.concentrate_ag</th>\n",
       "      <th>final.output.concentrate_pb</th>\n",
       "      <th>final.output.concentrate_sol</th>\n",
       "      <th>final.output.concentrate_au</th>\n",
       "      <th>final.output.recovery</th>\n",
       "      <th>final.output.tail_ag</th>\n",
       "      <th>final.output.tail_pb</th>\n",
       "      <th>final.output.tail_sol</th>\n",
       "      <th>final.output.tail_au</th>\n",
       "      <th>primary_cleaner.input.sulfate</th>\n",
       "      <th>...</th>\n",
       "      <th>secondary_cleaner.state.floatbank4_a_air</th>\n",
       "      <th>secondary_cleaner.state.floatbank4_a_level</th>\n",
       "      <th>secondary_cleaner.state.floatbank4_b_air</th>\n",
       "      <th>secondary_cleaner.state.floatbank4_b_level</th>\n",
       "      <th>secondary_cleaner.state.floatbank5_a_air</th>\n",
       "      <th>secondary_cleaner.state.floatbank5_a_level</th>\n",
       "      <th>secondary_cleaner.state.floatbank5_b_air</th>\n",
       "      <th>secondary_cleaner.state.floatbank5_b_level</th>\n",
       "      <th>secondary_cleaner.state.floatbank6_a_air</th>\n",
       "      <th>secondary_cleaner.state.floatbank6_a_level</th>\n",
       "    </tr>\n",
       "  </thead>\n",
       "  <tbody>\n",
       "    <tr>\n",
       "      <th>count</th>\n",
       "      <td>19438.000000</td>\n",
       "      <td>19438.000000</td>\n",
       "      <td>19228.000000</td>\n",
       "      <td>19439.000000</td>\n",
       "      <td>19439.000000</td>\n",
       "      <td>19438.000000</td>\n",
       "      <td>19338.000000</td>\n",
       "      <td>19433.000000</td>\n",
       "      <td>19439.000000</td>\n",
       "      <td>19415.000000</td>\n",
       "      <td>...</td>\n",
       "      <td>19433.000000</td>\n",
       "      <td>19438.000000</td>\n",
       "      <td>19438.000000</td>\n",
       "      <td>19438.000000</td>\n",
       "      <td>19438.000000</td>\n",
       "      <td>19438.000000</td>\n",
       "      <td>19438.000000</td>\n",
       "      <td>19438.000000</td>\n",
       "      <td>19437.000000</td>\n",
       "      <td>19438.000000</td>\n",
       "    </tr>\n",
       "    <tr>\n",
       "      <th>mean</th>\n",
       "      <td>5.168470</td>\n",
       "      <td>9.978895</td>\n",
       "      <td>9.501224</td>\n",
       "      <td>44.076513</td>\n",
       "      <td>67.050208</td>\n",
       "      <td>9.688589</td>\n",
       "      <td>2.705795</td>\n",
       "      <td>10.583728</td>\n",
       "      <td>3.042467</td>\n",
       "      <td>144.624774</td>\n",
       "      <td>...</td>\n",
       "      <td>18.987674</td>\n",
       "      <td>-485.894516</td>\n",
       "      <td>15.010366</td>\n",
       "      <td>-461.078636</td>\n",
       "      <td>15.694452</td>\n",
       "      <td>-488.684065</td>\n",
       "      <td>12.198224</td>\n",
       "      <td>-487.149827</td>\n",
       "      <td>18.959024</td>\n",
       "      <td>-505.436305</td>\n",
       "    </tr>\n",
       "    <tr>\n",
       "      <th>std</th>\n",
       "      <td>1.372348</td>\n",
       "      <td>1.669240</td>\n",
       "      <td>2.787537</td>\n",
       "      <td>5.129784</td>\n",
       "      <td>10.125840</td>\n",
       "      <td>2.328642</td>\n",
       "      <td>0.949077</td>\n",
       "      <td>2.868782</td>\n",
       "      <td>0.922808</td>\n",
       "      <td>44.464071</td>\n",
       "      <td>...</td>\n",
       "      <td>5.411058</td>\n",
       "      <td>47.758570</td>\n",
       "      <td>4.890228</td>\n",
       "      <td>67.405524</td>\n",
       "      <td>5.510974</td>\n",
       "      <td>34.533396</td>\n",
       "      <td>5.333024</td>\n",
       "      <td>38.347312</td>\n",
       "      <td>5.550498</td>\n",
       "      <td>37.689057</td>\n",
       "    </tr>\n",
       "    <tr>\n",
       "      <th>min</th>\n",
       "      <td>0.000000</td>\n",
       "      <td>0.000000</td>\n",
       "      <td>0.000000</td>\n",
       "      <td>0.000000</td>\n",
       "      <td>0.000000</td>\n",
       "      <td>0.000000</td>\n",
       "      <td>0.000000</td>\n",
       "      <td>0.000000</td>\n",
       "      <td>0.000000</td>\n",
       "      <td>0.003112</td>\n",
       "      <td>...</td>\n",
       "      <td>0.000000</td>\n",
       "      <td>-799.798523</td>\n",
       "      <td>0.000000</td>\n",
       "      <td>-800.836914</td>\n",
       "      <td>-0.372054</td>\n",
       "      <td>-797.323986</td>\n",
       "      <td>0.528083</td>\n",
       "      <td>-800.220337</td>\n",
       "      <td>-0.079426</td>\n",
       "      <td>-809.741464</td>\n",
       "    </tr>\n",
       "    <tr>\n",
       "      <th>25%</th>\n",
       "      <td>4.251240</td>\n",
       "      <td>9.137262</td>\n",
       "      <td>7.722820</td>\n",
       "      <td>43.402215</td>\n",
       "      <td>63.299712</td>\n",
       "      <td>8.062878</td>\n",
       "      <td>2.040119</td>\n",
       "      <td>8.938947</td>\n",
       "      <td>2.461138</td>\n",
       "      <td>114.107029</td>\n",
       "      <td>...</td>\n",
       "      <td>14.975734</td>\n",
       "      <td>-500.704892</td>\n",
       "      <td>11.940294</td>\n",
       "      <td>-500.187742</td>\n",
       "      <td>10.988606</td>\n",
       "      <td>-500.458467</td>\n",
       "      <td>8.971105</td>\n",
       "      <td>-500.129462</td>\n",
       "      <td>14.983037</td>\n",
       "      <td>-500.728067</td>\n",
       "    </tr>\n",
       "    <tr>\n",
       "      <th>50%</th>\n",
       "      <td>5.066094</td>\n",
       "      <td>10.102433</td>\n",
       "      <td>9.218961</td>\n",
       "      <td>45.011244</td>\n",
       "      <td>68.172738</td>\n",
       "      <td>9.743623</td>\n",
       "      <td>2.748730</td>\n",
       "      <td>10.622456</td>\n",
       "      <td>2.984909</td>\n",
       "      <td>143.232103</td>\n",
       "      <td>...</td>\n",
       "      <td>18.017481</td>\n",
       "      <td>-499.837793</td>\n",
       "      <td>14.971014</td>\n",
       "      <td>-499.459786</td>\n",
       "      <td>15.000036</td>\n",
       "      <td>-499.802605</td>\n",
       "      <td>11.019433</td>\n",
       "      <td>-499.935317</td>\n",
       "      <td>19.960541</td>\n",
       "      <td>-500.048400</td>\n",
       "    </tr>\n",
       "    <tr>\n",
       "      <th>75%</th>\n",
       "      <td>5.895527</td>\n",
       "      <td>11.035769</td>\n",
       "      <td>10.947813</td>\n",
       "      <td>46.275313</td>\n",
       "      <td>72.686642</td>\n",
       "      <td>11.134294</td>\n",
       "      <td>3.333216</td>\n",
       "      <td>12.104271</td>\n",
       "      <td>3.571351</td>\n",
       "      <td>175.075656</td>\n",
       "      <td>...</td>\n",
       "      <td>23.012470</td>\n",
       "      <td>-498.249730</td>\n",
       "      <td>19.034162</td>\n",
       "      <td>-400.118106</td>\n",
       "      <td>18.026190</td>\n",
       "      <td>-498.384187</td>\n",
       "      <td>14.019088</td>\n",
       "      <td>-499.436708</td>\n",
       "      <td>24.003170</td>\n",
       "      <td>-499.495378</td>\n",
       "    </tr>\n",
       "    <tr>\n",
       "      <th>max</th>\n",
       "      <td>16.001945</td>\n",
       "      <td>17.031899</td>\n",
       "      <td>19.615720</td>\n",
       "      <td>52.756638</td>\n",
       "      <td>100.000000</td>\n",
       "      <td>19.552149</td>\n",
       "      <td>5.804178</td>\n",
       "      <td>22.317730</td>\n",
       "      <td>8.245022</td>\n",
       "      <td>265.983123</td>\n",
       "      <td>...</td>\n",
       "      <td>30.115735</td>\n",
       "      <td>-245.239184</td>\n",
       "      <td>31.269706</td>\n",
       "      <td>-6.506986</td>\n",
       "      <td>43.709931</td>\n",
       "      <td>-244.483566</td>\n",
       "      <td>27.926001</td>\n",
       "      <td>-137.740004</td>\n",
       "      <td>32.188906</td>\n",
       "      <td>-104.427459</td>\n",
       "    </tr>\n",
       "  </tbody>\n",
       "</table>\n",
       "<p>8 rows × 86 columns</p>\n",
       "</div>"
      ],
      "text/plain": [
       "       final.output.concentrate_ag  final.output.concentrate_pb  \\\n",
       "count                 19438.000000                 19438.000000   \n",
       "mean                      5.168470                     9.978895   \n",
       "std                       1.372348                     1.669240   \n",
       "min                       0.000000                     0.000000   \n",
       "25%                       4.251240                     9.137262   \n",
       "50%                       5.066094                    10.102433   \n",
       "75%                       5.895527                    11.035769   \n",
       "max                      16.001945                    17.031899   \n",
       "\n",
       "       final.output.concentrate_sol  final.output.concentrate_au  \\\n",
       "count                  19228.000000                 19439.000000   \n",
       "mean                       9.501224                    44.076513   \n",
       "std                        2.787537                     5.129784   \n",
       "min                        0.000000                     0.000000   \n",
       "25%                        7.722820                    43.402215   \n",
       "50%                        9.218961                    45.011244   \n",
       "75%                       10.947813                    46.275313   \n",
       "max                       19.615720                    52.756638   \n",
       "\n",
       "       final.output.recovery  final.output.tail_ag  final.output.tail_pb  \\\n",
       "count           19439.000000          19438.000000          19338.000000   \n",
       "mean               67.050208              9.688589              2.705795   \n",
       "std                10.125840              2.328642              0.949077   \n",
       "min                 0.000000              0.000000              0.000000   \n",
       "25%                63.299712              8.062878              2.040119   \n",
       "50%                68.172738              9.743623              2.748730   \n",
       "75%                72.686642             11.134294              3.333216   \n",
       "max               100.000000             19.552149              5.804178   \n",
       "\n",
       "       final.output.tail_sol  final.output.tail_au  \\\n",
       "count           19433.000000          19439.000000   \n",
       "mean               10.583728              3.042467   \n",
       "std                 2.868782              0.922808   \n",
       "min                 0.000000              0.000000   \n",
       "25%                 8.938947              2.461138   \n",
       "50%                10.622456              2.984909   \n",
       "75%                12.104271              3.571351   \n",
       "max                22.317730              8.245022   \n",
       "\n",
       "       primary_cleaner.input.sulfate  ...  \\\n",
       "count                   19415.000000  ...   \n",
       "mean                      144.624774  ...   \n",
       "std                        44.464071  ...   \n",
       "min                         0.003112  ...   \n",
       "25%                       114.107029  ...   \n",
       "50%                       143.232103  ...   \n",
       "75%                       175.075656  ...   \n",
       "max                       265.983123  ...   \n",
       "\n",
       "       secondary_cleaner.state.floatbank4_a_air  \\\n",
       "count                              19433.000000   \n",
       "mean                                  18.987674   \n",
       "std                                    5.411058   \n",
       "min                                    0.000000   \n",
       "25%                                   14.975734   \n",
       "50%                                   18.017481   \n",
       "75%                                   23.012470   \n",
       "max                                   30.115735   \n",
       "\n",
       "       secondary_cleaner.state.floatbank4_a_level  \\\n",
       "count                                19438.000000   \n",
       "mean                                  -485.894516   \n",
       "std                                     47.758570   \n",
       "min                                   -799.798523   \n",
       "25%                                   -500.704892   \n",
       "50%                                   -499.837793   \n",
       "75%                                   -498.249730   \n",
       "max                                   -245.239184   \n",
       "\n",
       "       secondary_cleaner.state.floatbank4_b_air  \\\n",
       "count                              19438.000000   \n",
       "mean                                  15.010366   \n",
       "std                                    4.890228   \n",
       "min                                    0.000000   \n",
       "25%                                   11.940294   \n",
       "50%                                   14.971014   \n",
       "75%                                   19.034162   \n",
       "max                                   31.269706   \n",
       "\n",
       "       secondary_cleaner.state.floatbank4_b_level  \\\n",
       "count                                19438.000000   \n",
       "mean                                  -461.078636   \n",
       "std                                     67.405524   \n",
       "min                                   -800.836914   \n",
       "25%                                   -500.187742   \n",
       "50%                                   -499.459786   \n",
       "75%                                   -400.118106   \n",
       "max                                     -6.506986   \n",
       "\n",
       "       secondary_cleaner.state.floatbank5_a_air  \\\n",
       "count                              19438.000000   \n",
       "mean                                  15.694452   \n",
       "std                                    5.510974   \n",
       "min                                   -0.372054   \n",
       "25%                                   10.988606   \n",
       "50%                                   15.000036   \n",
       "75%                                   18.026190   \n",
       "max                                   43.709931   \n",
       "\n",
       "       secondary_cleaner.state.floatbank5_a_level  \\\n",
       "count                                19438.000000   \n",
       "mean                                  -488.684065   \n",
       "std                                     34.533396   \n",
       "min                                   -797.323986   \n",
       "25%                                   -500.458467   \n",
       "50%                                   -499.802605   \n",
       "75%                                   -498.384187   \n",
       "max                                   -244.483566   \n",
       "\n",
       "       secondary_cleaner.state.floatbank5_b_air  \\\n",
       "count                              19438.000000   \n",
       "mean                                  12.198224   \n",
       "std                                    5.333024   \n",
       "min                                    0.528083   \n",
       "25%                                    8.971105   \n",
       "50%                                   11.019433   \n",
       "75%                                   14.019088   \n",
       "max                                   27.926001   \n",
       "\n",
       "       secondary_cleaner.state.floatbank5_b_level  \\\n",
       "count                                19438.000000   \n",
       "mean                                  -487.149827   \n",
       "std                                     38.347312   \n",
       "min                                   -800.220337   \n",
       "25%                                   -500.129462   \n",
       "50%                                   -499.935317   \n",
       "75%                                   -499.436708   \n",
       "max                                   -137.740004   \n",
       "\n",
       "       secondary_cleaner.state.floatbank6_a_air  \\\n",
       "count                              19437.000000   \n",
       "mean                                  18.959024   \n",
       "std                                    5.550498   \n",
       "min                                   -0.079426   \n",
       "25%                                   14.983037   \n",
       "50%                                   19.960541   \n",
       "75%                                   24.003170   \n",
       "max                                   32.188906   \n",
       "\n",
       "       secondary_cleaner.state.floatbank6_a_level  \n",
       "count                                19438.000000  \n",
       "mean                                  -505.436305  \n",
       "std                                     37.689057  \n",
       "min                                   -809.741464  \n",
       "25%                                   -500.728067  \n",
       "50%                                   -500.048400  \n",
       "75%                                   -499.495378  \n",
       "max                                   -104.427459  \n",
       "\n",
       "[8 rows x 86 columns]"
      ]
     },
     "metadata": {},
     "output_type": "display_data"
    },
    {
     "data": {
      "text/html": [
       "<div>\n",
       "<style scoped>\n",
       "    .dataframe tbody tr th:only-of-type {\n",
       "        vertical-align: middle;\n",
       "    }\n",
       "\n",
       "    .dataframe tbody tr th {\n",
       "        vertical-align: top;\n",
       "    }\n",
       "\n",
       "    .dataframe thead th {\n",
       "        text-align: right;\n",
       "    }\n",
       "</style>\n",
       "<table border=\"1\" class=\"dataframe\">\n",
       "  <thead>\n",
       "    <tr style=\"text-align: right;\">\n",
       "      <th></th>\n",
       "      <th>final.output.concentrate_ag</th>\n",
       "      <th>final.output.concentrate_pb</th>\n",
       "      <th>final.output.concentrate_sol</th>\n",
       "      <th>final.output.concentrate_au</th>\n",
       "      <th>final.output.recovery</th>\n",
       "      <th>final.output.tail_ag</th>\n",
       "      <th>final.output.tail_pb</th>\n",
       "      <th>final.output.tail_sol</th>\n",
       "      <th>final.output.tail_au</th>\n",
       "      <th>primary_cleaner.input.sulfate</th>\n",
       "      <th>...</th>\n",
       "      <th>secondary_cleaner.state.floatbank4_a_air</th>\n",
       "      <th>secondary_cleaner.state.floatbank4_a_level</th>\n",
       "      <th>secondary_cleaner.state.floatbank4_b_air</th>\n",
       "      <th>secondary_cleaner.state.floatbank4_b_level</th>\n",
       "      <th>secondary_cleaner.state.floatbank5_a_air</th>\n",
       "      <th>secondary_cleaner.state.floatbank5_a_level</th>\n",
       "      <th>secondary_cleaner.state.floatbank5_b_air</th>\n",
       "      <th>secondary_cleaner.state.floatbank5_b_level</th>\n",
       "      <th>secondary_cleaner.state.floatbank6_a_air</th>\n",
       "      <th>secondary_cleaner.state.floatbank6_a_level</th>\n",
       "    </tr>\n",
       "    <tr>\n",
       "      <th>date</th>\n",
       "      <th></th>\n",
       "      <th></th>\n",
       "      <th></th>\n",
       "      <th></th>\n",
       "      <th></th>\n",
       "      <th></th>\n",
       "      <th></th>\n",
       "      <th></th>\n",
       "      <th></th>\n",
       "      <th></th>\n",
       "      <th></th>\n",
       "      <th></th>\n",
       "      <th></th>\n",
       "      <th></th>\n",
       "      <th></th>\n",
       "      <th></th>\n",
       "      <th></th>\n",
       "      <th></th>\n",
       "      <th></th>\n",
       "      <th></th>\n",
       "      <th></th>\n",
       "    </tr>\n",
       "  </thead>\n",
       "  <tbody>\n",
       "    <tr>\n",
       "      <th>2016-01-15 00:00:00</th>\n",
       "      <td>6.055403</td>\n",
       "      <td>9.889648</td>\n",
       "      <td>5.507324</td>\n",
       "      <td>42.192020</td>\n",
       "      <td>70.541216</td>\n",
       "      <td>10.411962</td>\n",
       "      <td>0.895447</td>\n",
       "      <td>16.904297</td>\n",
       "      <td>2.143149</td>\n",
       "      <td>127.092003</td>\n",
       "      <td>...</td>\n",
       "      <td>14.016835</td>\n",
       "      <td>-502.488007</td>\n",
       "      <td>12.099931</td>\n",
       "      <td>-504.715942</td>\n",
       "      <td>9.925633</td>\n",
       "      <td>-498.310211</td>\n",
       "      <td>8.079666</td>\n",
       "      <td>-500.470978</td>\n",
       "      <td>14.151341</td>\n",
       "      <td>-605.841980</td>\n",
       "    </tr>\n",
       "    <tr>\n",
       "      <th>2016-01-15 01:00:00</th>\n",
       "      <td>6.029369</td>\n",
       "      <td>9.968944</td>\n",
       "      <td>5.257781</td>\n",
       "      <td>42.701629</td>\n",
       "      <td>69.266198</td>\n",
       "      <td>10.462676</td>\n",
       "      <td>0.927452</td>\n",
       "      <td>16.634514</td>\n",
       "      <td>2.224930</td>\n",
       "      <td>125.629232</td>\n",
       "      <td>...</td>\n",
       "      <td>13.992281</td>\n",
       "      <td>-505.503262</td>\n",
       "      <td>11.950531</td>\n",
       "      <td>-501.331529</td>\n",
       "      <td>10.039245</td>\n",
       "      <td>-500.169983</td>\n",
       "      <td>7.984757</td>\n",
       "      <td>-500.582168</td>\n",
       "      <td>13.998353</td>\n",
       "      <td>-599.787184</td>\n",
       "    </tr>\n",
       "    <tr>\n",
       "      <th>2016-01-15 02:00:00</th>\n",
       "      <td>6.055926</td>\n",
       "      <td>10.213995</td>\n",
       "      <td>5.383759</td>\n",
       "      <td>42.657501</td>\n",
       "      <td>68.116445</td>\n",
       "      <td>10.507046</td>\n",
       "      <td>0.953716</td>\n",
       "      <td>16.208849</td>\n",
       "      <td>2.257889</td>\n",
       "      <td>123.819808</td>\n",
       "      <td>...</td>\n",
       "      <td>14.015015</td>\n",
       "      <td>-502.520901</td>\n",
       "      <td>11.912783</td>\n",
       "      <td>-501.133383</td>\n",
       "      <td>10.070913</td>\n",
       "      <td>-500.129135</td>\n",
       "      <td>8.013877</td>\n",
       "      <td>-500.517572</td>\n",
       "      <td>14.028663</td>\n",
       "      <td>-601.427363</td>\n",
       "    </tr>\n",
       "    <tr>\n",
       "      <th>2016-01-15 03:00:00</th>\n",
       "      <td>6.047977</td>\n",
       "      <td>9.977019</td>\n",
       "      <td>4.858634</td>\n",
       "      <td>42.689819</td>\n",
       "      <td>68.347543</td>\n",
       "      <td>10.422762</td>\n",
       "      <td>0.883763</td>\n",
       "      <td>16.532835</td>\n",
       "      <td>2.146849</td>\n",
       "      <td>122.270188</td>\n",
       "      <td>...</td>\n",
       "      <td>14.036510</td>\n",
       "      <td>-500.857308</td>\n",
       "      <td>11.999550</td>\n",
       "      <td>-501.193686</td>\n",
       "      <td>9.970366</td>\n",
       "      <td>-499.201640</td>\n",
       "      <td>7.977324</td>\n",
       "      <td>-500.255908</td>\n",
       "      <td>14.005551</td>\n",
       "      <td>-599.996129</td>\n",
       "    </tr>\n",
       "    <tr>\n",
       "      <th>2016-01-15 04:00:00</th>\n",
       "      <td>6.148599</td>\n",
       "      <td>10.142511</td>\n",
       "      <td>4.939416</td>\n",
       "      <td>42.774141</td>\n",
       "      <td>66.927016</td>\n",
       "      <td>10.360302</td>\n",
       "      <td>0.792826</td>\n",
       "      <td>16.525686</td>\n",
       "      <td>2.055292</td>\n",
       "      <td>117.988169</td>\n",
       "      <td>...</td>\n",
       "      <td>14.027298</td>\n",
       "      <td>-499.838632</td>\n",
       "      <td>11.953070</td>\n",
       "      <td>-501.053894</td>\n",
       "      <td>9.925709</td>\n",
       "      <td>-501.686727</td>\n",
       "      <td>7.894242</td>\n",
       "      <td>-500.356035</td>\n",
       "      <td>13.996647</td>\n",
       "      <td>-601.496691</td>\n",
       "    </tr>\n",
       "  </tbody>\n",
       "</table>\n",
       "<p>5 rows × 86 columns</p>\n",
       "</div>"
      ],
      "text/plain": [
       "                     final.output.concentrate_ag  final.output.concentrate_pb  \\\n",
       "date                                                                            \n",
       "2016-01-15 00:00:00                     6.055403                     9.889648   \n",
       "2016-01-15 01:00:00                     6.029369                     9.968944   \n",
       "2016-01-15 02:00:00                     6.055926                    10.213995   \n",
       "2016-01-15 03:00:00                     6.047977                     9.977019   \n",
       "2016-01-15 04:00:00                     6.148599                    10.142511   \n",
       "\n",
       "                     final.output.concentrate_sol  \\\n",
       "date                                                \n",
       "2016-01-15 00:00:00                      5.507324   \n",
       "2016-01-15 01:00:00                      5.257781   \n",
       "2016-01-15 02:00:00                      5.383759   \n",
       "2016-01-15 03:00:00                      4.858634   \n",
       "2016-01-15 04:00:00                      4.939416   \n",
       "\n",
       "                     final.output.concentrate_au  final.output.recovery  \\\n",
       "date                                                                      \n",
       "2016-01-15 00:00:00                    42.192020              70.541216   \n",
       "2016-01-15 01:00:00                    42.701629              69.266198   \n",
       "2016-01-15 02:00:00                    42.657501              68.116445   \n",
       "2016-01-15 03:00:00                    42.689819              68.347543   \n",
       "2016-01-15 04:00:00                    42.774141              66.927016   \n",
       "\n",
       "                     final.output.tail_ag  final.output.tail_pb  \\\n",
       "date                                                              \n",
       "2016-01-15 00:00:00             10.411962              0.895447   \n",
       "2016-01-15 01:00:00             10.462676              0.927452   \n",
       "2016-01-15 02:00:00             10.507046              0.953716   \n",
       "2016-01-15 03:00:00             10.422762              0.883763   \n",
       "2016-01-15 04:00:00             10.360302              0.792826   \n",
       "\n",
       "                     final.output.tail_sol  final.output.tail_au  \\\n",
       "date                                                               \n",
       "2016-01-15 00:00:00              16.904297              2.143149   \n",
       "2016-01-15 01:00:00              16.634514              2.224930   \n",
       "2016-01-15 02:00:00              16.208849              2.257889   \n",
       "2016-01-15 03:00:00              16.532835              2.146849   \n",
       "2016-01-15 04:00:00              16.525686              2.055292   \n",
       "\n",
       "                     primary_cleaner.input.sulfate  ...  \\\n",
       "date                                                ...   \n",
       "2016-01-15 00:00:00                     127.092003  ...   \n",
       "2016-01-15 01:00:00                     125.629232  ...   \n",
       "2016-01-15 02:00:00                     123.819808  ...   \n",
       "2016-01-15 03:00:00                     122.270188  ...   \n",
       "2016-01-15 04:00:00                     117.988169  ...   \n",
       "\n",
       "                     secondary_cleaner.state.floatbank4_a_air  \\\n",
       "date                                                            \n",
       "2016-01-15 00:00:00                                 14.016835   \n",
       "2016-01-15 01:00:00                                 13.992281   \n",
       "2016-01-15 02:00:00                                 14.015015   \n",
       "2016-01-15 03:00:00                                 14.036510   \n",
       "2016-01-15 04:00:00                                 14.027298   \n",
       "\n",
       "                     secondary_cleaner.state.floatbank4_a_level  \\\n",
       "date                                                              \n",
       "2016-01-15 00:00:00                                 -502.488007   \n",
       "2016-01-15 01:00:00                                 -505.503262   \n",
       "2016-01-15 02:00:00                                 -502.520901   \n",
       "2016-01-15 03:00:00                                 -500.857308   \n",
       "2016-01-15 04:00:00                                 -499.838632   \n",
       "\n",
       "                     secondary_cleaner.state.floatbank4_b_air  \\\n",
       "date                                                            \n",
       "2016-01-15 00:00:00                                 12.099931   \n",
       "2016-01-15 01:00:00                                 11.950531   \n",
       "2016-01-15 02:00:00                                 11.912783   \n",
       "2016-01-15 03:00:00                                 11.999550   \n",
       "2016-01-15 04:00:00                                 11.953070   \n",
       "\n",
       "                     secondary_cleaner.state.floatbank4_b_level  \\\n",
       "date                                                              \n",
       "2016-01-15 00:00:00                                 -504.715942   \n",
       "2016-01-15 01:00:00                                 -501.331529   \n",
       "2016-01-15 02:00:00                                 -501.133383   \n",
       "2016-01-15 03:00:00                                 -501.193686   \n",
       "2016-01-15 04:00:00                                 -501.053894   \n",
       "\n",
       "                     secondary_cleaner.state.floatbank5_a_air  \\\n",
       "date                                                            \n",
       "2016-01-15 00:00:00                                  9.925633   \n",
       "2016-01-15 01:00:00                                 10.039245   \n",
       "2016-01-15 02:00:00                                 10.070913   \n",
       "2016-01-15 03:00:00                                  9.970366   \n",
       "2016-01-15 04:00:00                                  9.925709   \n",
       "\n",
       "                     secondary_cleaner.state.floatbank5_a_level  \\\n",
       "date                                                              \n",
       "2016-01-15 00:00:00                                 -498.310211   \n",
       "2016-01-15 01:00:00                                 -500.169983   \n",
       "2016-01-15 02:00:00                                 -500.129135   \n",
       "2016-01-15 03:00:00                                 -499.201640   \n",
       "2016-01-15 04:00:00                                 -501.686727   \n",
       "\n",
       "                     secondary_cleaner.state.floatbank5_b_air  \\\n",
       "date                                                            \n",
       "2016-01-15 00:00:00                                  8.079666   \n",
       "2016-01-15 01:00:00                                  7.984757   \n",
       "2016-01-15 02:00:00                                  8.013877   \n",
       "2016-01-15 03:00:00                                  7.977324   \n",
       "2016-01-15 04:00:00                                  7.894242   \n",
       "\n",
       "                     secondary_cleaner.state.floatbank5_b_level  \\\n",
       "date                                                              \n",
       "2016-01-15 00:00:00                                 -500.470978   \n",
       "2016-01-15 01:00:00                                 -500.582168   \n",
       "2016-01-15 02:00:00                                 -500.517572   \n",
       "2016-01-15 03:00:00                                 -500.255908   \n",
       "2016-01-15 04:00:00                                 -500.356035   \n",
       "\n",
       "                     secondary_cleaner.state.floatbank6_a_air  \\\n",
       "date                                                            \n",
       "2016-01-15 00:00:00                                 14.151341   \n",
       "2016-01-15 01:00:00                                 13.998353   \n",
       "2016-01-15 02:00:00                                 14.028663   \n",
       "2016-01-15 03:00:00                                 14.005551   \n",
       "2016-01-15 04:00:00                                 13.996647   \n",
       "\n",
       "                     secondary_cleaner.state.floatbank6_a_level  \n",
       "date                                                             \n",
       "2016-01-15 00:00:00                                 -605.841980  \n",
       "2016-01-15 01:00:00                                 -599.787184  \n",
       "2016-01-15 02:00:00                                 -601.427363  \n",
       "2016-01-15 03:00:00                                 -599.996129  \n",
       "2016-01-15 04:00:00                                 -601.496691  \n",
       "\n",
       "[5 rows x 86 columns]"
      ]
     },
     "metadata": {},
     "output_type": "display_data"
    },
    {
     "name": "stdout",
     "output_type": "stream",
     "text": [
      "<class 'pandas.core.frame.DataFrame'>\n",
      "Index: 19439 entries, 2016-01-15 00:00:00 to 2018-08-18 10:59:59\n",
      "Data columns (total 86 columns):\n",
      " #   Column                                              Non-Null Count  Dtype  \n",
      "---  ------                                              --------------  -----  \n",
      " 0   final.output.concentrate_ag                         19438 non-null  float64\n",
      " 1   final.output.concentrate_pb                         19438 non-null  float64\n",
      " 2   final.output.concentrate_sol                        19228 non-null  float64\n",
      " 3   final.output.concentrate_au                         19439 non-null  float64\n",
      " 4   final.output.recovery                               19439 non-null  float64\n",
      " 5   final.output.tail_ag                                19438 non-null  float64\n",
      " 6   final.output.tail_pb                                19338 non-null  float64\n",
      " 7   final.output.tail_sol                               19433 non-null  float64\n",
      " 8   final.output.tail_au                                19439 non-null  float64\n",
      " 9   primary_cleaner.input.sulfate                       19415 non-null  float64\n",
      " 10  primary_cleaner.input.depressant                    19402 non-null  float64\n",
      " 11  primary_cleaner.input.feed_size                     19439 non-null  float64\n",
      " 12  primary_cleaner.input.xanthate                      19335 non-null  float64\n",
      " 13  primary_cleaner.output.concentrate_ag               19439 non-null  float64\n",
      " 14  primary_cleaner.output.concentrate_pb               19323 non-null  float64\n",
      " 15  primary_cleaner.output.concentrate_sol              19069 non-null  float64\n",
      " 16  primary_cleaner.output.concentrate_au               19439 non-null  float64\n",
      " 17  primary_cleaner.output.tail_ag                      19435 non-null  float64\n",
      " 18  primary_cleaner.output.tail_pb                      19418 non-null  float64\n",
      " 19  primary_cleaner.output.tail_sol                     19377 non-null  float64\n",
      " 20  primary_cleaner.output.tail_au                      19439 non-null  float64\n",
      " 21  primary_cleaner.state.floatbank8_a_air              19435 non-null  float64\n",
      " 22  primary_cleaner.state.floatbank8_a_level            19438 non-null  float64\n",
      " 23  primary_cleaner.state.floatbank8_b_air              19435 non-null  float64\n",
      " 24  primary_cleaner.state.floatbank8_b_level            19438 non-null  float64\n",
      " 25  primary_cleaner.state.floatbank8_c_air              19437 non-null  float64\n",
      " 26  primary_cleaner.state.floatbank8_c_level            19438 non-null  float64\n",
      " 27  primary_cleaner.state.floatbank8_d_air              19436 non-null  float64\n",
      " 28  primary_cleaner.state.floatbank8_d_level            19438 non-null  float64\n",
      " 29  rougher.calculation.sulfate_to_au_concentrate       19437 non-null  float64\n",
      " 30  rougher.calculation.floatbank10_sulfate_to_au_feed  19437 non-null  float64\n",
      " 31  rougher.calculation.floatbank11_sulfate_to_au_feed  19437 non-null  float64\n",
      " 32  rougher.calculation.au_pb_ratio                     19439 non-null  float64\n",
      " 33  rougher.input.feed_ag                               19439 non-null  float64\n",
      " 34  rougher.input.feed_pb                               19339 non-null  float64\n",
      " 35  rougher.input.feed_rate                             19428 non-null  float64\n",
      " 36  rougher.input.feed_size                             19294 non-null  float64\n",
      " 37  rougher.input.feed_sol                              19340 non-null  float64\n",
      " 38  rougher.input.feed_au                               19439 non-null  float64\n",
      " 39  rougher.input.floatbank10_sulfate                   19405 non-null  float64\n",
      " 40  rougher.input.floatbank10_xanthate                  19431 non-null  float64\n",
      " 41  rougher.input.floatbank11_sulfate                   19395 non-null  float64\n",
      " 42  rougher.input.floatbank11_xanthate                  18986 non-null  float64\n",
      " 43  rougher.output.concentrate_ag                       19439 non-null  float64\n",
      " 44  rougher.output.concentrate_pb                       19439 non-null  float64\n",
      " 45  rougher.output.concentrate_sol                      19416 non-null  float64\n",
      " 46  rougher.output.concentrate_au                       19439 non-null  float64\n",
      " 47  rougher.output.recovery                             19439 non-null  float64\n",
      " 48  rougher.output.tail_ag                              19438 non-null  float64\n",
      " 49  rougher.output.tail_pb                              19439 non-null  float64\n",
      " 50  rougher.output.tail_sol                             19439 non-null  float64\n",
      " 51  rougher.output.tail_au                              19439 non-null  float64\n",
      " 52  rougher.state.floatbank10_a_air                     19438 non-null  float64\n",
      " 53  rougher.state.floatbank10_a_level                   19438 non-null  float64\n",
      " 54  rougher.state.floatbank10_b_air                     19438 non-null  float64\n",
      " 55  rougher.state.floatbank10_b_level                   19438 non-null  float64\n",
      " 56  rougher.state.floatbank10_c_air                     19438 non-null  float64\n",
      " 57  rougher.state.floatbank10_c_level                   19438 non-null  float64\n",
      " 58  rougher.state.floatbank10_d_air                     19439 non-null  float64\n",
      " 59  rougher.state.floatbank10_d_level                   19439 non-null  float64\n",
      " 60  rougher.state.floatbank10_e_air                     19003 non-null  float64\n",
      " 61  rougher.state.floatbank10_e_level                   19439 non-null  float64\n",
      " 62  rougher.state.floatbank10_f_air                     19439 non-null  float64\n",
      " 63  rougher.state.floatbank10_f_level                   19439 non-null  float64\n",
      " 64  secondary_cleaner.output.tail_ag                    19437 non-null  float64\n",
      " 65  secondary_cleaner.output.tail_pb                    19427 non-null  float64\n",
      " 66  secondary_cleaner.output.tail_sol                   17691 non-null  float64\n",
      " 67  secondary_cleaner.output.tail_au                    19439 non-null  float64\n",
      " 68  secondary_cleaner.state.floatbank2_a_air            19219 non-null  float64\n",
      " 69  secondary_cleaner.state.floatbank2_a_level          19438 non-null  float64\n",
      " 70  secondary_cleaner.state.floatbank2_b_air            19416 non-null  float64\n",
      " 71  secondary_cleaner.state.floatbank2_b_level          19438 non-null  float64\n",
      " 72  secondary_cleaner.state.floatbank3_a_air            19426 non-null  float64\n",
      " 73  secondary_cleaner.state.floatbank3_a_level          19438 non-null  float64\n",
      " 74  secondary_cleaner.state.floatbank3_b_air            19438 non-null  float64\n",
      " 75  secondary_cleaner.state.floatbank3_b_level          19438 non-null  float64\n",
      " 76  secondary_cleaner.state.floatbank4_a_air            19433 non-null  float64\n",
      " 77  secondary_cleaner.state.floatbank4_a_level          19438 non-null  float64\n",
      " 78  secondary_cleaner.state.floatbank4_b_air            19438 non-null  float64\n",
      " 79  secondary_cleaner.state.floatbank4_b_level          19438 non-null  float64\n",
      " 80  secondary_cleaner.state.floatbank5_a_air            19438 non-null  float64\n",
      " 81  secondary_cleaner.state.floatbank5_a_level          19438 non-null  float64\n",
      " 82  secondary_cleaner.state.floatbank5_b_air            19438 non-null  float64\n",
      " 83  secondary_cleaner.state.floatbank5_b_level          19438 non-null  float64\n",
      " 84  secondary_cleaner.state.floatbank6_a_air            19437 non-null  float64\n",
      " 85  secondary_cleaner.state.floatbank6_a_level          19438 non-null  float64\n",
      "dtypes: float64(86)\n",
      "memory usage: 12.9+ MB\n"
     ]
    }
   ],
   "source": [
    "inf(gold_recovery_full_new)"
   ]
  },
  {
   "cell_type": "markdown",
   "metadata": {},
   "source": [
    "Проверим, что эффективность обогащения рассчитана правильно. Вычислим её на обучающей выборке для признака rougher.output.recovery. Найдём MAE(метрику качества) между нашими расчётами и значением признака."
   ]
  },
  {
   "cell_type": "code",
   "execution_count": 11,
   "metadata": {},
   "outputs": [
    {
     "name": "stdout",
     "output_type": "stream",
     "text": [
      "Абсолютная средняя ошибка = 1.1131451184435918e-14\n"
     ]
    }
   ],
   "source": [
    "A = gold_recovery_train_new['rougher.output.concentrate_au']\n",
    "B = gold_recovery_train_new['rougher.input.feed_au']\n",
    "C = gold_recovery_train_new['rougher.output.tail_au']\n",
    "output_recovery = gold_recovery_train_new['rougher.output.recovery']\n",
    "calculated_recovery = A * (B - C) * 100 / (B * (A - C))\n",
    "print('Абсолютная средняя ошибка =', mean_absolute_error(output_recovery, calculated_recovery))"
   ]
  },
  {
   "cell_type": "markdown",
   "metadata": {},
   "source": [
    "MAE с небольшим отклонением, значит, расчетное значение rougher.output.recovery совпадает с данными из столбца."
   ]
  },
  {
   "cell_type": "markdown",
   "metadata": {},
   "source": [
    "Посмотрим признаки, которых нет в тестовой выборке."
   ]
  },
  {
   "cell_type": "code",
   "execution_count": 12,
   "metadata": {},
   "outputs": [
    {
     "name": "stdout",
     "output_type": "stream",
     "text": [
      "{'rougher.output.concentrate_ag', 'rougher.output.tail_ag', 'rougher.output.tail_sol', 'primary_cleaner.output.concentrate_pb', 'rougher.output.recovery', 'rougher.calculation.floatbank10_sulfate_to_au_feed', 'final.output.tail_ag', 'rougher.output.concentrate_au', 'secondary_cleaner.output.tail_ag', 'rougher.calculation.au_pb_ratio', 'final.output.tail_pb', 'final.output.concentrate_ag', 'final.output.concentrate_au', 'rougher.output.tail_au', 'primary_cleaner.output.concentrate_ag', 'rougher.output.concentrate_sol', 'rougher.calculation.floatbank11_sulfate_to_au_feed', 'primary_cleaner.output.tail_ag', 'final.output.tail_au', 'rougher.output.concentrate_pb', 'secondary_cleaner.output.tail_pb', 'secondary_cleaner.output.tail_sol', 'primary_cleaner.output.tail_au', 'primary_cleaner.output.tail_sol', 'primary_cleaner.output.concentrate_au', 'final.output.recovery', 'final.output.concentrate_pb', 'final.output.tail_sol', 'primary_cleaner.output.concentrate_sol', 'rougher.output.tail_pb', 'rougher.calculation.sulfate_to_au_concentrate', 'secondary_cleaner.output.tail_au', 'final.output.concentrate_sol', 'primary_cleaner.output.tail_pb'}\n"
     ]
    }
   ],
   "source": [
    "spare = set(gold_recovery_train_new.columns.to_list()) - set(gold_recovery_test_new.columns.to_list())\n",
    "print(spare)"
   ]
  },
  {
   "cell_type": "code",
   "execution_count": 13,
   "metadata": {},
   "outputs": [
    {
     "data": {
      "text/plain": [
       "(5290, 54)"
      ]
     },
     "execution_count": 13,
     "metadata": {},
     "output_type": "execute_result"
    }
   ],
   "source": [
    "gold_recovery_test_new = gold_recovery_test_new.merge(gold_recovery_full_new[['rougher.output.recovery','final.output.recovery']].loc[gold_recovery_test_new.index], on='date', how='left')\n",
    "gold_recovery_test_new.shape"
   ]
  },
  {
   "cell_type": "markdown",
   "metadata": {},
   "source": [
    "Заполним пропущенные значения в обучающей выборке. "
   ]
  },
  {
   "cell_type": "code",
   "execution_count": 14,
   "metadata": {},
   "outputs": [
    {
     "data": {
      "text/plain": [
       "0"
      ]
     },
     "execution_count": 14,
     "metadata": {},
     "output_type": "execute_result"
    }
   ],
   "source": [
    "gold_recovery_train_new.fillna(method='ffill', inplace=True)\n",
    "gold_recovery_train_new.isna().sum().sum()"
   ]
  },
  {
   "cell_type": "markdown",
   "metadata": {},
   "source": [
    "### Вывод \n",
    "\n",
    "- Проверен расчет эффективности обогащения, отклонение незначительное.\n",
    "- Проанализированы признаки, недоступные в тестовой выборке: расчётные и целевые.\n",
    "- Проведена предобработка данных.\n",
    "- Добавили недостающие 'rougher.output.recovery','final.output.recovery' в тестовую выборку."
   ]
  },
  {
   "cell_type": "markdown",
   "metadata": {},
   "source": [
    "## Анализ данных"
   ]
  },
  {
   "cell_type": "markdown",
   "metadata": {},
   "source": [
    "Посмотрим, как меняется концентрация металлов (Au, Ag, Pb) на различных этапах очистки."
   ]
  },
  {
   "cell_type": "code",
   "execution_count": 15,
   "metadata": {
    "scrolled": true
   },
   "outputs": [
    {
     "data": {
      "image/png": "[encoded data removed]",
      "text/plain": [
       "<Figure size 864x576 with 1 Axes>"
      ]
     },
     "metadata": {
      "needs_background": "light"
     },
     "output_type": "display_data"
    },
    {
     "data": {
      "image/png": "[encoded data removed]",
      "text/plain": [
       "<Figure size 864x576 with 1 Axes>"
      ]
     },
     "metadata": {
      "needs_background": "light"
     },
     "output_type": "display_data"
    },
    {
     "data": {
      "image/png": "[encoded data removed]",
      "text/plain": [
       "<Figure size 864x576 with 1 Axes>"
      ]
     },
     "metadata": {
      "needs_background": "light"
     },
     "output_type": "display_data"
    }
   ],
   "source": [
    "me = [('au', 'золота'), ('ag', 'серебра'), ('pb', 'свинца')]\n",
    "\n",
    "concentrate = [('rougher.output.concentrate_', 'lightgray'), \n",
    "               ('primary_cleaner.output.concentrate_', 'silver'), \n",
    "               ('final.output.concentrate_', 'gray'), \n",
    "               ('rougher.input.feed_', 'black')]\n",
    "\n",
    "for n in me:\n",
    "    plt.figure(figsize=(12,8))\n",
    "    lables= []\n",
    "    for i in concentrate:\n",
    "        m = sns.violinplot(x = gold_recovery_full_new[i[0] + n[0]], color=i[1])\n",
    "        title = m.set(xlabel =  'Концентрация ' + n[1] + ' на различных этапах очистки')\n",
    "        lables.append(f'{i[0]}{n[0]} {i[1]}')\n",
    "    plt.legend(labels=lables)\n",
    "    plt.show()"
   ]
  },
  {
   "cell_type": "markdown",
   "metadata": {},
   "source": [
    "- Концентрация золота становится выше с каждым этапом очитки(от светло-серого к серому). \n",
    "- Концентрация серебра становится ниже с каждым этапом очистки.\n",
    "- Концентрация свинца повышается значительно уже после первичной очистки."
   ]
  },
  {
   "cell_type": "markdown",
   "metadata": {},
   "source": [
    "Сравним распределение размеров гранул сырья на обучающей и тестовой выборках."
   ]
  },
  {
   "cell_type": "code",
   "execution_count": 16,
   "metadata": {},
   "outputs": [
    {
     "data": {
      "image/png": "[encoded data removed]",
      "text/plain": [
       "<Figure size 1440x1080 with 1 Axes>"
      ]
     },
     "metadata": {
      "needs_background": "light"
     },
     "output_type": "display_data"
    }
   ],
   "source": [
    "def size(train, test, titl):\n",
    "    plt.subplots(1,figsize=(20, 15))\n",
    "    sns.kdeplot(train.loc[train < 120], shade=True, color=\"gray\", label=\"обучающая выборка\", alpha=.6)\n",
    "    sns.kdeplot(test.loc[test < 120], shade=True, color=\"lightgray\", label=\"тестовая выборка\", alpha=.6)\n",
    "    plt.legend(fontsize=18)\n",
    "    plt.xlabel('Распределение размеров гранул сырья '+ titl, fontsize=18)\n",
    "    plt.ylabel('плотность', fontsize=16)\n",
    "size(gold_recovery_train_new['rougher.input.feed_size'], gold_recovery_test_new['rougher.input.feed_size'], 'перед флотацией')"
   ]
  },
  {
   "cell_type": "code",
   "execution_count": 17,
   "metadata": {},
   "outputs": [
    {
     "data": {
      "image/png": "[encoded data removed]",
      "text/plain": [
       "<Figure size 1440x1080 with 1 Axes>"
      ]
     },
     "metadata": {
      "needs_background": "light"
     },
     "output_type": "display_data"
    }
   ],
   "source": [
    "size(gold_recovery_train_new['primary_cleaner.input.feed_size'], gold_recovery_test_new['primary_cleaner.input.feed_size'], 'после первичной очистки')"
   ]
  },
  {
   "cell_type": "markdown",
   "metadata": {},
   "source": [
    "Размеры гранул с нормальным распределением, оценка модели будет правильной."
   ]
  },
  {
   "cell_type": "markdown",
   "metadata": {},
   "source": [
    "Исследуем суммарную концентрацию всех веществ на разных стадиях: в сырье, в черновом и финальном концентратах. "
   ]
  },
  {
   "cell_type": "code",
   "execution_count": 18,
   "metadata": {},
   "outputs": [],
   "source": [
    "#суммарная концентрация веществ в сырье\n",
    "sum_input = gold_recovery_full_new[['rougher.input.feed_au','rougher.input.feed_ag','rougher.input.feed_pb','rougher.input.feed_sol']].sum(axis=1)\n",
    "#суммарная концентрация веществ в черновом концентрате\n",
    "sum_output = gold_recovery_full_new[['rougher.output.concentrate_au','rougher.output.concentrate_ag','rougher.output.concentrate_pb','rougher.output.concentrate_sol']].sum(axis=1)\n",
    "#суммарная концентрация веществ в финальном концентрате\n",
    "sum_final_output = gold_recovery_full_new[['final.output.concentrate_au','final.output.concentrate_ag','final.output.concentrate_pb','final.output.concentrate_sol']].sum(axis=1)"
   ]
  },
  {
   "cell_type": "code",
   "execution_count": 19,
   "metadata": {},
   "outputs": [
    {
     "data": {
      "image/png": "[encoded data removed]",
      "text/plain": [
       "<Figure size 1440x1080 with 1 Axes>"
      ]
     },
     "metadata": {
      "needs_background": "light"
     },
     "output_type": "display_data"
    }
   ],
   "source": [
    "plt.subplots(1,figsize=(20, 15))\n",
    "sns.kdeplot(sum_input, shade=True, color=\"lightgray\", label=\"в сырье\", alpha=.8)\n",
    "sns.kdeplot(sum_output, shade=True, color=\"silver\", label=\"в черновом концентрате\", alpha=.8)\n",
    "sns.kdeplot(sum_final_output, shade=True, color=\"gray\", label=\"в финальном концентрате\", alpha=.8)\n",
    "plt.title('Суммарная концентрация всех веществ на разных стадиях', fontsize=18)\n",
    "plt.ylabel('плотность')\n",
    "plt.legend(loc='upper left', fontsize=18)\n",
    "plt.show()"
   ]
  },
  {
   "cell_type": "markdown",
   "metadata": {},
   "source": [
    "Суммарная концентрация всех веществ значительно возрастает после финальной стадии."
   ]
  },
  {
   "cell_type": "markdown",
   "metadata": {},
   "source": [
    "Уберем из обучающей выборки все значения равные 0."
   ]
  },
  {
   "cell_type": "code",
   "execution_count": 20,
   "metadata": {},
   "outputs": [
    {
     "data": {
      "text/plain": [
       "0.0"
      ]
     },
     "execution_count": 20,
     "metadata": {},
     "output_type": "execute_result"
    }
   ],
   "source": [
    "gold_recovery_train_new['rougher.output.concentrate_au'].min()"
   ]
  },
  {
   "cell_type": "code",
   "execution_count": 21,
   "metadata": {},
   "outputs": [
    {
     "name": "stdout",
     "output_type": "stream",
     "text": [
      "Удалено 433 объекта\n"
     ]
    }
   ],
   "source": [
    "len_train = len(gold_recovery_train_new)\n",
    "me = ['au','ag','pb','sol']\n",
    "\n",
    "for n in me:\n",
    "    for i in concentrate:\n",
    "        gold_recovery_train_new = gold_recovery_train_new.loc[(gold_recovery_train_new[i[0] + n[:3]] != 0)]\n",
    "\n",
    "print(\"Удалено {} объекта\".format(len_train - len(gold_recovery_train_new)))"
   ]
  },
  {
   "cell_type": "code",
   "execution_count": 22,
   "metadata": {},
   "outputs": [
    {
     "data": {
      "text/plain": [
       "0.0099999997764825"
      ]
     },
     "execution_count": 22,
     "metadata": {},
     "output_type": "execute_result"
    }
   ],
   "source": [
    "gold_recovery_train_new['rougher.output.concentrate_au'].min()"
   ]
  },
  {
   "cell_type": "markdown",
   "metadata": {},
   "source": [
    "### Вывод\n",
    "\n",
    "- Каждое вещество ведёт себя по-разному после каждого этапа очистки, суммарная концентрация всех веществ в процессе возрастает.\n",
    "- Размер гранул тестовой и обучающей выборки почти не отличаются."
   ]
  },
  {
   "cell_type": "markdown",
   "metadata": {},
   "source": [
    "## Модель"
   ]
  },
  {
   "cell_type": "markdown",
   "metadata": {},
   "source": [
    "Удалим столбец с датой из тестовой выборки."
   ]
  },
  {
   "cell_type": "code",
   "execution_count": 23,
   "metadata": {},
   "outputs": [],
   "source": [
    "gold_recovery_test_new.drop(gold_recovery_test_new.columns[[0]], axis = 1, inplace=True)"
   ]
  },
  {
   "cell_type": "markdown",
   "metadata": {},
   "source": [
    "Удалим из обучающей выборки признаки, отсутствующие в тестовой."
   ]
  },
  {
   "cell_type": "code",
   "execution_count": 24,
   "metadata": {},
   "outputs": [],
   "source": [
    "spare = set(gold_recovery_train_new.columns.to_list()) - set(gold_recovery_test_new.columns.to_list())\n",
    "gold_recovery_train_new = gold_recovery_train_new.drop(spare, axis='columns')"
   ]
  },
  {
   "cell_type": "markdown",
   "metadata": {},
   "source": [
    "Подготовим признаки."
   ]
  },
  {
   "cell_type": "code",
   "execution_count": 25,
   "metadata": {},
   "outputs": [],
   "source": [
    "train_target_final = gold_recovery_train_new['final.output.recovery']\n",
    "train_target_rougher = gold_recovery_train_new['rougher.output.recovery']\n",
    "\n",
    "train_features_rougher = gold_recovery_train_new.filter(regex='^rougher',axis=1)\n",
    "train_features_rougher = train_features_rougher.drop(['rougher.output.recovery'], axis=1)\n",
    "train_features_final = gold_recovery_train_new.drop(['rougher.output.recovery', 'final.output.recovery'], axis=1)\n",
    "\n",
    "test_target_final = gold_recovery_test_new['final.output.recovery']\n",
    "test_target_rougher = gold_recovery_test_new['rougher.output.recovery']\n",
    "\n",
    "test_features_rougher = gold_recovery_test_new.filter(regex='^rougher',axis=1)\n",
    "test_features_rougher = test_features_rougher.drop(['rougher.output.recovery'], axis=1)\n",
    "test_features_final = gold_recovery_test_new.drop(['rougher.output.recovery', 'final.output.recovery'], axis=1)\n",
    "\n",
    "test_features_rougher.fillna(method='ffill', inplace=True)\n",
    "test_features_final.fillna(method='ffill', inplace=True)"
   ]
  },
  {
   "cell_type": "markdown",
   "metadata": {},
   "source": [
    "Функция вычисления  итоговой sMAPE."
   ]
  },
  {
   "cell_type": "code",
   "execution_count": 26,
   "metadata": {},
   "outputs": [],
   "source": [
    "def sMAPE(y, y_pred): \n",
    "    return (((abs(y - y_pred) * 2 * 100) /\n",
    "              (abs(y) + abs(y_pred))).sum()) / len(y)\n",
    "\n",
    "def total_sMAPE(rougher_smape, final_smape):\n",
    "    return 0.25 * rougher_smape.item() + 0.75 * final_smape.item()"
   ]
  },
  {
   "cell_type": "code",
   "execution_count": 27,
   "metadata": {},
   "outputs": [],
   "source": [
    "def cr_vl_sc(model, target, features):\n",
    "    my_scorer = make_scorer(sMAPE)\n",
    "    \n",
    "    scores = cross_val_score(model,\n",
    "                             features,\n",
    "                             target,\n",
    "                             cv=5,\n",
    "                             scoring=my_scorer)\n",
    "    \n",
    "    return scores.mean()"
   ]
  },
  {
   "cell_type": "markdown",
   "metadata": {},
   "source": [
    "Линейная регрессия."
   ]
  },
  {
   "cell_type": "code",
   "execution_count": 28,
   "metadata": {},
   "outputs": [
    {
     "data": {
      "text/html": [
       "<div>\n",
       "<style scoped>\n",
       "    .dataframe tbody tr th:only-of-type {\n",
       "        vertical-align: middle;\n",
       "    }\n",
       "\n",
       "    .dataframe tbody tr th {\n",
       "        vertical-align: top;\n",
       "    }\n",
       "\n",
       "    .dataframe thead th {\n",
       "        text-align: right;\n",
       "    }\n",
       "</style>\n",
       "<table border=\"1\" class=\"dataframe\">\n",
       "  <thead>\n",
       "    <tr style=\"text-align: right;\">\n",
       "      <th></th>\n",
       "      <th>rougher_smape</th>\n",
       "      <th>final_smape</th>\n",
       "      <th>total_smape</th>\n",
       "    </tr>\n",
       "  </thead>\n",
       "  <tbody>\n",
       "    <tr>\n",
       "      <th>0</th>\n",
       "      <td>6.673364</td>\n",
       "      <td>10.756906</td>\n",
       "      <td>9.736021</td>\n",
       "    </tr>\n",
       "  </tbody>\n",
       "</table>\n",
       "</div>"
      ],
      "text/plain": [
       "   rougher_smape  final_smape  total_smape\n",
       "0       6.673364    10.756906     9.736021"
      ]
     },
     "execution_count": 28,
     "metadata": {},
     "output_type": "execute_result"
    }
   ],
   "source": [
    "model_lr = defaultdict(list)\n",
    "model_lr1 = LinearRegression()\n",
    "model_lr2 = LinearRegression()\n",
    "\n",
    "rougher_smape = cr_vl_sc(model_lr1, train_target_rougher, train_features_rougher)\n",
    "final_smape = cr_vl_sc(model_lr2, train_target_final, train_features_final)\n",
    "total_smape = total_sMAPE(rougher_smape, final_smape)\n",
    "\n",
    "model_lr['rougher_smape'].append(rougher_smape)\n",
    "model_lr['final_smape'].append(final_smape)\n",
    "model_lr['total_smape'].append(total_smape)\n",
    "pd.DataFrame(model_lr)"
   ]
  },
  {
   "cell_type": "markdown",
   "metadata": {},
   "source": [
    "Дерево решений."
   ]
  },
  {
   "cell_type": "code",
   "execution_count": 29,
   "metadata": {},
   "outputs": [
    {
     "data": {
      "text/html": [
       "<div>\n",
       "<style scoped>\n",
       "    .dataframe tbody tr th:only-of-type {\n",
       "        vertical-align: middle;\n",
       "    }\n",
       "\n",
       "    .dataframe tbody tr th {\n",
       "        vertical-align: top;\n",
       "    }\n",
       "\n",
       "    .dataframe thead th {\n",
       "        text-align: right;\n",
       "    }\n",
       "</style>\n",
       "<table border=\"1\" class=\"dataframe\">\n",
       "  <thead>\n",
       "    <tr style=\"text-align: right;\">\n",
       "      <th></th>\n",
       "      <th>rougher_smape</th>\n",
       "      <th>final_smape</th>\n",
       "      <th>total_smape</th>\n",
       "      <th>depth</th>\n",
       "    </tr>\n",
       "  </thead>\n",
       "  <tbody>\n",
       "    <tr>\n",
       "      <th>0</th>\n",
       "      <td>7.958788</td>\n",
       "      <td>9.580493</td>\n",
       "      <td>9.175067</td>\n",
       "      <td>1</td>\n",
       "    </tr>\n",
       "    <tr>\n",
       "      <th>2</th>\n",
       "      <td>7.053219</td>\n",
       "      <td>10.120894</td>\n",
       "      <td>9.353975</td>\n",
       "      <td>3</td>\n",
       "    </tr>\n",
       "    <tr>\n",
       "      <th>1</th>\n",
       "      <td>7.445589</td>\n",
       "      <td>10.092626</td>\n",
       "      <td>9.430867</td>\n",
       "      <td>2</td>\n",
       "    </tr>\n",
       "    <tr>\n",
       "      <th>3</th>\n",
       "      <td>6.969501</td>\n",
       "      <td>10.368131</td>\n",
       "      <td>9.518473</td>\n",
       "      <td>4</td>\n",
       "    </tr>\n",
       "    <tr>\n",
       "      <th>4</th>\n",
       "      <td>6.982696</td>\n",
       "      <td>10.675340</td>\n",
       "      <td>9.752179</td>\n",
       "      <td>5</td>\n",
       "    </tr>\n",
       "    <tr>\n",
       "      <th>5</th>\n",
       "      <td>7.403920</td>\n",
       "      <td>11.856306</td>\n",
       "      <td>10.743209</td>\n",
       "      <td>6</td>\n",
       "    </tr>\n",
       "    <tr>\n",
       "      <th>6</th>\n",
       "      <td>8.070454</td>\n",
       "      <td>11.642417</td>\n",
       "      <td>10.749427</td>\n",
       "      <td>7</td>\n",
       "    </tr>\n",
       "    <tr>\n",
       "      <th>7</th>\n",
       "      <td>8.233252</td>\n",
       "      <td>12.670200</td>\n",
       "      <td>11.560963</td>\n",
       "      <td>8</td>\n",
       "    </tr>\n",
       "    <tr>\n",
       "      <th>8</th>\n",
       "      <td>8.018742</td>\n",
       "      <td>13.642770</td>\n",
       "      <td>12.236763</td>\n",
       "      <td>9</td>\n",
       "    </tr>\n",
       "    <tr>\n",
       "      <th>9</th>\n",
       "      <td>8.168996</td>\n",
       "      <td>14.230412</td>\n",
       "      <td>12.715058</td>\n",
       "      <td>10</td>\n",
       "    </tr>\n",
       "    <tr>\n",
       "      <th>10</th>\n",
       "      <td>8.569068</td>\n",
       "      <td>14.414883</td>\n",
       "      <td>12.953429</td>\n",
       "      <td>11</td>\n",
       "    </tr>\n",
       "    <tr>\n",
       "      <th>11</th>\n",
       "      <td>8.465566</td>\n",
       "      <td>14.777265</td>\n",
       "      <td>13.199340</td>\n",
       "      <td>12</td>\n",
       "    </tr>\n",
       "    <tr>\n",
       "      <th>12</th>\n",
       "      <td>8.581859</td>\n",
       "      <td>15.567803</td>\n",
       "      <td>13.821317</td>\n",
       "      <td>13</td>\n",
       "    </tr>\n",
       "    <tr>\n",
       "      <th>13</th>\n",
       "      <td>8.369475</td>\n",
       "      <td>15.776228</td>\n",
       "      <td>13.924540</td>\n",
       "      <td>14</td>\n",
       "    </tr>\n",
       "  </tbody>\n",
       "</table>\n",
       "</div>"
      ],
      "text/plain": [
       "    rougher_smape  final_smape  total_smape  depth\n",
       "0        7.958788     9.580493     9.175067      1\n",
       "2        7.053219    10.120894     9.353975      3\n",
       "1        7.445589    10.092626     9.430867      2\n",
       "3        6.969501    10.368131     9.518473      4\n",
       "4        6.982696    10.675340     9.752179      5\n",
       "5        7.403920    11.856306    10.743209      6\n",
       "6        8.070454    11.642417    10.749427      7\n",
       "7        8.233252    12.670200    11.560963      8\n",
       "8        8.018742    13.642770    12.236763      9\n",
       "9        8.168996    14.230412    12.715058     10\n",
       "10       8.569068    14.414883    12.953429     11\n",
       "11       8.465566    14.777265    13.199340     12\n",
       "12       8.581859    15.567803    13.821317     13\n",
       "13       8.369475    15.776228    13.924540     14"
      ]
     },
     "execution_count": 29,
     "metadata": {},
     "output_type": "execute_result"
    }
   ],
   "source": [
    "model_dtr = defaultdict(list)\n",
    "\n",
    "for depth in range(1, 15):\n",
    "    \n",
    "    model_dtr1 = DecisionTreeRegressor(max_depth=depth, random_state=12345)\n",
    "    model_dtr2 = DecisionTreeRegressor(max_depth=depth, random_state=12345)\n",
    "\n",
    "\n",
    "    rougher_smape = cr_vl_sc(model_dtr1, train_target_rougher, train_features_rougher)\n",
    "    final_smape = cr_vl_sc(model_dtr2, train_target_final, train_features_final)\n",
    "    model_dtr['rougher_smape'].append(rougher_smape)\n",
    "    model_dtr['final_smape'].append(final_smape)\n",
    "    model_dtr['total_smape'].append(total_sMAPE(rougher_smape, final_smape))\n",
    "    model_dtr['depth'].append(depth)\n",
    "\n",
    "pd.DataFrame(model_dtr).sort_values(by='total_smape')"
   ]
  },
  {
   "cell_type": "markdown",
   "metadata": {},
   "source": [
    "Для модели дерево решений лучший sMAPE при max_depth=1."
   ]
  },
  {
   "cell_type": "markdown",
   "metadata": {},
   "source": [
    "Случайный лес."
   ]
  },
  {
   "cell_type": "code",
   "execution_count": 31,
   "metadata": {},
   "outputs": [
    {
     "data": {
      "text/html": [
       "<div>\n",
       "<style scoped>\n",
       "    .dataframe tbody tr th:only-of-type {\n",
       "        vertical-align: middle;\n",
       "    }\n",
       "\n",
       "    .dataframe tbody tr th {\n",
       "        vertical-align: top;\n",
       "    }\n",
       "\n",
       "    .dataframe thead th {\n",
       "        text-align: right;\n",
       "    }\n",
       "</style>\n",
       "<table border=\"1\" class=\"dataframe\">\n",
       "  <thead>\n",
       "    <tr style=\"text-align: right;\">\n",
       "      <th></th>\n",
       "      <th>rougher_smape</th>\n",
       "      <th>final_smape</th>\n",
       "      <th>total_smape</th>\n",
       "      <th>estim</th>\n",
       "    </tr>\n",
       "  </thead>\n",
       "  <tbody>\n",
       "    <tr>\n",
       "      <th>4</th>\n",
       "      <td>7.614417</td>\n",
       "      <td>9.546644</td>\n",
       "      <td>9.063587</td>\n",
       "      <td>5</td>\n",
       "    </tr>\n",
       "    <tr>\n",
       "      <th>18</th>\n",
       "      <td>7.598699</td>\n",
       "      <td>9.551904</td>\n",
       "      <td>9.063603</td>\n",
       "      <td>19</td>\n",
       "    </tr>\n",
       "    <tr>\n",
       "      <th>11</th>\n",
       "      <td>7.610160</td>\n",
       "      <td>9.549350</td>\n",
       "      <td>9.064552</td>\n",
       "      <td>12</td>\n",
       "    </tr>\n",
       "    <tr>\n",
       "      <th>10</th>\n",
       "      <td>7.614312</td>\n",
       "      <td>9.551009</td>\n",
       "      <td>9.066835</td>\n",
       "      <td>11</td>\n",
       "    </tr>\n",
       "    <tr>\n",
       "      <th>17</th>\n",
       "      <td>7.618397</td>\n",
       "      <td>9.550562</td>\n",
       "      <td>9.067521</td>\n",
       "      <td>18</td>\n",
       "    </tr>\n",
       "    <tr>\n",
       "      <th>5</th>\n",
       "      <td>7.597360</td>\n",
       "      <td>9.558022</td>\n",
       "      <td>9.067857</td>\n",
       "      <td>6</td>\n",
       "    </tr>\n",
       "    <tr>\n",
       "      <th>9</th>\n",
       "      <td>7.618992</td>\n",
       "      <td>9.553688</td>\n",
       "      <td>9.070014</td>\n",
       "      <td>10</td>\n",
       "    </tr>\n",
       "    <tr>\n",
       "      <th>3</th>\n",
       "      <td>7.662535</td>\n",
       "      <td>9.540202</td>\n",
       "      <td>9.070785</td>\n",
       "      <td>4</td>\n",
       "    </tr>\n",
       "    <tr>\n",
       "      <th>14</th>\n",
       "      <td>7.624346</td>\n",
       "      <td>9.555741</td>\n",
       "      <td>9.072892</td>\n",
       "      <td>15</td>\n",
       "    </tr>\n",
       "    <tr>\n",
       "      <th>15</th>\n",
       "      <td>7.634876</td>\n",
       "      <td>9.552987</td>\n",
       "      <td>9.073459</td>\n",
       "      <td>16</td>\n",
       "    </tr>\n",
       "    <tr>\n",
       "      <th>16</th>\n",
       "      <td>7.643322</td>\n",
       "      <td>9.551711</td>\n",
       "      <td>9.074614</td>\n",
       "      <td>17</td>\n",
       "    </tr>\n",
       "    <tr>\n",
       "      <th>8</th>\n",
       "      <td>7.619430</td>\n",
       "      <td>9.560048</td>\n",
       "      <td>9.074893</td>\n",
       "      <td>9</td>\n",
       "    </tr>\n",
       "    <tr>\n",
       "      <th>12</th>\n",
       "      <td>7.623719</td>\n",
       "      <td>9.560178</td>\n",
       "      <td>9.076063</td>\n",
       "      <td>13</td>\n",
       "    </tr>\n",
       "    <tr>\n",
       "      <th>13</th>\n",
       "      <td>7.646002</td>\n",
       "      <td>9.556202</td>\n",
       "      <td>9.078652</td>\n",
       "      <td>14</td>\n",
       "    </tr>\n",
       "    <tr>\n",
       "      <th>7</th>\n",
       "      <td>7.612471</td>\n",
       "      <td>9.568434</td>\n",
       "      <td>9.079443</td>\n",
       "      <td>8</td>\n",
       "    </tr>\n",
       "    <tr>\n",
       "      <th>6</th>\n",
       "      <td>7.645428</td>\n",
       "      <td>9.563557</td>\n",
       "      <td>9.084025</td>\n",
       "      <td>7</td>\n",
       "    </tr>\n",
       "    <tr>\n",
       "      <th>2</th>\n",
       "      <td>7.764494</td>\n",
       "      <td>9.554687</td>\n",
       "      <td>9.107139</td>\n",
       "      <td>3</td>\n",
       "    </tr>\n",
       "    <tr>\n",
       "      <th>1</th>\n",
       "      <td>7.874260</td>\n",
       "      <td>9.549621</td>\n",
       "      <td>9.130781</td>\n",
       "      <td>2</td>\n",
       "    </tr>\n",
       "    <tr>\n",
       "      <th>0</th>\n",
       "      <td>8.082681</td>\n",
       "      <td>9.614714</td>\n",
       "      <td>9.231706</td>\n",
       "      <td>1</td>\n",
       "    </tr>\n",
       "  </tbody>\n",
       "</table>\n",
       "</div>"
      ],
      "text/plain": [
       "    rougher_smape  final_smape  total_smape  estim\n",
       "4        7.614417     9.546644     9.063587      5\n",
       "18       7.598699     9.551904     9.063603     19\n",
       "11       7.610160     9.549350     9.064552     12\n",
       "10       7.614312     9.551009     9.066835     11\n",
       "17       7.618397     9.550562     9.067521     18\n",
       "5        7.597360     9.558022     9.067857      6\n",
       "9        7.618992     9.553688     9.070014     10\n",
       "3        7.662535     9.540202     9.070785      4\n",
       "14       7.624346     9.555741     9.072892     15\n",
       "15       7.634876     9.552987     9.073459     16\n",
       "16       7.643322     9.551711     9.074614     17\n",
       "8        7.619430     9.560048     9.074893      9\n",
       "12       7.623719     9.560178     9.076063     13\n",
       "13       7.646002     9.556202     9.078652     14\n",
       "7        7.612471     9.568434     9.079443      8\n",
       "6        7.645428     9.563557     9.084025      7\n",
       "2        7.764494     9.554687     9.107139      3\n",
       "1        7.874260     9.549621     9.130781      2\n",
       "0        8.082681     9.614714     9.231706      1"
      ]
     },
     "execution_count": 31,
     "metadata": {},
     "output_type": "execute_result"
    }
   ],
   "source": [
    "model_rf = defaultdict(list)\n",
    "for estim in range(1, 20):\n",
    "    \n",
    "    model_rf1 = RandomForestRegressor(max_depth=1, n_estimators=estim, random_state=12345)\n",
    "    model_rf2 = RandomForestRegressor(max_depth=1, n_estimators=estim, random_state=12345)\n",
    "    \n",
    "    rougher_smape = cr_vl_sc(model_rf1, train_target_rougher, train_features_rougher)\n",
    "    final_smape = cr_vl_sc(model_rf2, train_target_final, train_features_final)\n",
    "    \n",
    "    model_rf['rougher_smape'].append(rougher_smape)\n",
    "    model_rf['final_smape'].append(final_smape)\n",
    "    model_rf['total_smape'].append(total_sMAPE(rougher_smape, final_smape))\n",
    "    model_rf['estim'].append(estim)\n",
    "\n",
    "pd.DataFrame(model_rf).sort_values(by='total_smape')"
   ]
  },
  {
   "cell_type": "markdown",
   "metadata": {},
   "source": [
    "В модели Случайный лес лучший sMAPE при estim=5.\n",
    "Лучшая модель: RandomForestRegressor(max_depth=1, n_estimators=5)"
   ]
  },
  {
   "cell_type": "markdown",
   "metadata": {},
   "source": [
    "Проверим модель на тестовой выборке."
   ]
  },
  {
   "cell_type": "code",
   "execution_count": 32,
   "metadata": {},
   "outputs": [
    {
     "data": {
      "text/html": [
       "<div>\n",
       "<style scoped>\n",
       "    .dataframe tbody tr th:only-of-type {\n",
       "        vertical-align: middle;\n",
       "    }\n",
       "\n",
       "    .dataframe tbody tr th {\n",
       "        vertical-align: top;\n",
       "    }\n",
       "\n",
       "    .dataframe thead th {\n",
       "        text-align: right;\n",
       "    }\n",
       "</style>\n",
       "<table border=\"1\" class=\"dataframe\">\n",
       "  <thead>\n",
       "    <tr style=\"text-align: right;\">\n",
       "      <th></th>\n",
       "      <th>rougher_smape</th>\n",
       "      <th>final_smape</th>\n",
       "      <th>total_smape</th>\n",
       "    </tr>\n",
       "  </thead>\n",
       "  <tbody>\n",
       "    <tr>\n",
       "      <th>0</th>\n",
       "      <td>8.186632</td>\n",
       "      <td>9.576719</td>\n",
       "      <td>9.229197</td>\n",
       "    </tr>\n",
       "  </tbody>\n",
       "</table>\n",
       "</div>"
      ],
      "text/plain": [
       "   rougher_smape  final_smape  total_smape\n",
       "0       8.186632     9.576719     9.229197"
      ]
     },
     "execution_count": 32,
     "metadata": {},
     "output_type": "execute_result"
    }
   ],
   "source": [
    "tst = defaultdict(list)\n",
    "\n",
    "m_1 = LinearRegression()\n",
    "m_2 =  RandomForestRegressor(max_depth=1, n_estimators=5, random_state=12345)\n",
    "\n",
    "m_1.fit(train_features_rougher, train_target_rougher)\n",
    "m_2.fit(train_features_final, train_target_final)\n",
    "\n",
    "train_predictions_1 = m_1.predict(test_features_rougher)\n",
    "train_predictions_2 = m_2.predict(test_features_final)\n",
    "\n",
    "tst['rougher_smape'].append(sMAPE(test_target_rougher, train_predictions_1))\n",
    "tst['final_smape'].append(sMAPE(test_target_final, train_predictions_2))\n",
    "tst['total_smape'].append(total_sMAPE(sMAPE(test_target_rougher, train_predictions_1), sMAPE(test_target_final, train_predictions_2)))\n",
    "pd.DataFrame(tst)"
   ]
  },
  {
   "cell_type": "markdown",
   "metadata": {},
   "source": [
    "Проверим адекватность модели."
   ]
  },
  {
   "cell_type": "code",
   "execution_count": 34,
   "metadata": {},
   "outputs": [
    {
     "data": {
      "text/html": [
       "<div>\n",
       "<style scoped>\n",
       "    .dataframe tbody tr th:only-of-type {\n",
       "        vertical-align: middle;\n",
       "    }\n",
       "\n",
       "    .dataframe tbody tr th {\n",
       "        vertical-align: top;\n",
       "    }\n",
       "\n",
       "    .dataframe thead th {\n",
       "        text-align: right;\n",
       "    }\n",
       "</style>\n",
       "<table border=\"1\" class=\"dataframe\">\n",
       "  <thead>\n",
       "    <tr style=\"text-align: right;\">\n",
       "      <th></th>\n",
       "      <th>rougher_smape</th>\n",
       "      <th>final_smape</th>\n",
       "      <th>total_smape</th>\n",
       "    </tr>\n",
       "  </thead>\n",
       "  <tbody>\n",
       "    <tr>\n",
       "      <th>0</th>\n",
       "      <td>9.062804</td>\n",
       "      <td>10.08255</td>\n",
       "      <td>9.827614</td>\n",
       "    </tr>\n",
       "  </tbody>\n",
       "</table>\n",
       "</div>"
      ],
      "text/plain": [
       "   rougher_smape  final_smape  total_smape\n",
       "0       9.062804     10.08255     9.827614"
      ]
     },
     "execution_count": 34,
     "metadata": {},
     "output_type": "execute_result"
    }
   ],
   "source": [
    "dr = defaultdict(list)\n",
    "dummy_model_rougher = DummyRegressor(strategy=\"mean\")\n",
    "dummy_model_final = DummyRegressor(strategy=\"mean\")\n",
    "dummy_model_rougher.fit(train_features_rougher, train_target_rougher)\n",
    "dummy_model_final.fit(train_features_final, train_target_final)\n",
    "test_predictions_rougher = dummy_model_rougher.predict(test_features_rougher)\n",
    "test_predictions_final = dummy_model_final.predict(test_features_final)\n",
    "\n",
    "dr['rougher_smape'].append(sMAPE(test_target_rougher, test_predictions_rougher))\n",
    "dr['final_smape'].append(sMAPE(test_target_final, test_predictions_final))\n",
    "dr['total_smape'].append(total_sMAPE(sMAPE(test_target_rougher, test_predictions_rougher), sMAPE(test_target_final, test_predictions_final)))\n",
    "pd.DataFrame(dr)"
   ]
  },
  {
   "cell_type": "markdown",
   "metadata": {},
   "source": [
    "### Вывод\n",
    "\n",
    "Была отобрана лучшая модель - RandomForestRegressor. Ее значение sMAPE самое низкое.\n",
    " "
   ]
  }
 ],
 "metadata": {
  "ExecuteTimeLog": [
   {
    "duration": 1412,
    "start_time": "2023-01-17T04:03:27.012Z"
   },
   {
    "duration": 2008,
    "start_time": "2023-01-17T04:04:11.586Z"
   },
   {
    "duration": 377,
    "start_time": "2023-01-17T04:04:14.776Z"
   },
   {
    "duration": 828,
    "start_time": "2023-01-17T04:05:34.497Z"
   },
   {
    "duration": 454,
    "start_time": "2023-01-17T04:05:40.665Z"
   },
   {
    "duration": 1894,
    "start_time": "2023-01-17T04:05:42.081Z"
   },
   {
    "duration": 3,
    "start_time": "2023-01-17T04:07:12.088Z"
   },
   {
    "duration": 151,
    "start_time": "2023-01-17T04:07:19.224Z"
   },
   {
    "duration": 3,
    "start_time": "2023-01-17T04:07:41.416Z"
   },
   {
    "duration": 121,
    "start_time": "2023-01-17T04:07:42.080Z"
   },
   {
    "duration": 41,
    "start_time": "2023-01-17T04:07:43.175Z"
   },
   {
    "duration": 113,
    "start_time": "2023-01-17T04:07:44.048Z"
   },
   {
    "duration": 23,
    "start_time": "2023-01-17T04:07:45.153Z"
   },
   {
    "duration": 46,
    "start_time": "2023-01-17T04:07:50.760Z"
   },
   {
    "duration": 6,
    "start_time": "2023-01-17T04:08:31.398Z"
   },
   {
    "duration": 17,
    "start_time": "2023-01-17T04:09:40.610Z"
   },
   {
    "duration": 11,
    "start_time": "2023-01-17T04:09:42.577Z"
   },
   {
    "duration": 4,
    "start_time": "2023-01-17T04:10:53.261Z"
   },
   {
    "duration": 244,
    "start_time": "2023-01-17T04:11:12.779Z"
   },
   {
    "duration": 56,
    "start_time": "2023-01-17T04:11:15.172Z"
   },
   {
    "duration": 23,
    "start_time": "2023-01-17T04:11:33.187Z"
   },
   {
    "duration": 20,
    "start_time": "2023-01-17T04:11:46.430Z"
   },
   {
    "duration": 17,
    "start_time": "2023-01-17T04:12:02.618Z"
   },
   {
    "duration": 232,
    "start_time": "2023-01-17T04:12:06.424Z"
   },
   {
    "duration": 61,
    "start_time": "2023-01-17T04:12:09.858Z"
   },
   {
    "duration": 21,
    "start_time": "2023-01-17T04:12:30.909Z"
   },
   {
    "duration": 20,
    "start_time": "2023-01-17T04:12:44.057Z"
   },
   {
    "duration": 15,
    "start_time": "2023-01-17T04:12:46.514Z"
   },
   {
    "duration": 48,
    "start_time": "2023-01-17T04:12:48.190Z"
   },
   {
    "duration": 6,
    "start_time": "2023-01-17T04:13:06.568Z"
   },
   {
    "duration": 5,
    "start_time": "2023-01-17T04:13:18.984Z"
   },
   {
    "duration": 508,
    "start_time": "2023-01-17T04:13:29.092Z"
   },
   {
    "duration": 469,
    "start_time": "2023-01-17T04:13:32.124Z"
   },
   {
    "duration": 481,
    "start_time": "2023-01-17T04:13:34.636Z"
   },
   {
    "duration": 658,
    "start_time": "2023-01-17T04:13:36.924Z"
   },
   {
    "duration": 354,
    "start_time": "2023-01-17T04:13:39.404Z"
   },
   {
    "duration": 97,
    "start_time": "2023-01-17T04:13:41.315Z"
   },
   {
    "duration": 6,
    "start_time": "2023-01-17T04:14:27.940Z"
   },
   {
    "duration": 574,
    "start_time": "2023-01-17T04:14:33.145Z"
   },
   {
    "duration": 477,
    "start_time": "2023-01-17T04:14:42.540Z"
   },
   {
    "duration": 50,
    "start_time": "2023-01-17T04:14:45.740Z"
   },
   {
    "duration": 14,
    "start_time": "2023-01-17T04:14:59.219Z"
   },
   {
    "duration": 8,
    "start_time": "2023-01-17T04:15:04.377Z"
   },
   {
    "duration": 3,
    "start_time": "2023-01-17T04:15:06.657Z"
   },
   {
    "duration": 5,
    "start_time": "2023-01-17T04:15:08.517Z"
   },
   {
    "duration": 5,
    "start_time": "2023-01-17T04:15:09.399Z"
   },
   {
    "duration": 3,
    "start_time": "2023-01-17T04:15:11.196Z"
   },
   {
    "duration": 48,
    "start_time": "2023-01-17T04:15:28.496Z"
   },
   {
    "duration": 74,
    "start_time": "2023-01-17T04:15:56.014Z"
   },
   {
    "duration": 2208,
    "start_time": "2023-01-17T04:16:34.235Z"
   },
   {
    "duration": 2752,
    "start_time": "2023-01-17T04:17:00.795Z"
   },
   {
    "duration": 55,
    "start_time": "2023-01-17T04:17:05.915Z"
   },
   {
    "duration": 1269,
    "start_time": "2023-01-17T04:18:38.739Z"
   },
   {
    "duration": 287,
    "start_time": "2023-01-17T04:18:40.010Z"
   },
   {
    "duration": 87,
    "start_time": "2023-01-17T04:18:40.298Z"
   },
   {
    "duration": 347,
    "start_time": "2023-01-17T04:18:40.510Z"
   },
   {
    "duration": 3,
    "start_time": "2023-01-17T04:18:41.201Z"
   },
   {
    "duration": 137,
    "start_time": "2023-01-17T04:18:41.586Z"
   },
   {
    "duration": 42,
    "start_time": "2023-01-17T04:18:41.896Z"
   },
   {
    "duration": 109,
    "start_time": "2023-01-17T04:18:42.352Z"
   },
   {
    "duration": 23,
    "start_time": "2023-01-17T04:18:42.655Z"
   },
   {
    "duration": 6,
    "start_time": "2023-01-17T04:18:43.057Z"
   },
   {
    "duration": 18,
    "start_time": "2023-01-17T04:18:43.625Z"
   },
   {
    "duration": 11,
    "start_time": "2023-01-17T04:18:43.872Z"
   },
   {
    "duration": 4,
    "start_time": "2023-01-17T04:18:44.432Z"
   },
   {
    "duration": 253,
    "start_time": "2023-01-17T04:18:44.976Z"
   },
   {
    "duration": 25,
    "start_time": "2023-01-17T04:18:45.571Z"
   },
   {
    "duration": 20,
    "start_time": "2023-01-17T04:18:45.795Z"
   },
   {
    "duration": 16,
    "start_time": "2023-01-17T04:18:46.281Z"
   },
   {
    "duration": 223,
    "start_time": "2023-01-17T04:18:46.567Z"
   },
   {
    "duration": 20,
    "start_time": "2023-01-17T04:18:46.849Z"
   },
   {
    "duration": 13,
    "start_time": "2023-01-17T04:18:47.125Z"
   },
   {
    "duration": 14,
    "start_time": "2023-01-17T04:18:47.384Z"
   },
   {
    "duration": 5,
    "start_time": "2023-01-17T04:18:47.966Z"
   },
   {
    "duration": 5,
    "start_time": "2023-01-17T04:18:48.336Z"
   },
   {
    "duration": 532,
    "start_time": "2023-01-17T04:18:49.793Z"
   },
   {
    "duration": 465,
    "start_time": "2023-01-17T04:18:50.327Z"
   },
   {
    "duration": 467,
    "start_time": "2023-01-17T04:18:50.822Z"
   },
   {
    "duration": 673,
    "start_time": "2023-01-17T04:18:51.427Z"
   },
   {
    "duration": 355,
    "start_time": "2023-01-17T04:18:52.525Z"
   },
   {
    "duration": 6,
    "start_time": "2023-01-17T04:18:53.394Z"
   },
   {
    "duration": 583,
    "start_time": "2023-01-17T04:18:53.712Z"
   },
   {
    "duration": 470,
    "start_time": "2023-01-17T04:18:54.389Z"
   },
   {
    "duration": 14,
    "start_time": "2023-01-17T04:18:55.089Z"
   },
   {
    "duration": 8,
    "start_time": "2023-01-17T04:18:56.552Z"
   },
   {
    "duration": 3,
    "start_time": "2023-01-17T04:18:58.472Z"
   },
   {
    "duration": 6,
    "start_time": "2023-01-17T04:18:59.443Z"
   },
   {
    "duration": 5,
    "start_time": "2023-01-17T04:18:59.817Z"
   },
   {
    "duration": 4,
    "start_time": "2023-01-17T04:19:00.504Z"
   },
   {
    "duration": 2553,
    "start_time": "2023-01-17T04:19:01.696Z"
   },
   {
    "duration": 2692,
    "start_time": "2023-01-17T04:19:04.361Z"
   },
   {
    "duration": 65,
    "start_time": "2023-01-21T02:08:12.760Z"
   },
   {
    "duration": 1829,
    "start_time": "2023-01-21T02:08:22.332Z"
   },
   {
    "duration": 1599,
    "start_time": "2023-01-21T02:08:24.164Z"
   },
   {
    "duration": 240,
    "start_time": "2023-01-21T02:08:25.765Z"
   },
   {
    "duration": 793,
    "start_time": "2023-01-21T02:08:26.012Z"
   },
   {
    "duration": 5,
    "start_time": "2023-01-21T02:08:26.809Z"
   },
   {
    "duration": 202,
    "start_time": "2023-01-21T02:08:26.816Z"
   },
   {
    "duration": 77,
    "start_time": "2023-01-21T02:08:27.019Z"
   },
   {
    "duration": 159,
    "start_time": "2023-01-21T02:08:27.105Z"
   },
   {
    "duration": 52,
    "start_time": "2023-01-21T02:08:27.266Z"
   },
   {
    "duration": 11,
    "start_time": "2023-01-21T02:08:27.320Z"
   },
   {
    "duration": 27,
    "start_time": "2023-01-21T02:08:29.715Z"
   },
   {
    "duration": 14,
    "start_time": "2023-01-21T02:08:30.263Z"
   },
   {
    "duration": 7,
    "start_time": "2023-01-21T02:08:31.506Z"
   },
   {
    "duration": 348,
    "start_time": "2023-01-21T02:08:33.211Z"
   },
   {
    "duration": 336,
    "start_time": "2023-01-21T02:08:54.245Z"
   },
   {
    "duration": 421,
    "start_time": "2023-01-21T02:09:04.714Z"
   },
   {
    "duration": 362,
    "start_time": "2023-01-21T02:09:13.357Z"
   },
   {
    "duration": 26,
    "start_time": "2023-01-21T02:09:28.243Z"
   },
   {
    "duration": 24,
    "start_time": "2023-01-21T02:09:28.654Z"
   },
   {
    "duration": 22,
    "start_time": "2023-01-21T02:09:34.011Z"
   },
   {
    "duration": 372,
    "start_time": "2023-01-21T02:10:06.726Z"
   },
   {
    "duration": 38,
    "start_time": "2023-01-21T02:10:11.757Z"
   },
   {
    "duration": 24,
    "start_time": "2023-01-21T02:10:12.506Z"
   },
   {
    "duration": 37,
    "start_time": "2023-01-21T02:10:13.187Z"
   },
   {
    "duration": 7,
    "start_time": "2023-01-21T02:10:14.911Z"
   },
   {
    "duration": 9,
    "start_time": "2023-01-21T02:10:15.624Z"
   },
   {
    "duration": 657,
    "start_time": "2023-01-21T02:12:46.548Z"
   },
   {
    "duration": 817,
    "start_time": "2023-01-21T02:13:05.020Z"
   },
   {
    "duration": 645,
    "start_time": "2023-01-21T02:13:25.115Z"
   },
   {
    "duration": 498,
    "start_time": "2023-01-21T02:20:47.810Z"
   },
   {
    "duration": 679,
    "start_time": "2023-01-21T02:21:04.707Z"
   },
   {
    "duration": 282,
    "start_time": "2023-01-21T02:21:26.767Z"
   },
   {
    "duration": 237,
    "start_time": "2023-01-21T02:22:08.802Z"
   },
   {
    "duration": 218,
    "start_time": "2023-01-21T02:22:23.303Z"
   },
   {
    "duration": 230,
    "start_time": "2023-01-21T02:23:52.694Z"
   },
   {
    "duration": 243,
    "start_time": "2023-01-21T02:26:09.857Z"
   },
   {
    "duration": 202,
    "start_time": "2023-01-21T02:27:11.702Z"
   },
   {
    "duration": 207,
    "start_time": "2023-01-21T02:28:33.360Z"
   },
   {
    "duration": 8,
    "start_time": "2023-01-21T02:28:41.200Z"
   },
   {
    "duration": 291,
    "start_time": "2023-01-21T02:29:10.569Z"
   },
   {
    "duration": 240,
    "start_time": "2023-01-21T02:29:52.711Z"
   },
   {
    "duration": 240,
    "start_time": "2023-01-21T02:30:07.206Z"
   },
   {
    "duration": 30,
    "start_time": "2023-01-21T02:30:24.860Z"
   },
   {
    "duration": 15,
    "start_time": "2023-01-21T02:51:21.407Z"
   },
   {
    "duration": 6,
    "start_time": "2023-01-21T02:51:29.802Z"
   },
   {
    "duration": 12,
    "start_time": "2023-01-21T02:51:32.006Z"
   },
   {
    "duration": 5,
    "start_time": "2023-01-21T02:51:35.439Z"
   },
   {
    "duration": 5500,
    "start_time": "2023-01-21T02:53:00.690Z"
   },
   {
    "duration": 6483,
    "start_time": "2023-01-21T02:53:06.200Z"
   },
   {
    "duration": 1511,
    "start_time": "2023-01-21T02:56:37.700Z"
   },
   {
    "duration": 334,
    "start_time": "2023-01-21T02:56:39.214Z"
   },
   {
    "duration": 120,
    "start_time": "2023-01-21T02:56:39.549Z"
   },
   {
    "duration": 452,
    "start_time": "2023-01-21T02:56:39.671Z"
   },
   {
    "duration": 3,
    "start_time": "2023-01-21T02:56:40.768Z"
   },
   {
    "duration": 164,
    "start_time": "2023-01-21T02:56:41.100Z"
   },
   {
    "duration": 62,
    "start_time": "2023-01-21T02:56:41.376Z"
   },
   {
    "duration": 123,
    "start_time": "2023-01-21T02:56:41.735Z"
   },
   {
    "duration": 37,
    "start_time": "2023-01-21T02:56:42.028Z"
   },
   {
    "duration": 7,
    "start_time": "2023-01-21T02:56:42.321Z"
   },
   {
    "duration": 21,
    "start_time": "2023-01-21T02:56:42.833Z"
   },
   {
    "duration": 18,
    "start_time": "2023-01-21T02:56:43.094Z"
   },
   {
    "duration": 5,
    "start_time": "2023-01-21T02:56:43.657Z"
   },
   {
    "duration": 314,
    "start_time": "2023-01-21T02:56:44.201Z"
   },
   {
    "duration": 27,
    "start_time": "2023-01-21T02:56:44.728Z"
   },
   {
    "duration": 26,
    "start_time": "2023-01-21T02:56:44.999Z"
   },
   {
    "duration": 20,
    "start_time": "2023-01-21T02:56:45.530Z"
   },
   {
    "duration": 303,
    "start_time": "2023-01-21T02:56:45.801Z"
   },
   {
    "duration": 41,
    "start_time": "2023-01-21T02:56:46.109Z"
   },
   {
    "duration": 24,
    "start_time": "2023-01-21T02:56:46.303Z"
   },
   {
    "duration": 22,
    "start_time": "2023-01-21T02:56:46.584Z"
   },
   {
    "duration": 6,
    "start_time": "2023-01-21T02:56:47.102Z"
   },
   {
    "duration": 12,
    "start_time": "2023-01-21T02:56:47.389Z"
   },
   {
    "duration": 208,
    "start_time": "2023-01-21T02:56:52.280Z"
   },
   {
    "duration": 299,
    "start_time": "2023-01-21T02:56:53.824Z"
   },
   {
    "duration": 216,
    "start_time": "2023-01-21T02:56:55.048Z"
   },
   {
    "duration": 189,
    "start_time": "2023-01-21T02:56:56.151Z"
   },
   {
    "duration": 207,
    "start_time": "2023-01-21T02:56:57.120Z"
   },
   {
    "duration": 8,
    "start_time": "2023-01-21T02:56:58.055Z"
   },
   {
    "duration": 220,
    "start_time": "2023-01-21T02:56:58.480Z"
   },
   {
    "duration": 238,
    "start_time": "2023-01-21T02:56:59.689Z"
   },
   {
    "duration": 19,
    "start_time": "2023-01-21T02:57:00.760Z"
   },
   {
    "duration": 10,
    "start_time": "2023-01-21T02:57:03.239Z"
   },
   {
    "duration": 3,
    "start_time": "2023-01-21T02:57:04.359Z"
   },
   {
    "duration": 7,
    "start_time": "2023-01-21T02:57:05.654Z"
   },
   {
    "duration": 6,
    "start_time": "2023-01-21T02:57:06.171Z"
   },
   {
    "duration": 4,
    "start_time": "2023-01-21T02:57:07.153Z"
   },
   {
    "duration": 4427,
    "start_time": "2023-01-21T02:57:08.279Z"
   },
   {
    "duration": 3878,
    "start_time": "2023-01-21T02:57:14.022Z"
   },
   {
    "duration": 1537,
    "start_time": "2023-01-21T03:00:52.455Z"
   },
   {
    "duration": 348,
    "start_time": "2023-01-21T03:00:53.994Z"
   },
   {
    "duration": 97,
    "start_time": "2023-01-21T03:00:54.344Z"
   },
   {
    "duration": 429,
    "start_time": "2023-01-21T03:00:54.444Z"
   },
   {
    "duration": 15,
    "start_time": "2023-01-21T03:00:54.875Z"
   },
   {
    "duration": 208,
    "start_time": "2023-01-21T03:00:54.892Z"
   },
   {
    "duration": 62,
    "start_time": "2023-01-21T03:00:55.102Z"
   },
   {
    "duration": 161,
    "start_time": "2023-01-21T03:00:55.191Z"
   },
   {
    "duration": 49,
    "start_time": "2023-01-21T03:00:55.355Z"
   },
   {
    "duration": 9,
    "start_time": "2023-01-21T03:00:55.406Z"
   },
   {
    "duration": 24,
    "start_time": "2023-01-21T03:00:55.417Z"
   },
   {
    "duration": 13,
    "start_time": "2023-01-21T03:00:55.443Z"
   },
   {
    "duration": 4,
    "start_time": "2023-01-21T03:00:55.754Z"
   },
   {
    "duration": 343,
    "start_time": "2023-01-21T03:00:56.173Z"
   },
   {
    "duration": 29,
    "start_time": "2023-01-21T03:00:56.613Z"
   },
   {
    "duration": 25,
    "start_time": "2023-01-21T03:00:56.813Z"
   },
   {
    "duration": 28,
    "start_time": "2023-01-21T03:00:57.236Z"
   },
   {
    "duration": 326,
    "start_time": "2023-01-21T03:00:57.453Z"
   },
   {
    "duration": 40,
    "start_time": "2023-01-21T03:00:57.784Z"
   },
   {
    "duration": 22,
    "start_time": "2023-01-21T03:00:57.869Z"
   },
   {
    "duration": 23,
    "start_time": "2023-01-21T03:00:58.077Z"
   },
   {
    "duration": 11,
    "start_time": "2023-01-21T03:00:58.485Z"
   },
   {
    "duration": 7,
    "start_time": "2023-01-21T03:00:58.700Z"
   },
   {
    "duration": 243,
    "start_time": "2023-01-21T03:00:59.813Z"
   },
   {
    "duration": 327,
    "start_time": "2023-01-21T03:01:00.261Z"
   },
   {
    "duration": 238,
    "start_time": "2023-01-21T03:01:00.715Z"
   },
   {
    "duration": 226,
    "start_time": "2023-01-21T03:01:01.177Z"
   },
   {
    "duration": 236,
    "start_time": "2023-01-21T03:01:01.629Z"
   },
   {
    "duration": 8,
    "start_time": "2023-01-21T03:01:02.117Z"
   },
   {
    "duration": 246,
    "start_time": "2023-01-21T03:01:02.373Z"
   },
   {
    "duration": 222,
    "start_time": "2023-01-21T03:01:02.820Z"
   },
   {
    "duration": 19,
    "start_time": "2023-01-21T03:01:03.261Z"
   },
   {
    "duration": 11,
    "start_time": "2023-01-21T03:01:05.460Z"
   },
   {
    "duration": 4,
    "start_time": "2023-01-21T03:01:07.402Z"
   },
   {
    "duration": 11,
    "start_time": "2023-01-21T03:01:09.212Z"
   },
   {
    "duration": 5,
    "start_time": "2023-01-21T03:01:10.524Z"
   },
   {
    "duration": 6,
    "start_time": "2023-01-21T03:01:12.807Z"
   },
   {
    "duration": 5065,
    "start_time": "2023-01-21T03:01:14.420Z"
   },
   {
    "duration": 4290,
    "start_time": "2023-01-21T03:01:24.621Z"
   },
   {
    "duration": 7,
    "start_time": "2023-01-22T04:30:14.020Z"
   },
   {
    "duration": 39,
    "start_time": "2023-01-22T04:30:14.606Z"
   },
   {
    "duration": 1421,
    "start_time": "2023-01-22T04:30:18.507Z"
   },
   {
    "duration": 864,
    "start_time": "2023-01-22T04:30:20.245Z"
   },
   {
    "duration": 258,
    "start_time": "2023-01-22T04:30:35.051Z"
   },
   {
    "duration": 429,
    "start_time": "2023-01-22T04:30:43.053Z"
   },
   {
    "duration": 1832,
    "start_time": "2023-01-22T04:30:48.973Z"
   },
   {
    "duration": 348,
    "start_time": "2023-01-22T04:32:03.875Z"
   },
   {
    "duration": 4,
    "start_time": "2023-01-22T04:32:09.553Z"
   },
   {
    "duration": 151,
    "start_time": "2023-01-22T04:32:12.570Z"
   },
   {
    "duration": 48,
    "start_time": "2023-01-22T04:32:26.981Z"
   },
   {
    "duration": 111,
    "start_time": "2023-01-22T04:32:30.620Z"
   },
   {
    "duration": 22,
    "start_time": "2023-01-22T04:33:03.908Z"
   },
   {
    "duration": 12,
    "start_time": "2023-01-22T04:33:24.331Z"
   },
   {
    "duration": 6,
    "start_time": "2023-01-22T04:33:47.920Z"
   },
   {
    "duration": 7,
    "start_time": "2023-01-22T04:35:27.387Z"
   },
   {
    "duration": 448,
    "start_time": "2023-01-22T04:56:46.860Z"
   },
   {
    "duration": 3,
    "start_time": "2023-01-22T04:56:54.517Z"
   },
   {
    "duration": 174,
    "start_time": "2023-01-22T04:56:55.597Z"
   },
   {
    "duration": 58,
    "start_time": "2023-01-22T04:57:07.781Z"
   },
   {
    "duration": 151,
    "start_time": "2023-01-22T04:57:11.605Z"
   },
   {
    "duration": 3,
    "start_time": "2023-01-22T04:58:30.341Z"
   },
   {
    "duration": 174,
    "start_time": "2023-01-22T04:58:30.852Z"
   },
   {
    "duration": 49,
    "start_time": "2023-01-22T04:58:31.900Z"
   },
   {
    "duration": 129,
    "start_time": "2023-01-22T04:58:32.565Z"
   },
   {
    "duration": 32,
    "start_time": "2023-01-22T04:58:42.805Z"
   },
   {
    "duration": 8,
    "start_time": "2023-01-22T04:58:49.230Z"
   },
   {
    "duration": 11,
    "start_time": "2023-01-22T04:59:09.212Z"
   },
   {
    "duration": 22,
    "start_time": "2023-01-22T04:59:16.161Z"
   },
   {
    "duration": 17,
    "start_time": "2023-01-22T04:59:43.354Z"
   },
   {
    "duration": 4,
    "start_time": "2023-01-22T05:00:32.707Z"
   },
   {
    "duration": 330,
    "start_time": "2023-01-22T05:01:37.233Z"
   },
   {
    "duration": 292,
    "start_time": "2023-01-22T05:01:54.146Z"
   },
   {
    "duration": 349,
    "start_time": "2023-01-22T05:02:04.234Z"
   },
   {
    "duration": 22,
    "start_time": "2023-01-22T05:02:22.391Z"
   },
   {
    "duration": 23,
    "start_time": "2023-01-22T05:02:40.072Z"
   },
   {
    "duration": 21,
    "start_time": "2023-01-22T05:03:02.848Z"
   },
   {
    "duration": 13,
    "start_time": "2023-01-22T05:04:13.601Z"
   },
   {
    "duration": 314,
    "start_time": "2023-01-22T05:04:25.199Z"
   },
   {
    "duration": 34,
    "start_time": "2023-01-22T05:04:34.564Z"
   },
   {
    "duration": 24,
    "start_time": "2023-01-22T05:04:55.207Z"
   },
   {
    "duration": 18,
    "start_time": "2023-01-22T05:04:58.865Z"
   },
   {
    "duration": 6,
    "start_time": "2023-01-22T05:05:21.072Z"
   },
   {
    "duration": 5,
    "start_time": "2023-01-22T05:05:28.816Z"
   },
   {
    "duration": 202,
    "start_time": "2023-01-22T05:06:10.118Z"
   },
   {
    "duration": 304,
    "start_time": "2023-01-22T05:06:29.968Z"
   },
   {
    "duration": 317,
    "start_time": "2023-01-22T05:06:56.007Z"
   },
   {
    "duration": 189,
    "start_time": "2023-01-22T05:09:29.916Z"
   },
   {
    "duration": 286,
    "start_time": "2023-01-22T05:10:46.772Z"
   },
   {
    "duration": 203,
    "start_time": "2023-01-22T05:10:55.245Z"
   },
   {
    "duration": 205,
    "start_time": "2023-01-22T05:11:19.650Z"
   },
   {
    "duration": 205,
    "start_time": "2023-01-22T05:11:38.284Z"
   },
   {
    "duration": 9,
    "start_time": "2023-01-22T05:12:05.597Z"
   },
   {
    "duration": 8,
    "start_time": "2023-01-22T05:13:43.002Z"
   },
   {
    "duration": 207,
    "start_time": "2023-01-22T05:14:29.097Z"
   },
   {
    "duration": 10,
    "start_time": "2023-01-22T05:17:03.016Z"
   },
   {
    "duration": 8177,
    "start_time": "2023-01-22T05:18:35.370Z"
   },
   {
    "duration": 229,
    "start_time": "2023-01-22T05:18:43.550Z"
   },
   {
    "duration": 7767,
    "start_time": "2023-01-22T05:19:12.290Z"
   },
   {
    "duration": 254,
    "start_time": "2023-01-22T05:19:20.286Z"
   },
   {
    "duration": 75,
    "start_time": "2023-01-22T05:20:57.614Z"
   },
   {
    "duration": 9,
    "start_time": "2023-01-22T05:21:26.487Z"
   },
   {
    "duration": 233,
    "start_time": "2023-01-22T05:21:28.799Z"
   },
   {
    "duration": 206,
    "start_time": "2023-01-22T05:21:54.941Z"
   },
   {
    "duration": 204,
    "start_time": "2023-01-22T05:22:16.720Z"
   },
   {
    "duration": 194,
    "start_time": "2023-01-22T05:23:44.157Z"
   },
   {
    "duration": 18,
    "start_time": "2023-01-22T05:25:09.815Z"
   },
   {
    "duration": 14,
    "start_time": "2023-01-22T05:26:20.281Z"
   },
   {
    "duration": 13,
    "start_time": "2023-01-22T05:26:38.454Z"
   },
   {
    "duration": 11,
    "start_time": "2023-01-22T05:27:33.821Z"
   },
   {
    "duration": 3,
    "start_time": "2023-01-22T05:29:02.785Z"
   },
   {
    "duration": 8,
    "start_time": "2023-01-22T05:29:56.025Z"
   },
   {
    "duration": 10,
    "start_time": "2023-01-22T05:30:29.161Z"
   },
   {
    "duration": 9,
    "start_time": "2023-01-22T05:30:43.659Z"
   },
   {
    "duration": 10,
    "start_time": "2023-01-22T05:30:57.195Z"
   },
   {
    "duration": 17,
    "start_time": "2023-01-22T05:31:25.262Z"
   },
   {
    "duration": 3,
    "start_time": "2023-01-22T05:32:31.433Z"
   },
   {
    "duration": 7,
    "start_time": "2023-01-22T05:32:40.154Z"
   },
   {
    "duration": 6,
    "start_time": "2023-01-22T05:33:10.072Z"
   },
   {
    "duration": 6,
    "start_time": "2023-01-22T05:33:22.400Z"
   },
   {
    "duration": 8,
    "start_time": "2023-01-22T05:57:49.673Z"
   },
   {
    "duration": 7,
    "start_time": "2023-01-22T05:58:45.775Z"
   },
   {
    "duration": 6,
    "start_time": "2023-01-22T09:24:42.433Z"
   },
   {
    "duration": 7,
    "start_time": "2023-01-22T09:24:58.689Z"
   },
   {
    "duration": 7,
    "start_time": "2023-01-22T09:25:22.729Z"
   },
   {
    "duration": 7,
    "start_time": "2023-01-22T09:25:35.777Z"
   },
   {
    "duration": 15,
    "start_time": "2023-01-22T10:01:11.087Z"
   },
   {
    "duration": 4,
    "start_time": "2023-01-22T10:01:18.521Z"
   },
   {
    "duration": 1089,
    "start_time": "2023-01-22T10:01:19.888Z"
   },
   {
    "duration": 481,
    "start_time": "2023-01-22T10:01:20.981Z"
   },
   {
    "duration": 2182,
    "start_time": "2023-01-22T10:01:21.463Z"
   },
   {
    "duration": 7,
    "start_time": "2023-01-22T10:01:23.647Z"
   },
   {
    "duration": 193,
    "start_time": "2023-01-22T10:01:23.656Z"
   },
   {
    "duration": 60,
    "start_time": "2023-01-22T10:01:23.852Z"
   },
   {
    "duration": 156,
    "start_time": "2023-01-22T10:01:23.914Z"
   },
   {
    "duration": 27,
    "start_time": "2023-01-22T10:01:24.074Z"
   },
   {
    "duration": 6,
    "start_time": "2023-01-22T10:01:24.103Z"
   },
   {
    "duration": 29,
    "start_time": "2023-01-22T10:01:24.110Z"
   },
   {
    "duration": 32,
    "start_time": "2023-01-22T10:01:24.141Z"
   },
   {
    "duration": 6,
    "start_time": "2023-01-22T10:01:24.178Z"
   },
   {
    "duration": 297,
    "start_time": "2023-01-22T10:01:24.288Z"
   },
   {
    "duration": 22,
    "start_time": "2023-01-22T10:01:24.777Z"
   },
   {
    "duration": 25,
    "start_time": "2023-01-22T10:01:25.028Z"
   },
   {
    "duration": 19,
    "start_time": "2023-01-22T10:01:25.475Z"
   },
   {
    "duration": 296,
    "start_time": "2023-01-22T10:01:25.723Z"
   },
   {
    "duration": 37,
    "start_time": "2023-01-22T10:01:26.033Z"
   },
   {
    "duration": 20,
    "start_time": "2023-01-22T10:01:26.301Z"
   },
   {
    "duration": 20,
    "start_time": "2023-01-22T10:01:26.584Z"
   },
   {
    "duration": 7,
    "start_time": "2023-01-22T10:01:27.172Z"
   },
   {
    "duration": 7,
    "start_time": "2023-01-22T10:01:27.473Z"
   },
   {
    "duration": 226,
    "start_time": "2023-01-22T10:01:29.070Z"
   },
   {
    "duration": 205,
    "start_time": "2023-01-22T10:01:29.636Z"
   },
   {
    "duration": 222,
    "start_time": "2023-01-22T10:01:30.195Z"
   },
   {
    "duration": 208,
    "start_time": "2023-01-22T10:01:30.877Z"
   },
   {
    "duration": 207,
    "start_time": "2023-01-22T10:01:31.514Z"
   },
   {
    "duration": 6,
    "start_time": "2023-01-22T10:01:32.105Z"
   },
   {
    "duration": 218,
    "start_time": "2023-01-22T10:01:32.491Z"
   },
   {
    "duration": 243,
    "start_time": "2023-01-22T10:01:33.743Z"
   },
   {
    "duration": 15,
    "start_time": "2023-01-22T10:01:33.988Z"
   },
   {
    "duration": 15,
    "start_time": "2023-01-22T10:01:35.076Z"
   },
   {
    "duration": 15,
    "start_time": "2023-01-22T10:01:35.311Z"
   },
   {
    "duration": 4,
    "start_time": "2023-01-22T10:01:35.893Z"
   },
   {
    "duration": 7,
    "start_time": "2023-01-22T10:01:36.578Z"
   },
   {
    "duration": 5,
    "start_time": "2023-01-22T10:01:37.114Z"
   },
   {
    "duration": 3,
    "start_time": "2023-01-22T10:01:38.582Z"
   },
   {
    "duration": 3,
    "start_time": "2023-01-22T10:28:08.385Z"
   },
   {
    "duration": 13,
    "start_time": "2023-01-22T10:28:10.088Z"
   },
   {
    "duration": 4,
    "start_time": "2023-01-22T10:29:42.377Z"
   },
   {
    "duration": 17,
    "start_time": "2023-01-22T10:30:08.992Z"
   },
   {
    "duration": 4,
    "start_time": "2023-01-22T10:30:10.224Z"
   },
   {
    "duration": 6,
    "start_time": "2023-01-22T10:30:12.040Z"
   },
   {
    "duration": 6,
    "start_time": "2023-01-22T10:30:12.580Z"
   },
   {
    "duration": 4,
    "start_time": "2023-01-22T10:30:16.002Z"
   },
   {
    "duration": 4,
    "start_time": "2023-01-22T10:30:16.417Z"
   },
   {
    "duration": 3,
    "start_time": "2023-01-22T10:30:17.484Z"
   },
   {
    "duration": 13,
    "start_time": "2023-01-22T10:30:19.327Z"
   },
   {
    "duration": 9,
    "start_time": "2023-01-22T10:30:36.673Z"
   },
   {
    "duration": 3505,
    "start_time": "2023-01-22T10:31:35.376Z"
   },
   {
    "duration": 3,
    "start_time": "2023-01-22T10:33:21.682Z"
   },
   {
    "duration": 3245,
    "start_time": "2023-01-22T10:33:22.335Z"
   },
   {
    "duration": 7,
    "start_time": "2023-01-22T10:35:57.978Z"
   },
   {
    "duration": 1058,
    "start_time": "2023-01-22T10:35:59.477Z"
   },
   {
    "duration": 517,
    "start_time": "2023-01-22T10:36:00.537Z"
   },
   {
    "duration": 2420,
    "start_time": "2023-01-22T10:36:01.057Z"
   },
   {
    "duration": 4,
    "start_time": "2023-01-22T10:36:03.480Z"
   },
   {
    "duration": 186,
    "start_time": "2023-01-22T10:36:03.486Z"
   },
   {
    "duration": 83,
    "start_time": "2023-01-22T10:36:03.679Z"
   },
   {
    "duration": 158,
    "start_time": "2023-01-22T10:36:03.767Z"
   },
   {
    "duration": 43,
    "start_time": "2023-01-22T10:36:03.927Z"
   },
   {
    "duration": 17,
    "start_time": "2023-01-22T10:36:03.971Z"
   },
   {
    "duration": 18,
    "start_time": "2023-01-22T10:36:03.990Z"
   },
   {
    "duration": 12,
    "start_time": "2023-01-22T10:36:04.010Z"
   },
   {
    "duration": 25,
    "start_time": "2023-01-22T10:36:04.024Z"
   },
   {
    "duration": 302,
    "start_time": "2023-01-22T10:36:04.057Z"
   },
   {
    "duration": 36,
    "start_time": "2023-01-22T10:36:04.360Z"
   },
   {
    "duration": 37,
    "start_time": "2023-01-22T10:36:04.398Z"
   },
   {
    "duration": 24,
    "start_time": "2023-01-22T10:36:07.015Z"
   },
   {
    "duration": 310,
    "start_time": "2023-01-22T10:36:07.535Z"
   },
   {
    "duration": 32,
    "start_time": "2023-01-22T10:36:07.848Z"
   },
   {
    "duration": 22,
    "start_time": "2023-01-22T10:36:08.004Z"
   },
   {
    "duration": 24,
    "start_time": "2023-01-22T10:36:08.230Z"
   },
   {
    "duration": 9,
    "start_time": "2023-01-22T10:36:08.678Z"
   },
   {
    "duration": 7,
    "start_time": "2023-01-22T10:36:08.887Z"
   },
   {
    "duration": 229,
    "start_time": "2023-01-22T10:36:09.976Z"
   },
   {
    "duration": 265,
    "start_time": "2023-01-22T10:36:10.423Z"
   },
   {
    "duration": 252,
    "start_time": "2023-01-22T10:36:10.919Z"
   },
   {
    "duration": 213,
    "start_time": "2023-01-22T10:36:11.615Z"
   },
   {
    "duration": 226,
    "start_time": "2023-01-22T10:36:12.192Z"
   },
   {
    "duration": 7,
    "start_time": "2023-01-22T10:36:12.829Z"
   },
   {
    "duration": 243,
    "start_time": "2023-01-22T10:36:13.222Z"
   },
   {
    "duration": 213,
    "start_time": "2023-01-22T10:36:14.182Z"
   },
   {
    "duration": 17,
    "start_time": "2023-01-22T10:36:15.231Z"
   },
   {
    "duration": 19,
    "start_time": "2023-01-22T10:36:17.395Z"
   },
   {
    "duration": 4,
    "start_time": "2023-01-22T10:36:18.813Z"
   },
   {
    "duration": 6,
    "start_time": "2023-01-22T10:36:20.038Z"
   },
   {
    "duration": 9,
    "start_time": "2023-01-22T10:36:20.680Z"
   },
   {
    "duration": 5,
    "start_time": "2023-01-22T10:36:21.718Z"
   },
   {
    "duration": 4,
    "start_time": "2023-01-22T10:36:22.486Z"
   },
   {
    "duration": 3,
    "start_time": "2023-01-22T10:36:23.622Z"
   },
   {
    "duration": 2392,
    "start_time": "2023-01-22T10:36:24.096Z"
   },
   {
    "duration": 4321,
    "start_time": "2023-01-22T10:37:10.077Z"
   },
   {
    "duration": 11,
    "start_time": "2023-01-22T10:42:21.612Z"
   },
   {
    "duration": 11,
    "start_time": "2023-01-22T10:42:40.933Z"
   },
   {
    "duration": 808,
    "start_time": "2023-01-22T10:43:14.245Z"
   },
   {
    "duration": 27107,
    "start_time": "2023-01-22T10:44:05.396Z"
   },
   {
    "duration": 30842,
    "start_time": "2023-01-22T10:45:13.400Z"
   },
   {
    "duration": 4246,
    "start_time": "2023-01-22T10:46:30.921Z"
   },
   {
    "duration": 3,
    "start_time": "2023-01-22T10:46:38.835Z"
   },
   {
    "duration": 3,
    "start_time": "2023-01-22T10:46:39.739Z"
   },
   {
    "duration": 3784,
    "start_time": "2023-01-22T10:46:41.287Z"
   },
   {
    "duration": 4033,
    "start_time": "2023-01-22T10:47:11.722Z"
   },
   {
    "duration": 31233,
    "start_time": "2023-01-22T10:47:15.758Z"
   },
   {
    "duration": 30758,
    "start_time": "2023-01-22T10:48:24.611Z"
   },
   {
    "duration": 11,
    "start_time": "2023-01-22T10:54:28.430Z"
   },
   {
    "duration": 6,
    "start_time": "2023-01-22T10:55:28.623Z"
   },
   {
    "duration": 13,
    "start_time": "2023-01-22T10:55:35.579Z"
   },
   {
    "duration": 130904,
    "start_time": "2023-01-22T10:55:50.239Z"
   },
   {
    "duration": 46897,
    "start_time": "2023-01-22T11:02:37.786Z"
   },
   {
    "duration": 3,
    "start_time": "2023-01-22T11:20:36.378Z"
   },
   {
    "duration": 4398,
    "start_time": "2023-01-22T11:20:47.555Z"
   },
   {
    "duration": 30766,
    "start_time": "2023-01-22T11:21:02.375Z"
   },
   {
    "duration": 556,
    "start_time": "2023-01-22T11:33:54.441Z"
   },
   {
    "duration": 17,
    "start_time": "2023-01-22T11:40:41.876Z"
   },
   {
    "duration": 20,
    "start_time": "2023-01-22T11:40:52.370Z"
   },
   {
    "duration": 1545,
    "start_time": "2023-01-22T11:43:11.776Z"
   },
   {
    "duration": 1663,
    "start_time": "2023-01-22T11:44:42.736Z"
   },
   {
    "duration": 1569,
    "start_time": "2023-01-22T11:45:54.913Z"
   },
   {
    "duration": 99,
    "start_time": "2023-01-22T11:59:22.428Z"
   },
   {
    "duration": 12,
    "start_time": "2023-01-22T12:00:29.182Z"
   },
   {
    "duration": 22,
    "start_time": "2023-01-22T12:01:50.125Z"
   },
   {
    "duration": 19,
    "start_time": "2023-01-22T12:05:36.984Z"
   },
   {
    "duration": 30,
    "start_time": "2023-01-22T12:08:38.137Z"
   },
   {
    "duration": 1511,
    "start_time": "2023-01-22T12:10:19.100Z"
   },
   {
    "duration": 1444,
    "start_time": "2023-01-22T12:12:24.091Z"
   },
   {
    "duration": 8,
    "start_time": "2023-01-22T12:12:36.816Z"
   },
   {
    "duration": 413,
    "start_time": "2023-01-22T12:12:38.393Z"
   },
   {
    "duration": 90,
    "start_time": "2023-01-22T12:12:38.808Z"
   },
   {
    "duration": 429,
    "start_time": "2023-01-22T12:12:38.992Z"
   },
   {
    "duration": 4,
    "start_time": "2023-01-22T12:12:39.482Z"
   },
   {
    "duration": 174,
    "start_time": "2023-01-22T12:12:39.690Z"
   },
   {
    "duration": 55,
    "start_time": "2023-01-22T12:12:39.889Z"
   },
   {
    "duration": 133,
    "start_time": "2023-01-22T12:12:40.084Z"
   },
   {
    "duration": 30,
    "start_time": "2023-01-22T12:12:40.282Z"
   },
   {
    "duration": 9,
    "start_time": "2023-01-22T12:12:40.482Z"
   },
   {
    "duration": 23,
    "start_time": "2023-01-22T12:12:40.878Z"
   },
   {
    "duration": 14,
    "start_time": "2023-01-22T12:12:41.079Z"
   },
   {
    "duration": 23,
    "start_time": "2023-01-22T12:12:41.498Z"
   },
   {
    "duration": 7,
    "start_time": "2023-01-22T12:12:41.714Z"
   },
   {
    "duration": 307,
    "start_time": "2023-01-22T12:12:42.151Z"
   },
   {
    "duration": 23,
    "start_time": "2023-01-22T12:12:42.612Z"
   },
   {
    "duration": 22,
    "start_time": "2023-01-22T12:12:42.880Z"
   },
   {
    "duration": 21,
    "start_time": "2023-01-22T12:12:43.769Z"
   },
   {
    "duration": 317,
    "start_time": "2023-01-22T12:12:43.980Z"
   },
   {
    "duration": 23,
    "start_time": "2023-01-22T12:12:44.299Z"
   },
   {
    "duration": 19,
    "start_time": "2023-01-22T12:12:44.415Z"
   },
   {
    "duration": 16,
    "start_time": "2023-01-22T12:12:44.617Z"
   },
   {
    "duration": 7,
    "start_time": "2023-01-22T12:12:45.077Z"
   },
   {
    "duration": 8,
    "start_time": "2023-01-22T12:12:45.378Z"
   },
   {
    "duration": 214,
    "start_time": "2023-01-22T12:12:46.877Z"
   },
   {
    "duration": 231,
    "start_time": "2023-01-22T12:12:47.296Z"
   },
   {
    "duration": 331,
    "start_time": "2023-01-22T12:12:47.729Z"
   },
   {
    "duration": 259,
    "start_time": "2023-01-22T12:12:48.234Z"
   },
   {
    "duration": 227,
    "start_time": "2023-01-22T12:12:48.875Z"
   },
   {
    "duration": 7,
    "start_time": "2023-01-22T12:12:49.406Z"
   },
   {
    "duration": 278,
    "start_time": "2023-01-22T12:12:49.635Z"
   },
   {
    "duration": 231,
    "start_time": "2023-01-22T12:12:50.179Z"
   },
   {
    "duration": 29,
    "start_time": "2023-01-22T12:12:50.842Z"
   },
   {
    "duration": 15,
    "start_time": "2023-01-22T12:12:52.097Z"
   },
   {
    "duration": 3,
    "start_time": "2023-01-22T12:12:52.817Z"
   },
   {
    "duration": 6,
    "start_time": "2023-01-22T12:12:56.938Z"
   },
   {
    "duration": 1604,
    "start_time": "2023-01-22T12:12:58.610Z"
   },
   {
    "duration": 7,
    "start_time": "2023-01-22T12:16:27.173Z"
   },
   {
    "duration": 583,
    "start_time": "2023-01-22T12:16:44.713Z"
   },
   {
    "duration": 3,
    "start_time": "2023-01-22T12:16:57.015Z"
   },
   {
    "duration": 8,
    "start_time": "2023-01-22T12:16:57.487Z"
   },
   {
    "duration": 4,
    "start_time": "2023-01-22T12:16:58.727Z"
   },
   {
    "duration": 3,
    "start_time": "2023-01-22T12:17:00.111Z"
   },
   {
    "duration": 4912,
    "start_time": "2023-01-22T12:17:01.479Z"
   },
   {
    "duration": 30507,
    "start_time": "2023-01-22T12:17:06.393Z"
   },
   {
    "duration": 44983,
    "start_time": "2023-01-22T12:17:36.902Z"
   },
   {
    "duration": 533,
    "start_time": "2023-01-22T12:18:21.887Z"
   },
   {
    "duration": 614,
    "start_time": "2023-01-22T12:21:31.526Z"
   },
   {
    "duration": 31,
    "start_time": "2023-01-22T12:24:14.331Z"
   },
   {
    "duration": 3,
    "start_time": "2023-01-22T12:24:32.091Z"
   },
   {
    "duration": 575,
    "start_time": "2023-01-22T12:24:42.276Z"
   },
   {
    "duration": 55,
    "start_time": "2023-01-22T12:26:43.769Z"
   },
   {
    "duration": 7,
    "start_time": "2023-01-22T12:26:59.980Z"
   },
   {
    "duration": 727,
    "start_time": "2023-01-22T12:27:07.033Z"
   },
   {
    "duration": 31,
    "start_time": "2023-01-22T12:29:14.476Z"
   },
   {
    "duration": 47,
    "start_time": "2023-01-22T12:29:21.576Z"
   },
   {
    "duration": 3,
    "start_time": "2023-01-22T12:29:35.702Z"
   },
   {
    "duration": 602,
    "start_time": "2023-01-22T12:29:41.030Z"
   },
   {
    "duration": 622,
    "start_time": "2023-01-22T12:30:43.788Z"
   },
   {
    "duration": 548,
    "start_time": "2023-01-22T12:33:22.884Z"
   },
   {
    "duration": 5,
    "start_time": "2023-01-22T12:33:38.821Z"
   },
   {
    "duration": 357,
    "start_time": "2023-01-22T12:33:40.835Z"
   },
   {
    "duration": 96,
    "start_time": "2023-01-22T12:33:41.195Z"
   },
   {
    "duration": 405,
    "start_time": "2023-01-22T12:33:41.500Z"
   },
   {
    "duration": 4,
    "start_time": "2023-01-22T12:33:42.100Z"
   },
   {
    "duration": 175,
    "start_time": "2023-01-22T12:33:42.420Z"
   },
   {
    "duration": 55,
    "start_time": "2023-01-22T12:33:42.781Z"
   },
   {
    "duration": 155,
    "start_time": "2023-01-22T12:33:43.035Z"
   },
   {
    "duration": 28,
    "start_time": "2023-01-22T12:33:43.390Z"
   },
   {
    "duration": 7,
    "start_time": "2023-01-22T12:33:43.693Z"
   },
   {
    "duration": 20,
    "start_time": "2023-01-22T12:33:44.382Z"
   },
   {
    "duration": 18,
    "start_time": "2023-01-22T12:33:44.687Z"
   },
   {
    "duration": 34,
    "start_time": "2023-01-22T12:33:45.385Z"
   },
   {
    "duration": 7,
    "start_time": "2023-01-22T12:33:45.716Z"
   },
   {
    "duration": 323,
    "start_time": "2023-01-22T12:33:46.510Z"
   },
   {
    "duration": 28,
    "start_time": "2023-01-22T12:33:47.384Z"
   },
   {
    "duration": 34,
    "start_time": "2023-01-22T12:33:47.789Z"
   },
   {
    "duration": 23,
    "start_time": "2023-01-22T12:33:48.818Z"
   },
   {
    "duration": 394,
    "start_time": "2023-01-22T12:33:49.280Z"
   },
   {
    "duration": 24,
    "start_time": "2023-01-22T12:33:49.686Z"
   },
   {
    "duration": 21,
    "start_time": "2023-01-22T12:33:50.081Z"
   },
   {
    "duration": 16,
    "start_time": "2023-01-22T12:33:50.414Z"
   },
   {
    "duration": 13,
    "start_time": "2023-01-22T12:33:51.174Z"
   },
   {
    "duration": 7,
    "start_time": "2023-01-22T12:33:51.585Z"
   },
   {
    "duration": 238,
    "start_time": "2023-01-22T12:33:53.731Z"
   },
   {
    "duration": 219,
    "start_time": "2023-01-22T12:33:54.402Z"
   },
   {
    "duration": 223,
    "start_time": "2023-01-22T12:33:55.123Z"
   },
   {
    "duration": 219,
    "start_time": "2023-01-22T12:33:55.887Z"
   },
   {
    "duration": 287,
    "start_time": "2023-01-22T12:33:56.588Z"
   },
   {
    "duration": 7,
    "start_time": "2023-01-22T12:33:57.326Z"
   },
   {
    "duration": 232,
    "start_time": "2023-01-22T12:33:57.691Z"
   },
   {
    "duration": 256,
    "start_time": "2023-01-22T12:33:58.540Z"
   },
   {
    "duration": 23,
    "start_time": "2023-01-22T12:33:59.335Z"
   },
   {
    "duration": 18,
    "start_time": "2023-01-22T12:34:01.585Z"
   },
   {
    "duration": 3,
    "start_time": "2023-01-22T12:34:02.541Z"
   },
   {
    "duration": 8,
    "start_time": "2023-01-22T12:34:03.582Z"
   },
   {
    "duration": 2,
    "start_time": "2023-01-22T12:34:04.028Z"
   },
   {
    "duration": 10,
    "start_time": "2023-01-22T12:34:04.492Z"
   },
   {
    "duration": 5,
    "start_time": "2023-01-22T12:34:05.403Z"
   },
   {
    "duration": 4,
    "start_time": "2023-01-22T12:34:06.216Z"
   },
   {
    "duration": 3541,
    "start_time": "2023-01-22T12:34:07.585Z"
   },
   {
    "duration": 32260,
    "start_time": "2023-01-22T12:34:11.129Z"
   },
   {
    "duration": 46240,
    "start_time": "2023-01-22T12:34:43.391Z"
   },
   {
    "duration": 570,
    "start_time": "2023-01-22T12:35:29.633Z"
   },
   {
    "duration": 141,
    "start_time": "2023-01-22T12:40:22.592Z"
   },
   {
    "duration": 53,
    "start_time": "2023-01-22T12:41:49.441Z"
   },
   {
    "duration": 15,
    "start_time": "2023-01-22T12:41:56.744Z"
   },
   {
    "duration": 639,
    "start_time": "2023-01-22T12:42:03.781Z"
   },
   {
    "duration": 44,
    "start_time": "2023-01-22T12:43:42.441Z"
   },
   {
    "duration": 7,
    "start_time": "2023-01-22T12:43:43.788Z"
   },
   {
    "duration": 332,
    "start_time": "2023-01-22T12:43:44.429Z"
   },
   {
    "duration": 13,
    "start_time": "2023-01-22T12:43:45.124Z"
   },
   {
    "duration": 29,
    "start_time": "2023-01-22T12:43:45.384Z"
   },
   {
    "duration": 17,
    "start_time": "2023-01-22T12:43:45.978Z"
   },
   {
    "duration": 395,
    "start_time": "2023-01-22T12:43:46.288Z"
   },
   {
    "duration": 14,
    "start_time": "2023-01-22T12:43:46.687Z"
   },
   {
    "duration": 22,
    "start_time": "2023-01-22T12:43:46.846Z"
   },
   {
    "duration": 19,
    "start_time": "2023-01-22T12:43:47.192Z"
   },
   {
    "duration": 7,
    "start_time": "2023-01-22T12:43:47.686Z"
   },
   {
    "duration": 8,
    "start_time": "2023-01-22T12:43:47.879Z"
   },
   {
    "duration": 251,
    "start_time": "2023-01-22T12:43:48.944Z"
   },
   {
    "duration": 235,
    "start_time": "2023-01-22T12:43:49.395Z"
   },
   {
    "duration": 236,
    "start_time": "2023-01-22T12:43:49.827Z"
   },
   {
    "duration": 221,
    "start_time": "2023-01-22T12:43:50.247Z"
   },
   {
    "duration": 229,
    "start_time": "2023-01-22T12:43:50.693Z"
   },
   {
    "duration": 8,
    "start_time": "2023-01-22T12:43:51.183Z"
   },
   {
    "duration": 258,
    "start_time": "2023-01-22T12:43:51.425Z"
   },
   {
    "duration": 233,
    "start_time": "2023-01-22T12:43:51.929Z"
   },
   {
    "duration": 15,
    "start_time": "2023-01-22T12:43:52.407Z"
   },
   {
    "duration": 15,
    "start_time": "2023-01-22T12:43:53.520Z"
   },
   {
    "duration": 3,
    "start_time": "2023-01-22T12:43:54.042Z"
   },
   {
    "duration": 10,
    "start_time": "2023-01-22T12:43:55.186Z"
   },
   {
    "duration": 3,
    "start_time": "2023-01-22T12:43:55.623Z"
   },
   {
    "duration": 7,
    "start_time": "2023-01-22T12:43:55.928Z"
   },
   {
    "duration": 3,
    "start_time": "2023-01-22T12:43:56.724Z"
   },
   {
    "duration": 4,
    "start_time": "2023-01-22T12:43:58.083Z"
   },
   {
    "duration": 3968,
    "start_time": "2023-01-22T12:43:59.994Z"
   },
   {
    "duration": 32440,
    "start_time": "2023-01-22T12:44:03.967Z"
   },
   {
    "duration": 47591,
    "start_time": "2023-01-22T12:44:36.409Z"
   },
   {
    "duration": 596,
    "start_time": "2023-01-22T12:45:24.004Z"
   },
   {
    "duration": 630,
    "start_time": "2023-01-22T12:47:15.305Z"
   },
   {
    "duration": 564,
    "start_time": "2023-01-22T13:14:39.213Z"
   },
   {
    "duration": 115,
    "start_time": "2023-01-22T13:17:11.506Z"
   },
   {
    "duration": 106,
    "start_time": "2023-01-22T13:17:17.937Z"
   },
   {
    "duration": 134,
    "start_time": "2023-01-22T13:17:23.994Z"
   },
   {
    "duration": 98,
    "start_time": "2023-01-22T13:17:30.737Z"
   },
   {
    "duration": 89,
    "start_time": "2023-01-22T13:17:37.002Z"
   },
   {
    "duration": 537,
    "start_time": "2023-01-22T13:17:44.877Z"
   },
   {
    "duration": 554,
    "start_time": "2023-01-22T13:28:19.835Z"
   },
   {
    "duration": 677,
    "start_time": "2023-01-22T14:06:56.828Z"
   },
   {
    "duration": 642,
    "start_time": "2023-01-22T14:07:26.678Z"
   },
   {
    "duration": 623,
    "start_time": "2023-01-22T14:07:44.870Z"
   },
   {
    "duration": 27,
    "start_time": "2023-01-22T14:10:45.841Z"
   },
   {
    "duration": 13,
    "start_time": "2023-01-22T14:13:50.133Z"
   },
   {
    "duration": 19,
    "start_time": "2023-01-22T14:14:10.278Z"
   },
   {
    "duration": 1674,
    "start_time": "2023-01-23T03:26:40.409Z"
   },
   {
    "duration": 1093,
    "start_time": "2023-01-23T03:26:44.034Z"
   },
   {
    "duration": 570,
    "start_time": "2023-01-23T03:26:45.130Z"
   },
   {
    "duration": 2223,
    "start_time": "2023-01-23T03:26:45.702Z"
   },
   {
    "duration": 4,
    "start_time": "2023-01-23T03:26:47.928Z"
   },
   {
    "duration": 191,
    "start_time": "2023-01-23T03:26:48.039Z"
   },
   {
    "duration": 69,
    "start_time": "2023-01-23T03:26:48.546Z"
   },
   {
    "duration": 155,
    "start_time": "2023-01-23T03:26:49.440Z"
   },
   {
    "duration": 43,
    "start_time": "2023-01-23T03:26:50.538Z"
   },
   {
    "duration": 8,
    "start_time": "2023-01-23T03:26:55.098Z"
   },
   {
    "duration": 1472,
    "start_time": "2023-01-23T03:27:00.209Z"
   },
   {
    "duration": 28,
    "start_time": "2023-01-23T03:29:18.497Z"
   },
   {
    "duration": 19,
    "start_time": "2023-01-23T03:30:58.220Z"
   },
   {
    "duration": 4,
    "start_time": "2023-01-23T03:33:37.619Z"
   },
   {
    "duration": 347,
    "start_time": "2023-01-23T03:33:40.182Z"
   },
   {
    "duration": 98,
    "start_time": "2023-01-23T03:33:40.619Z"
   },
   {
    "duration": 421,
    "start_time": "2023-01-23T03:33:40.996Z"
   },
   {
    "duration": 5,
    "start_time": "2023-01-23T03:33:41.874Z"
   },
   {
    "duration": 183,
    "start_time": "2023-01-23T03:33:42.341Z"
   },
   {
    "duration": 55,
    "start_time": "2023-01-23T03:33:42.715Z"
   },
   {
    "duration": 150,
    "start_time": "2023-01-23T03:33:43.070Z"
   },
   {
    "duration": 31,
    "start_time": "2023-01-23T03:33:43.471Z"
   },
   {
    "duration": 8,
    "start_time": "2023-01-23T03:33:44.374Z"
   },
   {
    "duration": 22,
    "start_time": "2023-01-23T03:33:47.377Z"
   },
   {
    "duration": 17,
    "start_time": "2023-01-23T03:40:55.973Z"
   },
   {
    "duration": 12,
    "start_time": "2023-01-23T03:48:57.605Z"
   },
   {
    "duration": 29,
    "start_time": "2023-01-23T03:49:32.379Z"
   },
   {
    "duration": 10,
    "start_time": "2023-01-23T03:49:40.295Z"
   },
   {
    "duration": 7,
    "start_time": "2023-01-23T03:49:51.899Z"
   },
   {
    "duration": 17,
    "start_time": "2023-01-23T03:50:00.547Z"
   },
   {
    "duration": 20,
    "start_time": "2023-01-23T03:50:05.858Z"
   },
   {
    "duration": 272,
    "start_time": "2023-01-23T03:50:59.587Z"
   },
   {
    "duration": 37,
    "start_time": "2023-01-23T03:51:01.139Z"
   },
   {
    "duration": 30,
    "start_time": "2023-01-23T03:51:01.764Z"
   },
   {
    "duration": 33,
    "start_time": "2023-01-23T03:51:02.842Z"
   },
   {
    "duration": 393,
    "start_time": "2023-01-23T03:51:03.386Z"
   },
   {
    "duration": 25,
    "start_time": "2023-01-23T03:51:03.897Z"
   },
   {
    "duration": 23,
    "start_time": "2023-01-23T03:51:04.324Z"
   },
   {
    "duration": 103,
    "start_time": "2023-01-23T03:51:04.852Z"
   },
   {
    "duration": 6,
    "start_time": "2023-01-23T03:51:06.027Z"
   },
   {
    "duration": 7,
    "start_time": "2023-01-23T03:51:06.489Z"
   },
   {
    "duration": 196,
    "start_time": "2023-01-23T03:51:09.130Z"
   },
   {
    "duration": 201,
    "start_time": "2023-01-23T03:51:10.170Z"
   },
   {
    "duration": 217,
    "start_time": "2023-01-23T03:51:11.113Z"
   },
   {
    "duration": 198,
    "start_time": "2023-01-23T03:51:12.617Z"
   },
   {
    "duration": 217,
    "start_time": "2023-01-23T03:51:13.602Z"
   },
   {
    "duration": 8,
    "start_time": "2023-01-23T03:51:14.762Z"
   },
   {
    "duration": 202,
    "start_time": "2023-01-23T03:51:15.174Z"
   },
   {
    "duration": 233,
    "start_time": "2023-01-23T03:51:16.235Z"
   },
   {
    "duration": 21,
    "start_time": "2023-01-23T03:51:17.355Z"
   },
   {
    "duration": 15,
    "start_time": "2023-01-23T03:51:19.746Z"
   },
   {
    "duration": 3,
    "start_time": "2023-01-23T03:51:23.546Z"
   },
   {
    "duration": 12,
    "start_time": "2023-01-23T03:51:28.153Z"
   },
   {
    "duration": 7,
    "start_time": "2023-01-23T03:51:29.372Z"
   },
   {
    "duration": 15,
    "start_time": "2023-01-23T03:51:30.018Z"
   },
   {
    "duration": 4,
    "start_time": "2023-01-23T03:51:31.721Z"
   },
   {
    "duration": 4,
    "start_time": "2023-01-23T03:51:32.797Z"
   },
   {
    "duration": 2833,
    "start_time": "2023-01-23T03:51:33.817Z"
   },
   {
    "duration": 0,
    "start_time": "2023-01-23T03:51:36.652Z"
   },
   {
    "duration": 41416,
    "start_time": "2023-01-23T03:51:37.083Z"
   },
   {
    "duration": 2537,
    "start_time": "2023-01-23T03:53:30.726Z"
   },
   {
    "duration": 2743,
    "start_time": "2023-01-23T03:54:00.817Z"
   },
   {
    "duration": 2569,
    "start_time": "2023-01-23T03:54:14.288Z"
   },
   {
    "duration": 26927,
    "start_time": "2023-01-23T03:54:28.594Z"
   },
   {
    "duration": 41839,
    "start_time": "2023-01-23T03:54:55.523Z"
   },
   {
    "duration": 266331,
    "start_time": "2023-01-23T03:56:40.965Z"
   },
   {
    "duration": 496,
    "start_time": "2023-01-23T04:06:40.897Z"
   },
   {
    "duration": 6648,
    "start_time": "2023-01-23T04:06:57.555Z"
   },
   {
    "duration": 9,
    "start_time": "2023-01-23T04:10:09.425Z"
   },
   {
    "duration": 8,
    "start_time": "2023-01-23T04:23:00.556Z"
   },
   {
    "duration": 3,
    "start_time": "2023-01-23T04:23:20.349Z"
   },
   {
    "duration": 3,
    "start_time": "2023-01-23T04:24:30.251Z"
   },
   {
    "duration": 5,
    "start_time": "2023-01-23T04:24:30.619Z"
   },
   {
    "duration": 9,
    "start_time": "2023-01-23T04:24:31.475Z"
   },
   {
    "duration": 10,
    "start_time": "2023-01-23T04:24:51.668Z"
   },
   {
    "duration": 4,
    "start_time": "2023-01-23T04:27:54.197Z"
   },
   {
    "duration": 11,
    "start_time": "2023-01-23T04:27:54.914Z"
   },
   {
    "duration": 4,
    "start_time": "2023-01-23T04:29:08.984Z"
   },
   {
    "duration": 19,
    "start_time": "2023-01-23T04:29:09.459Z"
   },
   {
    "duration": 2,
    "start_time": "2023-01-23T04:30:50.298Z"
   },
   {
    "duration": 6,
    "start_time": "2023-01-23T04:30:50.584Z"
   },
   {
    "duration": 22,
    "start_time": "2023-01-23T04:30:51.145Z"
   },
   {
    "duration": 3,
    "start_time": "2023-01-23T04:31:45.080Z"
   },
   {
    "duration": 5,
    "start_time": "2023-01-23T04:31:45.452Z"
   },
   {
    "duration": 35,
    "start_time": "2023-01-23T04:31:46.069Z"
   },
   {
    "duration": 6773,
    "start_time": "2023-01-23T04:31:57.616Z"
   },
   {
    "duration": 2,
    "start_time": "2023-01-23T04:33:13.592Z"
   },
   {
    "duration": 12,
    "start_time": "2023-01-23T04:33:14.167Z"
   },
   {
    "duration": 3,
    "start_time": "2023-01-23T04:33:15.487Z"
   },
   {
    "duration": 4,
    "start_time": "2023-01-23T04:33:16.535Z"
   },
   {
    "duration": 2376,
    "start_time": "2023-01-23T04:33:17.575Z"
   },
   {
    "duration": 27319,
    "start_time": "2023-01-23T04:33:19.953Z"
   },
   {
    "duration": 1326,
    "start_time": "2023-01-23T04:36:45.613Z"
   },
   {
    "duration": 290,
    "start_time": "2023-01-23T04:36:47.205Z"
   },
   {
    "duration": 86,
    "start_time": "2023-01-23T04:36:47.496Z"
   },
   {
    "duration": 357,
    "start_time": "2023-01-23T04:36:47.591Z"
   },
   {
    "duration": 3,
    "start_time": "2023-01-23T04:36:48.028Z"
   },
   {
    "duration": 148,
    "start_time": "2023-01-23T04:36:48.260Z"
   },
   {
    "duration": 46,
    "start_time": "2023-01-23T04:36:48.477Z"
   },
   {
    "duration": 106,
    "start_time": "2023-01-23T04:36:48.709Z"
   },
   {
    "duration": 31,
    "start_time": "2023-01-23T04:36:48.951Z"
   },
   {
    "duration": 7,
    "start_time": "2023-01-23T04:36:49.204Z"
   },
   {
    "duration": 33,
    "start_time": "2023-01-23T04:36:49.980Z"
   },
   {
    "duration": 8,
    "start_time": "2023-01-23T04:36:50.219Z"
   },
   {
    "duration": 18,
    "start_time": "2023-01-23T04:36:50.700Z"
   },
   {
    "duration": 20,
    "start_time": "2023-01-23T04:36:50.916Z"
   },
   {
    "duration": 290,
    "start_time": "2023-01-23T04:36:51.372Z"
   },
   {
    "duration": 22,
    "start_time": "2023-01-23T04:36:51.835Z"
   },
   {
    "duration": 22,
    "start_time": "2023-01-23T04:36:52.099Z"
   },
   {
    "duration": 19,
    "start_time": "2023-01-23T04:36:52.612Z"
   },
   {
    "duration": 319,
    "start_time": "2023-01-23T04:36:52.895Z"
   },
   {
    "duration": 35,
    "start_time": "2023-01-23T04:36:53.216Z"
   },
   {
    "duration": 16,
    "start_time": "2023-01-23T04:36:53.386Z"
   },
   {
    "duration": 16,
    "start_time": "2023-01-23T04:36:53.629Z"
   },
   {
    "duration": 5,
    "start_time": "2023-01-23T04:36:54.108Z"
   },
   {
    "duration": 6,
    "start_time": "2023-01-23T04:36:54.341Z"
   },
   {
    "duration": 204,
    "start_time": "2023-01-23T04:36:55.484Z"
   },
   {
    "duration": 302,
    "start_time": "2023-01-23T04:36:56.085Z"
   },
   {
    "duration": 197,
    "start_time": "2023-01-23T04:36:56.535Z"
   },
   {
    "duration": 175,
    "start_time": "2023-01-23T04:36:56.961Z"
   },
   {
    "duration": 192,
    "start_time": "2023-01-23T04:36:57.396Z"
   },
   {
    "duration": 7,
    "start_time": "2023-01-23T04:36:57.860Z"
   },
   {
    "duration": 182,
    "start_time": "2023-01-23T04:36:58.036Z"
   },
   {
    "duration": 198,
    "start_time": "2023-01-23T04:36:58.492Z"
   },
   {
    "duration": 17,
    "start_time": "2023-01-23T04:36:58.907Z"
   },
   {
    "duration": 13,
    "start_time": "2023-01-23T04:36:59.731Z"
   },
   {
    "duration": 3,
    "start_time": "2023-01-23T04:37:00.131Z"
   },
   {
    "duration": 10,
    "start_time": "2023-01-23T04:37:00.625Z"
   },
   {
    "duration": 3,
    "start_time": "2023-01-23T04:37:00.826Z"
   },
   {
    "duration": 11,
    "start_time": "2023-01-23T04:37:00.996Z"
   },
   {
    "duration": 4,
    "start_time": "2023-01-23T04:37:01.675Z"
   },
   {
    "duration": 4,
    "start_time": "2023-01-23T04:37:02.091Z"
   },
   {
    "duration": 2252,
    "start_time": "2023-01-23T04:37:02.508Z"
   },
   {
    "duration": 26572,
    "start_time": "2023-01-23T04:37:04.762Z"
   },
   {
    "duration": 1425,
    "start_time": "2023-01-23T04:40:00.477Z"
   },
   {
    "duration": 325,
    "start_time": "2023-01-23T04:40:02.300Z"
   },
   {
    "duration": 94,
    "start_time": "2023-01-23T04:40:02.765Z"
   },
   {
    "duration": 409,
    "start_time": "2023-01-23T04:40:03.436Z"
   },
   {
    "duration": 3,
    "start_time": "2023-01-23T04:40:03.940Z"
   },
   {
    "duration": 150,
    "start_time": "2023-01-23T04:40:04.207Z"
   },
   {
    "duration": 53,
    "start_time": "2023-01-23T04:40:04.522Z"
   },
   {
    "duration": 115,
    "start_time": "2023-01-23T04:40:04.804Z"
   },
   {
    "duration": 25,
    "start_time": "2023-01-23T04:40:05.029Z"
   },
   {
    "duration": 8,
    "start_time": "2023-01-23T04:40:05.269Z"
   },
   {
    "duration": 30,
    "start_time": "2023-01-23T04:40:06.105Z"
   },
   {
    "duration": 7,
    "start_time": "2023-01-23T04:40:06.417Z"
   },
   {
    "duration": 16,
    "start_time": "2023-01-23T04:40:06.874Z"
   },
   {
    "duration": 19,
    "start_time": "2023-01-23T04:40:07.097Z"
   },
   {
    "duration": 333,
    "start_time": "2023-01-23T04:40:07.623Z"
   },
   {
    "duration": 23,
    "start_time": "2023-01-23T04:40:08.092Z"
   },
   {
    "duration": 30,
    "start_time": "2023-01-23T04:40:08.453Z"
   },
   {
    "duration": 18,
    "start_time": "2023-01-23T04:40:09.101Z"
   },
   {
    "duration": 306,
    "start_time": "2023-01-23T04:40:09.340Z"
   },
   {
    "duration": 23,
    "start_time": "2023-01-23T04:40:09.648Z"
   },
   {
    "duration": 16,
    "start_time": "2023-01-23T04:40:09.803Z"
   },
   {
    "duration": 15,
    "start_time": "2023-01-23T04:40:10.028Z"
   },
   {
    "duration": 5,
    "start_time": "2023-01-23T04:40:10.500Z"
   },
   {
    "duration": 7,
    "start_time": "2023-01-23T04:40:10.760Z"
   },
   {
    "duration": 202,
    "start_time": "2023-01-23T04:40:11.980Z"
   },
   {
    "duration": 298,
    "start_time": "2023-01-23T04:40:12.476Z"
   },
   {
    "duration": 214,
    "start_time": "2023-01-23T04:40:12.938Z"
   },
   {
    "duration": 210,
    "start_time": "2023-01-23T04:40:13.470Z"
   },
   {
    "duration": 245,
    "start_time": "2023-01-23T04:40:13.953Z"
   },
   {
    "duration": 6,
    "start_time": "2023-01-23T04:40:14.425Z"
   },
   {
    "duration": 219,
    "start_time": "2023-01-23T04:40:14.635Z"
   },
   {
    "duration": 202,
    "start_time": "2023-01-23T04:40:15.146Z"
   },
   {
    "duration": 18,
    "start_time": "2023-01-23T04:40:15.689Z"
   },
   {
    "duration": 14,
    "start_time": "2023-01-23T04:40:16.641Z"
   },
   {
    "duration": 2,
    "start_time": "2023-01-23T04:40:17.171Z"
   },
   {
    "duration": 10,
    "start_time": "2023-01-23T04:40:17.706Z"
   },
   {
    "duration": 2,
    "start_time": "2023-01-23T04:40:17.947Z"
   },
   {
    "duration": 11,
    "start_time": "2023-01-23T04:40:18.178Z"
   },
   {
    "duration": 4,
    "start_time": "2023-01-23T04:40:18.644Z"
   },
   {
    "duration": 3,
    "start_time": "2023-01-23T04:40:19.122Z"
   },
   {
    "duration": 1807,
    "start_time": "2023-01-23T04:40:19.650Z"
   },
   {
    "duration": 26636,
    "start_time": "2023-01-23T04:40:21.550Z"
   },
   {
    "duration": 264131,
    "start_time": "2023-01-23T04:40:48.188Z"
   },
   {
    "duration": 3,
    "start_time": "2023-01-23T04:45:12.321Z"
   },
   {
    "duration": 6,
    "start_time": "2023-01-23T04:45:12.326Z"
   },
   {
    "duration": 49,
    "start_time": "2023-01-23T04:45:12.333Z"
   },
   {
    "duration": 7387,
    "start_time": "2023-01-23T04:45:12.384Z"
   },
   {
    "duration": 13,
    "start_time": "2023-01-23T06:21:46.087Z"
   },
   {
    "duration": 4,
    "start_time": "2023-01-23T06:22:57.979Z"
   },
   {
    "duration": 4,
    "start_time": "2023-01-23T06:24:52.947Z"
   },
   {
    "duration": 34,
    "start_time": "2023-01-23T06:24:54.028Z"
   },
   {
    "duration": 6969,
    "start_time": "2023-01-23T06:24:54.569Z"
   },
   {
    "duration": 6,
    "start_time": "2023-01-23T06:38:40.784Z"
   },
   {
    "duration": 37,
    "start_time": "2023-01-23T06:38:41.552Z"
   },
   {
    "duration": 6822,
    "start_time": "2023-01-23T06:38:42.186Z"
   },
   {
    "duration": 4,
    "start_time": "2023-01-23T06:40:06.038Z"
   },
   {
    "duration": 84,
    "start_time": "2023-01-23T06:47:29.842Z"
   },
   {
    "duration": 100,
    "start_time": "2023-01-23T06:48:24.654Z"
   },
   {
    "duration": 41,
    "start_time": "2023-01-23T06:49:26.377Z"
   },
   {
    "duration": 4,
    "start_time": "2023-01-23T06:50:43.810Z"
   },
   {
    "duration": 4,
    "start_time": "2023-01-23T06:51:18.361Z"
   },
   {
    "duration": 4,
    "start_time": "2023-01-23T06:51:48.088Z"
   },
   {
    "duration": 14,
    "start_time": "2023-01-23T06:52:08.527Z"
   },
   {
    "duration": 4,
    "start_time": "2023-01-23T06:52:12.375Z"
   },
   {
    "duration": 3,
    "start_time": "2023-01-23T06:52:23.088Z"
   },
   {
    "duration": 3,
    "start_time": "2023-01-23T06:52:30.755Z"
   },
   {
    "duration": 3,
    "start_time": "2023-01-23T06:52:31.672Z"
   },
   {
    "duration": 2301,
    "start_time": "2023-01-23T06:52:32.551Z"
   },
   {
    "duration": 26774,
    "start_time": "2023-01-23T06:52:34.854Z"
   },
   {
    "duration": 43,
    "start_time": "2023-01-23T06:57:27.225Z"
   },
   {
    "duration": 6852,
    "start_time": "2023-01-23T06:57:27.270Z"
   },
   {
    "duration": 0,
    "start_time": "2023-01-23T06:57:34.124Z"
   },
   {
    "duration": 0,
    "start_time": "2023-01-23T06:57:34.126Z"
   },
   {
    "duration": 271580,
    "start_time": "2023-01-23T07:11:12.803Z"
   },
   {
    "duration": 7,
    "start_time": "2023-01-23T07:17:02.089Z"
   },
   {
    "duration": 40,
    "start_time": "2023-01-23T07:17:03.250Z"
   },
   {
    "duration": 6895,
    "start_time": "2023-01-23T07:17:05.090Z"
   },
   {
    "duration": 4,
    "start_time": "2023-01-23T08:01:57.689Z"
   },
   {
    "duration": 5,
    "start_time": "2023-01-23T08:02:02.642Z"
   },
   {
    "duration": 4,
    "start_time": "2023-01-23T08:02:15.955Z"
   },
   {
    "duration": 4,
    "start_time": "2023-01-23T08:02:59.071Z"
   },
   {
    "duration": 5,
    "start_time": "2023-01-23T08:03:11.263Z"
   },
   {
    "duration": 13,
    "start_time": "2023-01-23T08:03:14.584Z"
   },
   {
    "duration": 3,
    "start_time": "2023-01-23T08:03:20.295Z"
   },
   {
    "duration": 6,
    "start_time": "2023-01-23T08:03:39.896Z"
   },
   {
    "duration": 34,
    "start_time": "2023-01-23T08:03:40.376Z"
   },
   {
    "duration": 4,
    "start_time": "2023-01-23T08:03:40.736Z"
   },
   {
    "duration": 4,
    "start_time": "2023-01-23T08:03:46.152Z"
   },
   {
    "duration": 11,
    "start_time": "2023-01-23T08:04:21.071Z"
   },
   {
    "duration": 5,
    "start_time": "2023-01-23T08:04:24.793Z"
   },
   {
    "duration": 4,
    "start_time": "2023-01-23T08:04:53.880Z"
   },
   {
    "duration": 2109,
    "start_time": "2023-01-23T08:05:03.342Z"
   },
   {
    "duration": 5,
    "start_time": "2023-01-23T08:05:09.320Z"
   },
   {
    "duration": 5,
    "start_time": "2023-01-23T08:05:21.440Z"
   },
   {
    "duration": 5,
    "start_time": "2023-01-23T08:05:26.711Z"
   },
   {
    "duration": 5,
    "start_time": "2023-01-23T08:05:32.675Z"
   },
   {
    "duration": 4,
    "start_time": "2023-01-23T08:05:36.647Z"
   },
   {
    "duration": 7269,
    "start_time": "2023-01-23T08:05:39.109Z"
   },
   {
    "duration": 7006,
    "start_time": "2023-01-23T08:09:01.894Z"
   },
   {
    "duration": 7220,
    "start_time": "2023-01-23T08:09:18.780Z"
   },
   {
    "duration": 6898,
    "start_time": "2023-01-23T08:09:38.994Z"
   },
   {
    "duration": 7199,
    "start_time": "2023-01-23T08:09:59.588Z"
   },
   {
    "duration": 7008,
    "start_time": "2023-01-23T08:12:46.360Z"
   },
   {
    "duration": 6878,
    "start_time": "2023-01-23T08:15:51.417Z"
   },
   {
    "duration": 6954,
    "start_time": "2023-01-23T08:16:48.495Z"
   },
   {
    "duration": 7042,
    "start_time": "2023-01-23T08:17:20.291Z"
   },
   {
    "duration": 7081,
    "start_time": "2023-01-23T08:18:05.870Z"
   },
   {
    "duration": 7061,
    "start_time": "2023-01-23T08:19:59.976Z"
   },
   {
    "duration": 6906,
    "start_time": "2023-01-23T08:24:06.630Z"
   },
   {
    "duration": 6849,
    "start_time": "2023-01-23T08:24:21.206Z"
   },
   {
    "duration": 6930,
    "start_time": "2023-01-23T08:24:56.525Z"
   },
   {
    "duration": 7004,
    "start_time": "2023-01-23T08:25:26.957Z"
   },
   {
    "duration": 7,
    "start_time": "2023-01-23T08:26:48.285Z"
   },
   {
    "duration": 316,
    "start_time": "2023-01-23T08:26:50.371Z"
   },
   {
    "duration": 86,
    "start_time": "2023-01-23T08:26:50.714Z"
   },
   {
    "duration": 417,
    "start_time": "2023-01-23T08:26:51.066Z"
   },
   {
    "duration": 5,
    "start_time": "2023-01-23T08:26:51.916Z"
   },
   {
    "duration": 191,
    "start_time": "2023-01-23T08:26:52.436Z"
   },
   {
    "duration": 59,
    "start_time": "2023-01-23T08:26:52.856Z"
   },
   {
    "duration": 150,
    "start_time": "2023-01-23T08:26:53.386Z"
   },
   {
    "duration": 28,
    "start_time": "2023-01-23T08:26:53.800Z"
   },
   {
    "duration": 9,
    "start_time": "2023-01-23T08:26:54.109Z"
   },
   {
    "duration": 29,
    "start_time": "2023-01-23T08:26:54.989Z"
   },
   {
    "duration": 7,
    "start_time": "2023-01-23T08:26:55.284Z"
   },
   {
    "duration": 16,
    "start_time": "2023-01-23T08:26:55.770Z"
   },
   {
    "duration": 18,
    "start_time": "2023-01-23T08:26:55.994Z"
   },
   {
    "duration": 297,
    "start_time": "2023-01-23T08:26:56.506Z"
   },
   {
    "duration": 21,
    "start_time": "2023-01-23T08:26:57.075Z"
   },
   {
    "duration": 23,
    "start_time": "2023-01-23T08:26:57.426Z"
   },
   {
    "duration": 16,
    "start_time": "2023-01-23T08:26:57.996Z"
   },
   {
    "duration": 397,
    "start_time": "2023-01-23T08:26:58.283Z"
   },
   {
    "duration": 24,
    "start_time": "2023-01-23T08:26:59.061Z"
   },
   {
    "duration": 15,
    "start_time": "2023-01-23T08:26:59.427Z"
   },
   {
    "duration": 19,
    "start_time": "2023-01-23T08:26:59.690Z"
   },
   {
    "duration": 6,
    "start_time": "2023-01-23T08:27:00.242Z"
   },
   {
    "duration": 6,
    "start_time": "2023-01-23T08:27:00.560Z"
   },
   {
    "duration": 195,
    "start_time": "2023-01-23T08:27:01.957Z"
   },
   {
    "duration": 200,
    "start_time": "2023-01-23T08:27:02.418Z"
   },
   {
    "duration": 225,
    "start_time": "2023-01-23T08:27:02.914Z"
   },
   {
    "duration": 219,
    "start_time": "2023-01-23T08:27:03.402Z"
   },
   {
    "duration": 214,
    "start_time": "2023-01-23T08:27:03.979Z"
   },
   {
    "duration": 8,
    "start_time": "2023-01-23T08:27:04.557Z"
   },
   {
    "duration": 204,
    "start_time": "2023-01-23T08:27:04.803Z"
   },
   {
    "duration": 221,
    "start_time": "2023-01-23T08:27:05.349Z"
   },
   {
    "duration": 20,
    "start_time": "2023-01-23T08:27:05.949Z"
   },
   {
    "duration": 18,
    "start_time": "2023-01-23T08:27:07.421Z"
   },
   {
    "duration": 3,
    "start_time": "2023-01-23T08:27:08.062Z"
   },
   {
    "duration": 8,
    "start_time": "2023-01-23T08:27:08.673Z"
   },
   {
    "duration": 4,
    "start_time": "2023-01-23T08:27:09.054Z"
   },
   {
    "duration": 14,
    "start_time": "2023-01-23T08:27:09.371Z"
   },
   {
    "duration": 4,
    "start_time": "2023-01-23T08:27:10.115Z"
   },
   {
    "duration": 3,
    "start_time": "2023-01-23T08:27:10.482Z"
   },
   {
    "duration": 1852,
    "start_time": "2023-01-23T08:27:11.099Z"
   },
   {
    "duration": 8,
    "start_time": "2023-01-23T08:27:12.954Z"
   },
   {
    "duration": 28269,
    "start_time": "2023-01-23T08:27:12.964Z"
   },
   {
    "duration": 273210,
    "start_time": "2023-01-23T08:27:41.235Z"
   },
   {
    "duration": 5,
    "start_time": "2023-01-23T08:32:14.447Z"
   },
   {
    "duration": 47,
    "start_time": "2023-01-23T08:32:14.453Z"
   },
   {
    "duration": 7051,
    "start_time": "2023-01-23T08:32:14.502Z"
   },
   {
    "duration": 2396,
    "start_time": "2023-01-23T08:34:29.458Z"
   },
   {
    "duration": 2196,
    "start_time": "2023-01-23T08:35:11.853Z"
   },
   {
    "duration": 2718,
    "start_time": "2023-01-23T08:35:21.336Z"
   },
   {
    "duration": 2584,
    "start_time": "2023-01-23T08:37:27.769Z"
   },
   {
    "duration": 2107,
    "start_time": "2023-01-23T08:37:54.848Z"
   },
   {
    "duration": 5131,
    "start_time": "2023-01-23T08:39:06.317Z"
   },
   {
    "duration": 28374,
    "start_time": "2023-01-23T08:39:17.691Z"
   },
   {
    "duration": 2613,
    "start_time": "2023-01-23T08:40:34.440Z"
   },
   {
    "duration": 27627,
    "start_time": "2023-01-23T08:40:43.674Z"
   },
   {
    "duration": 27553,
    "start_time": "2023-01-23T08:41:52.495Z"
   },
   {
    "duration": 7,
    "start_time": "2023-01-23T08:48:02.976Z"
   },
   {
    "duration": 11,
    "start_time": "2023-01-23T08:48:04.142Z"
   },
   {
    "duration": 7109,
    "start_time": "2023-01-23T08:48:05.078Z"
   },
   {
    "duration": 5,
    "start_time": "2023-01-23T08:48:50.666Z"
   },
   {
    "duration": 11,
    "start_time": "2023-01-23T08:48:51.071Z"
   },
   {
    "duration": 9,
    "start_time": "2023-01-23T08:51:10.920Z"
   },
   {
    "duration": 4,
    "start_time": "2023-01-23T08:51:15.618Z"
   },
   {
    "duration": 9,
    "start_time": "2023-01-23T08:51:15.869Z"
   },
   {
    "duration": 35,
    "start_time": "2023-01-23T08:51:31.713Z"
   },
   {
    "duration": 7,
    "start_time": "2023-01-23T08:52:09.271Z"
   },
   {
    "duration": 33,
    "start_time": "2023-01-23T08:52:09.883Z"
   },
   {
    "duration": 7019,
    "start_time": "2023-01-23T08:52:12.581Z"
   },
   {
    "duration": 5,
    "start_time": "2023-01-23T08:53:28.514Z"
   },
   {
    "duration": 36,
    "start_time": "2023-01-23T08:53:29.137Z"
   },
   {
    "duration": 7202,
    "start_time": "2023-01-23T08:53:29.764Z"
   },
   {
    "duration": 4,
    "start_time": "2023-01-23T08:54:35.462Z"
   },
   {
    "duration": 37,
    "start_time": "2023-01-23T08:54:37.136Z"
   },
   {
    "duration": 7066,
    "start_time": "2023-01-23T08:54:37.516Z"
   },
   {
    "duration": 4,
    "start_time": "2023-01-23T08:55:23.864Z"
   },
   {
    "duration": 36,
    "start_time": "2023-01-23T08:55:24.362Z"
   },
   {
    "duration": 7132,
    "start_time": "2023-01-23T08:55:24.761Z"
   },
   {
    "duration": 5,
    "start_time": "2023-01-23T08:57:03.814Z"
   },
   {
    "duration": 35,
    "start_time": "2023-01-23T08:57:04.538Z"
   },
   {
    "duration": 7478,
    "start_time": "2023-01-23T08:57:05.193Z"
   },
   {
    "duration": 7,
    "start_time": "2023-01-23T08:57:26.463Z"
   },
   {
    "duration": 36,
    "start_time": "2023-01-23T08:57:27.109Z"
   },
   {
    "duration": 7219,
    "start_time": "2023-01-23T08:57:27.864Z"
   },
   {
    "duration": 5,
    "start_time": "2023-01-23T08:58:52.407Z"
   },
   {
    "duration": 39,
    "start_time": "2023-01-23T08:58:52.975Z"
   },
   {
    "duration": 7037,
    "start_time": "2023-01-23T08:58:53.725Z"
   },
   {
    "duration": 4,
    "start_time": "2023-01-23T08:59:25.790Z"
   },
   {
    "duration": 278,
    "start_time": "2023-01-23T08:59:28.149Z"
   },
   {
    "duration": 83,
    "start_time": "2023-01-23T08:59:28.773Z"
   },
   {
    "duration": 361,
    "start_time": "2023-01-23T08:59:29.261Z"
   },
   {
    "duration": 4,
    "start_time": "2023-01-23T08:59:30.949Z"
   },
   {
    "duration": 174,
    "start_time": "2023-01-23T08:59:31.701Z"
   },
   {
    "duration": 66,
    "start_time": "2023-01-23T08:59:32.277Z"
   },
   {
    "duration": 144,
    "start_time": "2023-01-23T08:59:33.189Z"
   },
   {
    "duration": 26,
    "start_time": "2023-01-23T08:59:33.855Z"
   },
   {
    "duration": 8,
    "start_time": "2023-01-23T08:59:34.509Z"
   },
   {
    "duration": 36,
    "start_time": "2023-01-23T08:59:36.558Z"
   },
   {
    "duration": 7,
    "start_time": "2023-01-23T08:59:37.019Z"
   },
   {
    "duration": 18,
    "start_time": "2023-01-23T08:59:37.989Z"
   },
   {
    "duration": 20,
    "start_time": "2023-01-23T08:59:38.596Z"
   },
   {
    "duration": 397,
    "start_time": "2023-01-23T08:59:39.777Z"
   },
   {
    "duration": 23,
    "start_time": "2023-01-23T08:59:41.086Z"
   },
   {
    "duration": 24,
    "start_time": "2023-01-23T08:59:41.501Z"
   },
   {
    "duration": 26,
    "start_time": "2023-01-23T08:59:42.269Z"
   },
   {
    "duration": 331,
    "start_time": "2023-01-23T08:59:42.735Z"
   },
   {
    "duration": 37,
    "start_time": "2023-01-23T08:59:43.165Z"
   },
   {
    "duration": 25,
    "start_time": "2023-01-23T08:59:43.726Z"
   },
   {
    "duration": 17,
    "start_time": "2023-01-23T08:59:44.181Z"
   },
   {
    "duration": 7,
    "start_time": "2023-01-23T08:59:44.909Z"
   },
   {
    "duration": 7,
    "start_time": "2023-01-23T08:59:45.316Z"
   },
   {
    "duration": 189,
    "start_time": "2023-01-23T08:59:47.062Z"
   },
   {
    "duration": 193,
    "start_time": "2023-01-23T08:59:47.855Z"
   },
   {
    "duration": 246,
    "start_time": "2023-01-23T08:59:48.749Z"
   },
   {
    "duration": 190,
    "start_time": "2023-01-23T08:59:49.557Z"
   },
   {
    "duration": 222,
    "start_time": "2023-01-23T08:59:50.422Z"
   },
   {
    "duration": 6,
    "start_time": "2023-01-23T08:59:51.358Z"
   },
   {
    "duration": 201,
    "start_time": "2023-01-23T08:59:51.836Z"
   },
   {
    "duration": 239,
    "start_time": "2023-01-23T08:59:52.638Z"
   },
   {
    "duration": 17,
    "start_time": "2023-01-23T08:59:53.431Z"
   },
   {
    "duration": 20,
    "start_time": "2023-01-23T08:59:54.958Z"
   },
   {
    "duration": 4,
    "start_time": "2023-01-23T08:59:55.674Z"
   },
   {
    "duration": 11,
    "start_time": "2023-01-23T08:59:56.428Z"
   },
   {
    "duration": 7,
    "start_time": "2023-01-23T08:59:56.801Z"
   },
   {
    "duration": 4,
    "start_time": "2023-01-23T08:59:57.510Z"
   },
   {
    "duration": 3,
    "start_time": "2023-01-23T08:59:57.829Z"
   },
   {
    "duration": 2477,
    "start_time": "2023-01-23T08:59:58.573Z"
   },
   {
    "duration": 29292,
    "start_time": "2023-01-23T09:00:01.052Z"
   },
   {
    "duration": 0,
    "start_time": "2023-01-23T09:02:25.504Z"
   },
   {
    "duration": 0,
    "start_time": "2023-01-23T09:02:25.505Z"
   },
   {
    "duration": 0,
    "start_time": "2023-01-23T09:02:25.507Z"
   },
   {
    "duration": 0,
    "start_time": "2023-01-23T09:02:25.509Z"
   },
   {
    "duration": 0,
    "start_time": "2023-01-23T09:05:38.673Z"
   },
   {
    "duration": 1502,
    "start_time": "2023-01-23T09:05:52.769Z"
   },
   {
    "duration": 297,
    "start_time": "2023-01-23T09:05:54.316Z"
   },
   {
    "duration": 107,
    "start_time": "2023-01-23T09:05:54.633Z"
   },
   {
    "duration": 404,
    "start_time": "2023-01-23T09:05:55.076Z"
   },
   {
    "duration": 6,
    "start_time": "2023-01-23T09:05:55.818Z"
   },
   {
    "duration": 168,
    "start_time": "2023-01-23T09:05:56.084Z"
   },
   {
    "duration": 73,
    "start_time": "2023-01-23T09:05:56.338Z"
   },
   {
    "duration": 153,
    "start_time": "2023-01-23T09:05:56.545Z"
   },
   {
    "duration": 32,
    "start_time": "2023-01-23T09:05:56.773Z"
   },
   {
    "duration": 8,
    "start_time": "2023-01-23T09:05:56.964Z"
   },
   {
    "duration": 49,
    "start_time": "2023-01-23T09:05:57.545Z"
   },
   {
    "duration": 20,
    "start_time": "2023-01-23T09:05:57.746Z"
   },
   {
    "duration": 18,
    "start_time": "2023-01-23T09:05:58.169Z"
   },
   {
    "duration": 20,
    "start_time": "2023-01-23T09:05:58.369Z"
   },
   {
    "duration": 311,
    "start_time": "2023-01-23T09:05:58.897Z"
   },
   {
    "duration": 30,
    "start_time": "2023-01-23T09:05:59.500Z"
   },
   {
    "duration": 33,
    "start_time": "2023-01-23T09:05:59.905Z"
   },
   {
    "duration": 28,
    "start_time": "2023-01-23T09:06:00.569Z"
   },
   {
    "duration": 335,
    "start_time": "2023-01-23T09:06:00.907Z"
   },
   {
    "duration": 35,
    "start_time": "2023-01-23T09:06:01.248Z"
   },
   {
    "duration": 16,
    "start_time": "2023-01-23T09:06:01.505Z"
   },
   {
    "duration": 17,
    "start_time": "2023-01-23T09:06:01.815Z"
   },
   {
    "duration": 6,
    "start_time": "2023-01-23T09:06:02.440Z"
   },
   {
    "duration": 6,
    "start_time": "2023-01-23T09:06:02.737Z"
   },
   {
    "duration": 207,
    "start_time": "2023-01-23T09:06:04.114Z"
   },
   {
    "duration": 315,
    "start_time": "2023-01-23T09:06:04.697Z"
   },
   {
    "duration": 265,
    "start_time": "2023-01-23T09:06:05.305Z"
   },
   {
    "duration": 229,
    "start_time": "2023-01-23T09:06:05.976Z"
   },
   {
    "duration": 251,
    "start_time": "2023-01-23T09:06:06.736Z"
   },
   {
    "duration": 8,
    "start_time": "2023-01-23T09:06:07.482Z"
   },
   {
    "duration": 249,
    "start_time": "2023-01-23T09:06:07.839Z"
   },
   {
    "duration": 217,
    "start_time": "2023-01-23T09:06:08.609Z"
   },
   {
    "duration": 24,
    "start_time": "2023-01-23T09:06:09.447Z"
   },
   {
    "duration": 16,
    "start_time": "2023-01-23T09:06:11.989Z"
   },
   {
    "duration": 4,
    "start_time": "2023-01-23T09:06:13.496Z"
   },
   {
    "duration": 15,
    "start_time": "2023-01-23T09:06:15.010Z"
   },
   {
    "duration": 3,
    "start_time": "2023-01-23T09:06:15.896Z"
   },
   {
    "duration": 4,
    "start_time": "2023-01-23T09:06:18.431Z"
   },
   {
    "duration": 3,
    "start_time": "2023-01-23T09:06:19.288Z"
   },
   {
    "duration": 2284,
    "start_time": "2023-01-23T09:06:20.664Z"
   },
   {
    "duration": 28895,
    "start_time": "2023-01-23T09:06:24.944Z"
   },
   {
    "duration": 275936,
    "start_time": "2023-01-23T09:07:46.530Z"
   },
   {
    "duration": 5,
    "start_time": "2023-01-23T09:13:37.702Z"
   },
   {
    "duration": 142,
    "start_time": "2023-01-23T09:13:38.636Z"
   },
   {
    "duration": 4,
    "start_time": "2023-01-23T09:14:23.355Z"
   },
   {
    "duration": 10,
    "start_time": "2023-01-23T09:14:23.857Z"
   },
   {
    "duration": 6,
    "start_time": "2023-01-23T09:16:23.654Z"
   },
   {
    "duration": 47,
    "start_time": "2023-01-23T09:16:24.298Z"
   },
   {
    "duration": 746,
    "start_time": "2023-01-23T09:16:27.404Z"
   },
   {
    "duration": 7177,
    "start_time": "2023-01-23T09:17:06.294Z"
   },
   {
    "duration": 7209,
    "start_time": "2023-01-23T09:17:50.551Z"
   },
   {
    "duration": 17,
    "start_time": "2023-01-23T09:18:28.391Z"
   },
   {
    "duration": 7531,
    "start_time": "2023-01-23T09:18:34.319Z"
   },
   {
    "duration": 1559,
    "start_time": "2023-01-24T08:44:43.981Z"
   },
   {
    "duration": 86,
    "start_time": "2023-01-24T08:46:33.349Z"
   },
   {
    "duration": 5,
    "start_time": "2023-01-24T08:46:49.975Z"
   },
   {
    "duration": 829,
    "start_time": "2023-01-24T08:46:52.038Z"
   },
   {
    "duration": 410,
    "start_time": "2023-01-24T08:46:52.869Z"
   },
   {
    "duration": 1837,
    "start_time": "2023-01-24T08:46:53.281Z"
   },
   {
    "duration": 4,
    "start_time": "2023-01-24T08:46:55.120Z"
   },
   {
    "duration": 157,
    "start_time": "2023-01-24T08:47:02.901Z"
   },
   {
    "duration": 170,
    "start_time": "2023-01-24T08:53:06.935Z"
   },
   {
    "duration": 45,
    "start_time": "2023-01-24T08:53:07.416Z"
   },
   {
    "duration": 109,
    "start_time": "2023-01-24T08:53:07.998Z"
   },
   {
    "duration": 24,
    "start_time": "2023-01-24T08:53:08.380Z"
   },
   {
    "duration": 7,
    "start_time": "2023-01-24T08:53:08.775Z"
   },
   {
    "duration": 30,
    "start_time": "2023-01-24T08:53:10.070Z"
   },
   {
    "duration": 8,
    "start_time": "2023-01-24T08:53:10.728Z"
   },
   {
    "duration": 15,
    "start_time": "2023-01-24T08:53:11.448Z"
   },
   {
    "duration": 19,
    "start_time": "2023-01-24T08:53:11.795Z"
   },
   {
    "duration": 313,
    "start_time": "2023-01-24T08:53:12.480Z"
   },
   {
    "duration": 23,
    "start_time": "2023-01-24T08:53:13.296Z"
   },
   {
    "duration": 20,
    "start_time": "2023-01-24T08:53:13.697Z"
   },
   {
    "duration": 18,
    "start_time": "2023-01-24T08:53:14.470Z"
   },
   {
    "duration": 336,
    "start_time": "2023-01-24T08:53:14.875Z"
   },
   {
    "duration": 24,
    "start_time": "2023-01-24T08:53:15.271Z"
   },
   {
    "duration": 13,
    "start_time": "2023-01-24T08:53:15.648Z"
   },
   {
    "duration": 15,
    "start_time": "2023-01-24T08:53:16.055Z"
   },
   {
    "duration": 7,
    "start_time": "2023-01-24T08:53:16.793Z"
   },
   {
    "duration": 5,
    "start_time": "2023-01-24T08:53:17.328Z"
   },
   {
    "duration": 182,
    "start_time": "2023-01-24T08:53:19.135Z"
   },
   {
    "duration": 245,
    "start_time": "2023-01-24T08:53:19.831Z"
   },
   {
    "duration": 195,
    "start_time": "2023-01-24T08:53:20.529Z"
   },
   {
    "duration": 176,
    "start_time": "2023-01-24T08:53:21.225Z"
   },
   {
    "duration": 181,
    "start_time": "2023-01-24T08:53:21.926Z"
   },
   {
    "duration": 6,
    "start_time": "2023-01-24T08:53:22.528Z"
   },
   {
    "duration": 184,
    "start_time": "2023-01-24T08:53:22.848Z"
   },
   {
    "duration": 183,
    "start_time": "2023-01-24T08:53:23.535Z"
   },
   {
    "duration": 17,
    "start_time": "2023-01-24T08:53:24.191Z"
   },
   {
    "duration": 12,
    "start_time": "2023-01-24T08:53:25.651Z"
   },
   {
    "duration": 3,
    "start_time": "2023-01-24T08:53:26.360Z"
   },
   {
    "duration": 13,
    "start_time": "2023-01-24T08:53:26.978Z"
   },
   {
    "duration": 2,
    "start_time": "2023-01-24T08:53:27.312Z"
   },
   {
    "duration": 4,
    "start_time": "2023-01-24T08:53:27.879Z"
   },
   {
    "duration": 3,
    "start_time": "2023-01-24T08:53:28.191Z"
   },
   {
    "duration": 2518,
    "start_time": "2023-01-24T08:53:28.759Z"
   },
   {
    "duration": 29272,
    "start_time": "2023-01-24T08:53:31.280Z"
   },
   {
    "duration": 47,
    "start_time": "2023-01-26T18:04:30.930Z"
   },
   {
    "duration": 1519,
    "start_time": "2023-01-27T17:59:01.233Z"
   },
   {
    "duration": 2018,
    "start_time": "2023-01-27T17:59:06.791Z"
   },
   {
    "duration": 2,
    "start_time": "2023-01-27T17:59:08.811Z"
   },
   {
    "duration": 240,
    "start_time": "2023-01-27T17:59:08.815Z"
   },
   {
    "duration": 208,
    "start_time": "2023-01-27T17:59:55.742Z"
   },
   {
    "duration": 3,
    "start_time": "2023-01-27T18:00:53.799Z"
   },
   {
    "duration": 219,
    "start_time": "2023-01-27T18:00:54.385Z"
   },
   {
    "duration": 2,
    "start_time": "2023-01-27T18:01:05.809Z"
   },
   {
    "duration": 208,
    "start_time": "2023-01-27T18:01:06.425Z"
   },
   {
    "duration": 604,
    "start_time": "2023-01-27T18:01:48.878Z"
   },
   {
    "duration": 3,
    "start_time": "2023-01-27T18:01:49.484Z"
   },
   {
    "duration": 256,
    "start_time": "2023-01-27T18:01:50.000Z"
   },
   {
    "duration": 3,
    "start_time": "2023-01-27T18:02:22.303Z"
   },
   {
    "duration": 578,
    "start_time": "2023-01-27T18:02:27.741Z"
   },
   {
    "duration": 6,
    "start_time": "2023-01-27T18:02:28.321Z"
   },
   {
    "duration": 620,
    "start_time": "2023-01-27T18:02:36.072Z"
   },
   {
    "duration": 2,
    "start_time": "2023-01-27T18:02:36.892Z"
   },
   {
    "duration": 276,
    "start_time": "2023-01-27T18:02:38.172Z"
   },
   {
    "duration": 159,
    "start_time": "2023-01-27T18:03:32.941Z"
   },
   {
    "duration": 325,
    "start_time": "2023-01-27T18:03:34.105Z"
   },
   {
    "duration": 24,
    "start_time": "2023-01-27T18:04:23.900Z"
   },
   {
    "duration": 10,
    "start_time": "2023-01-27T18:04:24.926Z"
   },
   {
    "duration": 6,
    "start_time": "2023-01-27T18:15:07.705Z"
   },
   {
    "duration": 7,
    "start_time": "2023-01-27T18:17:48.852Z"
   },
   {
    "duration": 6,
    "start_time": "2023-01-27T18:18:03.238Z"
   },
   {
    "duration": 6,
    "start_time": "2023-01-27T18:18:46.566Z"
   },
   {
    "duration": 668,
    "start_time": "2023-01-27T18:19:29.196Z"
   },
   {
    "duration": 4,
    "start_time": "2023-01-27T18:19:30.374Z"
   },
   {
    "duration": 253,
    "start_time": "2023-01-27T18:19:31.169Z"
   },
   {
    "duration": 153,
    "start_time": "2023-01-27T18:19:32.456Z"
   },
   {
    "duration": 263,
    "start_time": "2023-01-27T18:19:33.206Z"
   },
   {
    "duration": 21,
    "start_time": "2023-01-27T18:19:33.862Z"
   },
   {
    "duration": 7,
    "start_time": "2023-01-27T18:20:29.100Z"
   },
   {
    "duration": 156,
    "start_time": "2023-01-27T18:20:39.904Z"
   },
   {
    "duration": 372,
    "start_time": "2023-01-27T18:20:40.294Z"
   },
   {
    "duration": 6,
    "start_time": "2023-01-27T18:20:41.572Z"
   },
   {
    "duration": 26,
    "start_time": "2023-01-27T18:20:44.376Z"
   },
   {
    "duration": 8,
    "start_time": "2023-01-27T18:20:46.674Z"
   },
   {
    "duration": 4,
    "start_time": "2023-01-27T18:24:41.698Z"
   },
   {
    "duration": 617,
    "start_time": "2023-01-27T18:24:45.410Z"
   },
   {
    "duration": 3,
    "start_time": "2023-01-27T18:24:46.029Z"
   },
   {
    "duration": 265,
    "start_time": "2023-01-27T18:24:46.163Z"
   },
   {
    "duration": 154,
    "start_time": "2023-01-27T18:24:46.627Z"
   },
   {
    "duration": 285,
    "start_time": "2023-01-27T18:24:46.947Z"
   },
   {
    "duration": 6,
    "start_time": "2023-01-27T18:24:48.329Z"
   },
   {
    "duration": 32,
    "start_time": "2023-01-27T18:24:50.466Z"
   },
   {
    "duration": 17,
    "start_time": "2023-01-27T18:24:52.242Z"
   },
   {
    "duration": 17,
    "start_time": "2023-01-27T18:24:53.065Z"
   },
   {
    "duration": 290,
    "start_time": "2023-01-27T18:24:54.187Z"
   },
   {
    "duration": 22,
    "start_time": "2023-01-27T18:24:55.554Z"
   },
   {
    "duration": 24,
    "start_time": "2023-01-27T18:24:56.938Z"
   },
   {
    "duration": 16,
    "start_time": "2023-01-27T18:24:58.335Z"
   },
   {
    "duration": 277,
    "start_time": "2023-01-27T18:24:59.145Z"
   },
   {
    "duration": 24,
    "start_time": "2023-01-27T18:24:59.718Z"
   },
   {
    "duration": 20,
    "start_time": "2023-01-27T18:25:00.474Z"
   },
   {
    "duration": 16,
    "start_time": "2023-01-27T18:25:01.107Z"
   },
   {
    "duration": 7,
    "start_time": "2023-01-27T18:25:02.284Z"
   },
   {
    "duration": 5,
    "start_time": "2023-01-27T18:25:02.897Z"
   },
   {
    "duration": 183,
    "start_time": "2023-01-27T18:25:05.362Z"
   },
   {
    "duration": 213,
    "start_time": "2023-01-27T18:25:06.234Z"
   },
   {
    "duration": 219,
    "start_time": "2023-01-27T18:25:06.914Z"
   },
   {
    "duration": 178,
    "start_time": "2023-01-27T18:25:07.793Z"
   },
   {
    "duration": 196,
    "start_time": "2023-01-27T18:25:08.665Z"
   },
   {
    "duration": 6,
    "start_time": "2023-01-27T18:25:09.393Z"
   },
   {
    "duration": 274,
    "start_time": "2023-01-27T18:25:09.778Z"
   },
   {
    "duration": 202,
    "start_time": "2023-01-27T18:25:10.684Z"
   },
   {
    "duration": 14,
    "start_time": "2023-01-27T18:25:11.540Z"
   },
   {
    "duration": 6,
    "start_time": "2023-01-27T18:25:13.554Z"
   },
   {
    "duration": 14,
    "start_time": "2023-01-27T18:25:14.332Z"
   },
   {
    "duration": 3,
    "start_time": "2023-01-27T18:25:15.577Z"
   },
   {
    "duration": 12,
    "start_time": "2023-01-27T18:25:17.234Z"
   },
   {
    "duration": 3,
    "start_time": "2023-01-27T18:25:17.841Z"
   },
   {
    "duration": 3,
    "start_time": "2023-01-27T18:25:18.890Z"
   },
   {
    "duration": 3,
    "start_time": "2023-01-27T18:25:25.801Z"
   },
   {
    "duration": 2099,
    "start_time": "2023-01-27T18:25:30.033Z"
   },
   {
    "duration": 25855,
    "start_time": "2023-01-27T18:25:55.393Z"
   },
   {
    "duration": 258810,
    "start_time": "2023-01-27T18:26:21.250Z"
   },
   {
    "duration": 637,
    "start_time": "2023-01-27T18:39:36.101Z"
   },
   {
    "duration": 2,
    "start_time": "2023-01-27T18:39:36.740Z"
   },
   {
    "duration": 1745,
    "start_time": "2023-01-28T18:25:23.458Z"
   },
   {
    "duration": 2419,
    "start_time": "2023-01-28T18:25:30.258Z"
   },
   {
    "duration": 4,
    "start_time": "2023-01-28T18:25:32.678Z"
   },
   {
    "duration": 4,
    "start_time": "2023-01-28T18:25:42.638Z"
   },
   {
    "duration": 403,
    "start_time": "2023-01-28T18:26:07.916Z"
   },
   {
    "duration": 219,
    "start_time": "2023-01-28T18:26:08.620Z"
   },
   {
    "duration": 374,
    "start_time": "2023-01-28T18:26:09.789Z"
   },
   {
    "duration": 9,
    "start_time": "2023-01-28T18:26:19.795Z"
   },
   {
    "duration": 38,
    "start_time": "2023-01-28T18:32:32.477Z"
   },
   {
    "duration": 81,
    "start_time": "2023-01-28T18:35:02.630Z"
   },
   {
    "duration": 24,
    "start_time": "2023-01-28T18:47:04.818Z"
   },
   {
    "duration": 34,
    "start_time": "2023-01-28T18:49:05.206Z"
   },
   {
    "duration": 17,
    "start_time": "2023-01-28T18:49:10.902Z"
   },
   {
    "duration": 115,
    "start_time": "2023-01-28T18:50:49.665Z"
   },
   {
    "duration": 13,
    "start_time": "2023-01-28T18:51:22.891Z"
   },
   {
    "duration": 11,
    "start_time": "2023-01-28T18:51:53.170Z"
   },
   {
    "duration": 36,
    "start_time": "2023-01-28T18:52:10.155Z"
   },
   {
    "duration": 12,
    "start_time": "2023-01-28T18:54:27.594Z"
   },
   {
    "duration": 9,
    "start_time": "2023-01-28T18:54:41.461Z"
   },
   {
    "duration": 9,
    "start_time": "2023-01-28T18:54:51.257Z"
   },
   {
    "duration": 11,
    "start_time": "2023-01-28T18:55:00.610Z"
   },
   {
    "duration": 847,
    "start_time": "2023-01-28T18:57:36.357Z"
   },
   {
    "duration": 35,
    "start_time": "2023-01-28T18:57:48.758Z"
   },
   {
    "duration": 779,
    "start_time": "2023-01-28T18:57:53.184Z"
   },
   {
    "duration": 28,
    "start_time": "2023-01-28T18:58:34.088Z"
   },
   {
    "duration": 737,
    "start_time": "2023-01-28T18:58:48.472Z"
   },
   {
    "duration": 46,
    "start_time": "2023-01-28T19:01:16.630Z"
   },
   {
    "duration": 34,
    "start_time": "2023-01-28T19:01:28.566Z"
   },
   {
    "duration": 36,
    "start_time": "2023-01-28T19:01:46.613Z"
   },
   {
    "duration": 40,
    "start_time": "2023-01-28T19:07:52.241Z"
   },
   {
    "duration": 55,
    "start_time": "2023-01-28T19:09:35.694Z"
   },
   {
    "duration": 54,
    "start_time": "2023-01-28T19:24:47.110Z"
   },
   {
    "duration": 1473,
    "start_time": "2023-01-28T19:25:27.533Z"
   },
   {
    "duration": 737,
    "start_time": "2023-01-28T19:25:30.951Z"
   },
   {
    "duration": 3,
    "start_time": "2023-01-28T19:25:31.691Z"
   },
   {
    "duration": 285,
    "start_time": "2023-01-28T19:25:34.737Z"
   },
   {
    "duration": 166,
    "start_time": "2023-01-28T19:25:35.663Z"
   },
   {
    "duration": 308,
    "start_time": "2023-01-28T19:25:36.247Z"
   },
   {
    "duration": 9,
    "start_time": "2023-01-28T19:25:39.916Z"
   },
   {
    "duration": 33,
    "start_time": "2023-01-28T19:25:47.424Z"
   },
   {
    "duration": 30,
    "start_time": "2023-01-28T19:26:06.923Z"
   },
   {
    "duration": 17,
    "start_time": "2023-01-28T19:26:28.177Z"
   },
   {
    "duration": 19,
    "start_time": "2023-01-28T19:26:30.930Z"
   },
   {
    "duration": 324,
    "start_time": "2023-01-28T19:26:35.737Z"
   },
   {
    "duration": 32,
    "start_time": "2023-01-28T19:26:38.118Z"
   },
   {
    "duration": 34,
    "start_time": "2023-01-28T19:26:38.942Z"
   },
   {
    "duration": 20,
    "start_time": "2023-01-28T19:26:40.588Z"
   },
   {
    "duration": 287,
    "start_time": "2023-01-28T19:26:41.253Z"
   },
   {
    "duration": 23,
    "start_time": "2023-01-28T19:26:41.710Z"
   },
   {
    "duration": 18,
    "start_time": "2023-01-28T19:26:42.253Z"
   },
   {
    "duration": 108,
    "start_time": "2023-01-28T19:26:42.886Z"
   },
   {
    "duration": 7,
    "start_time": "2023-01-28T19:26:44.845Z"
   },
   {
    "duration": 6,
    "start_time": "2023-01-28T19:26:45.364Z"
   },
   {
    "duration": 1530,
    "start_time": "2023-01-28T19:28:17.605Z"
   },
   {
    "duration": 764,
    "start_time": "2023-01-28T19:28:24.577Z"
   },
   {
    "duration": 4,
    "start_time": "2023-01-28T19:28:25.659Z"
   },
   {
    "duration": 271,
    "start_time": "2023-01-28T19:28:27.779Z"
   },
   {
    "duration": 203,
    "start_time": "2023-01-28T19:28:28.369Z"
   },
   {
    "duration": 377,
    "start_time": "2023-01-28T19:28:28.874Z"
   },
   {
    "duration": 8,
    "start_time": "2023-01-28T19:28:29.905Z"
   },
   {
    "duration": 31,
    "start_time": "2023-01-28T19:28:33.270Z"
   },
   {
    "duration": 18,
    "start_time": "2023-01-28T19:28:38.662Z"
   },
   {
    "duration": 29,
    "start_time": "2023-01-28T19:28:39.433Z"
   },
   {
    "duration": 46,
    "start_time": "2023-01-29T18:52:24.242Z"
   },
   {
    "duration": 1393,
    "start_time": "2023-01-29T18:52:32.505Z"
   },
   {
    "duration": 3063,
    "start_time": "2023-01-29T18:52:37.073Z"
   },
   {
    "duration": 3,
    "start_time": "2023-01-29T18:52:40.138Z"
   },
   {
    "duration": 8,
    "start_time": "2023-01-29T18:52:48.634Z"
   },
   {
    "duration": 25,
    "start_time": "2023-01-29T18:52:53.932Z"
   },
   {
    "duration": 10,
    "start_time": "2023-01-29T18:52:58.976Z"
   },
   {
    "duration": 9,
    "start_time": "2023-01-29T18:53:06.510Z"
   },
   {
    "duration": 7,
    "start_time": "2023-01-29T18:53:25.953Z"
   },
   {
    "duration": 66,
    "start_time": "2023-01-29T18:54:18.249Z"
   },
   {
    "duration": 7,
    "start_time": "2023-01-29T18:54:51.517Z"
   },
   {
    "duration": 16,
    "start_time": "2023-01-29T18:55:27.726Z"
   },
   {
    "duration": 17,
    "start_time": "2023-01-29T18:55:45.551Z"
   },
   {
    "duration": 14,
    "start_time": "2023-01-29T18:55:55.609Z"
   },
   {
    "duration": 8,
    "start_time": "2023-01-29T18:56:49.894Z"
   },
   {
    "duration": 8,
    "start_time": "2023-01-29T18:56:52.905Z"
   },
   {
    "duration": 8,
    "start_time": "2023-01-29T18:56:59.071Z"
   },
   {
    "duration": 7,
    "start_time": "2023-01-29T19:06:18.201Z"
   },
   {
    "duration": 1827,
    "start_time": "2023-01-30T19:56:16.927Z"
   },
   {
    "duration": 2499,
    "start_time": "2023-01-30T19:56:22.519Z"
   },
   {
    "duration": 3,
    "start_time": "2023-01-30T19:56:25.020Z"
   },
   {
    "duration": 322,
    "start_time": "2023-01-30T19:56:25.025Z"
   },
   {
    "duration": 181,
    "start_time": "2023-01-30T19:56:25.715Z"
   },
   {
    "duration": 334,
    "start_time": "2023-01-30T19:56:26.719Z"
   },
   {
    "duration": 8,
    "start_time": "2023-01-30T19:56:29.220Z"
   },
   {
    "duration": 32,
    "start_time": "2023-01-30T19:56:45.532Z"
   },
   {
    "duration": 9,
    "start_time": "2023-01-30T19:56:51.124Z"
   },
   {
    "duration": 16,
    "start_time": "2023-01-30T19:56:53.937Z"
   },
   {
    "duration": 341,
    "start_time": "2023-01-30T19:56:55.468Z"
   },
   {
    "duration": 22,
    "start_time": "2023-01-30T19:56:57.342Z"
   },
   {
    "duration": 23,
    "start_time": "2023-01-30T19:56:57.844Z"
   },
   {
    "duration": 21,
    "start_time": "2023-01-30T19:57:01.637Z"
   },
   {
    "duration": 6,
    "start_time": "2023-01-30T20:21:57.661Z"
   },
   {
    "duration": 12,
    "start_time": "2023-01-30T20:23:11.667Z"
   },
   {
    "duration": 21,
    "start_time": "2023-01-30T20:24:04.770Z"
   },
   {
    "duration": 14,
    "start_time": "2023-01-30T20:24:09.578Z"
   },
   {
    "duration": 12,
    "start_time": "2023-01-30T20:24:55.784Z"
   },
   {
    "duration": 65,
    "start_time": "2023-01-30T20:25:23.581Z"
   },
   {
    "duration": 46,
    "start_time": "2023-01-31T00:18:41.042Z"
   },
   {
    "duration": 1535,
    "start_time": "2023-01-31T00:19:38.068Z"
   },
   {
    "duration": 74,
    "start_time": "2023-01-31T00:19:42.954Z"
   },
   {
    "duration": 11,
    "start_time": "2023-01-31T00:19:57.669Z"
   },
   {
    "duration": 22,
    "start_time": "2023-01-31T00:20:24.733Z"
   },
   {
    "duration": 5,
    "start_time": "2023-01-31T00:20:50.355Z"
   },
   {
    "duration": 3203,
    "start_time": "2023-01-31T00:20:54.797Z"
   },
   {
    "duration": 3,
    "start_time": "2023-01-31T00:20:58.002Z"
   },
   {
    "duration": 10,
    "start_time": "2023-01-31T00:21:07.182Z"
   },
   {
    "duration": 28,
    "start_time": "2023-01-31T00:21:11.436Z"
   },
   {
    "duration": 8,
    "start_time": "2023-01-31T00:21:17.075Z"
   },
   {
    "duration": 16,
    "start_time": "2023-01-31T00:21:19.508Z"
   },
   {
    "duration": 17,
    "start_time": "2023-01-31T00:21:26.461Z"
   },
   {
    "duration": 334,
    "start_time": "2023-01-31T00:26:44.983Z"
   },
   {
    "duration": 427,
    "start_time": "2023-01-31T00:28:33.454Z"
   },
   {
    "duration": 13,
    "start_time": "2023-01-31T00:36:23.816Z"
   },
   {
    "duration": 3660,
    "start_time": "2023-01-31T00:37:54.227Z"
   },
   {
    "duration": 3583,
    "start_time": "2023-01-31T00:39:23.537Z"
   },
   {
    "duration": 3521,
    "start_time": "2023-01-31T00:40:09.479Z"
   },
   {
    "duration": 2099,
    "start_time": "2023-01-31T00:40:32.088Z"
   },
   {
    "duration": 2271,
    "start_time": "2023-01-31T00:43:17.828Z"
   },
   {
    "duration": 350,
    "start_time": "2023-01-31T00:44:15.828Z"
   },
   {
    "duration": 300,
    "start_time": "2023-01-31T00:44:50.280Z"
   },
   {
    "duration": 2108,
    "start_time": "2023-01-31T00:45:14.514Z"
   },
   {
    "duration": 2054,
    "start_time": "2023-01-31T00:45:22.620Z"
   },
   {
    "duration": 3147,
    "start_time": "2023-01-31T00:45:58.739Z"
   },
   {
    "duration": 2128,
    "start_time": "2023-01-31T00:46:19.154Z"
   },
   {
    "duration": 15,
    "start_time": "2023-01-31T00:48:18.466Z"
   },
   {
    "duration": 2096,
    "start_time": "2023-01-31T00:48:51.489Z"
   },
   {
    "duration": 2061,
    "start_time": "2023-01-31T00:49:10.307Z"
   },
   {
    "duration": 17,
    "start_time": "2023-01-31T00:49:42.538Z"
   },
   {
    "duration": 2213,
    "start_time": "2023-01-31T00:49:59.961Z"
   },
   {
    "duration": 2218,
    "start_time": "2023-01-31T00:52:26.961Z"
   },
   {
    "duration": 2073,
    "start_time": "2023-01-31T00:52:47.694Z"
   },
   {
    "duration": 2200,
    "start_time": "2023-01-31T00:55:04.574Z"
   },
   {
    "duration": 2178,
    "start_time": "2023-01-31T00:55:31.893Z"
   },
   {
    "duration": 14,
    "start_time": "2023-01-31T00:56:46.964Z"
   },
   {
    "duration": 12,
    "start_time": "2023-01-31T00:58:08.226Z"
   },
   {
    "duration": 1197,
    "start_time": "2023-01-31T00:58:29.577Z"
   },
   {
    "duration": 1121,
    "start_time": "2023-01-31T00:59:06.472Z"
   },
   {
    "duration": 1409,
    "start_time": "2023-01-31T01:06:05.079Z"
   },
   {
    "duration": 696,
    "start_time": "2023-01-31T01:06:11.077Z"
   },
   {
    "duration": 3,
    "start_time": "2023-01-31T01:06:11.775Z"
   },
   {
    "duration": 268,
    "start_time": "2023-01-31T01:06:13.606Z"
   },
   {
    "duration": 139,
    "start_time": "2023-01-31T01:06:14.166Z"
   },
   {
    "duration": 267,
    "start_time": "2023-01-31T01:06:14.382Z"
   },
   {
    "duration": 8,
    "start_time": "2023-01-31T01:06:14.794Z"
   },
   {
    "duration": 26,
    "start_time": "2023-01-31T01:06:17.461Z"
   },
   {
    "duration": 8,
    "start_time": "2023-01-31T01:06:19.227Z"
   },
   {
    "duration": 14,
    "start_time": "2023-01-31T01:06:20.684Z"
   },
   {
    "duration": 4,
    "start_time": "2023-01-31T01:06:21.901Z"
   },
   {
    "duration": 120,
    "start_time": "2023-01-31T01:06:23.876Z"
   },
   {
    "duration": 2173,
    "start_time": "2023-01-31T01:07:02.706Z"
   },
   {
    "duration": 17,
    "start_time": "2023-01-31T01:07:50.357Z"
   },
   {
    "duration": 1263,
    "start_time": "2023-01-31T01:11:03.306Z"
   },
   {
    "duration": 716,
    "start_time": "2023-01-31T01:11:07.687Z"
   },
   {
    "duration": 4,
    "start_time": "2023-01-31T01:11:08.404Z"
   },
   {
    "duration": 29,
    "start_time": "2023-01-31T01:11:15.027Z"
   },
   {
    "duration": 20,
    "start_time": "2023-01-31T01:11:19.931Z"
   },
   {
    "duration": 70,
    "start_time": "2023-01-31T01:11:24.036Z"
   },
   {
    "duration": 2127,
    "start_time": "2023-01-31T01:11:31.149Z"
   },
   {
    "duration": 112,
    "start_time": "2023-01-31T01:12:37.801Z"
   },
   {
    "duration": 17,
    "start_time": "2023-01-31T01:13:13.780Z"
   },
   {
    "duration": 2198,
    "start_time": "2023-01-31T01:13:32.095Z"
   },
   {
    "duration": 2092,
    "start_time": "2023-01-31T01:13:50.585Z"
   },
   {
    "duration": 2223,
    "start_time": "2023-01-31T01:13:55.353Z"
   },
   {
    "duration": 2135,
    "start_time": "2023-01-31T01:14:31.940Z"
   },
   {
    "duration": 18,
    "start_time": "2023-01-31T01:14:43.083Z"
   },
   {
    "duration": 22,
    "start_time": "2023-01-31T01:14:57.054Z"
   },
   {
    "duration": 2343,
    "start_time": "2023-01-31T01:15:04.529Z"
   },
   {
    "duration": 2260,
    "start_time": "2023-01-31T01:17:39.351Z"
   },
   {
    "duration": 2116,
    "start_time": "2023-01-31T01:17:46.281Z"
   },
   {
    "duration": 40,
    "start_time": "2023-01-31T01:24:14.782Z"
   },
   {
    "duration": 30,
    "start_time": "2023-01-31T01:24:29.419Z"
   },
   {
    "duration": 13,
    "start_time": "2023-01-31T01:24:43.499Z"
   },
   {
    "duration": 12,
    "start_time": "2023-01-31T01:24:46.802Z"
   },
   {
    "duration": 11,
    "start_time": "2023-01-31T01:24:50.148Z"
   },
   {
    "duration": 2105,
    "start_time": "2023-01-31T01:29:05.900Z"
   },
   {
    "duration": 487,
    "start_time": "2023-01-31T01:31:27.199Z"
   },
   {
    "duration": 419,
    "start_time": "2023-01-31T01:32:05.544Z"
   },
   {
    "duration": 460,
    "start_time": "2023-01-31T01:35:15.990Z"
   },
   {
    "duration": 2161,
    "start_time": "2023-01-31T01:35:54.833Z"
   },
   {
    "duration": 22,
    "start_time": "2023-01-31T01:40:02.618Z"
   },
   {
    "duration": 29,
    "start_time": "2023-01-31T01:40:30.080Z"
   },
   {
    "duration": 30,
    "start_time": "2023-01-31T01:41:02.927Z"
   },
   {
    "duration": 21,
    "start_time": "2023-01-31T01:41:50.990Z"
   },
   {
    "duration": 20,
    "start_time": "2023-01-31T01:42:41.883Z"
   },
   {
    "duration": 2185,
    "start_time": "2023-01-31T01:43:23.000Z"
   },
   {
    "duration": 20,
    "start_time": "2023-01-31T01:43:55.293Z"
   },
   {
    "duration": 19,
    "start_time": "2023-01-31T01:44:33.390Z"
   },
   {
    "duration": 2163,
    "start_time": "2023-01-31T01:44:40.727Z"
   },
   {
    "duration": 2236,
    "start_time": "2023-01-31T01:44:56.960Z"
   },
   {
    "duration": 2110,
    "start_time": "2023-01-31T01:46:43.979Z"
   },
   {
    "duration": 2231,
    "start_time": "2023-01-31T01:46:57.565Z"
   },
   {
    "duration": 2195,
    "start_time": "2023-01-31T01:47:03.397Z"
   },
   {
    "duration": 14,
    "start_time": "2023-01-31T01:54:00.871Z"
   },
   {
    "duration": 14,
    "start_time": "2023-01-31T01:54:32.760Z"
   },
   {
    "duration": 11,
    "start_time": "2023-01-31T01:56:49.061Z"
   },
   {
    "duration": 7,
    "start_time": "2023-01-31T01:57:45.932Z"
   },
   {
    "duration": 10,
    "start_time": "2023-01-31T01:57:57.639Z"
   },
   {
    "duration": 2454,
    "start_time": "2023-01-31T01:58:28.965Z"
   },
   {
    "duration": 5,
    "start_time": "2023-01-31T01:58:56.691Z"
   },
   {
    "duration": 2125,
    "start_time": "2023-01-31T01:59:00.291Z"
   },
   {
    "duration": 2218,
    "start_time": "2023-01-31T01:59:04.434Z"
   },
   {
    "duration": 4,
    "start_time": "2023-01-31T01:59:11.782Z"
   },
   {
    "duration": 661,
    "start_time": "2023-01-31T01:59:24.353Z"
   },
   {
    "duration": 3,
    "start_time": "2023-01-31T01:59:25.017Z"
   },
   {
    "duration": 133,
    "start_time": "2023-01-31T01:59:30.362Z"
   },
   {
    "duration": 19,
    "start_time": "2023-01-31T01:59:36.356Z"
   },
   {
    "duration": 2459,
    "start_time": "2023-01-31T01:59:38.676Z"
   },
   {
    "duration": 2158,
    "start_time": "2023-01-31T01:59:53.558Z"
   },
   {
    "duration": 2276,
    "start_time": "2023-01-31T02:00:07.858Z"
   },
   {
    "duration": 5,
    "start_time": "2023-01-31T02:04:23.382Z"
   },
   {
    "duration": 21,
    "start_time": "2023-01-31T02:04:41.461Z"
   },
   {
    "duration": 21,
    "start_time": "2023-01-31T02:05:07.019Z"
   },
   {
    "duration": 4,
    "start_time": "2023-01-31T02:05:24.656Z"
   },
   {
    "duration": 21,
    "start_time": "2023-01-31T02:05:33.314Z"
   },
   {
    "duration": 3,
    "start_time": "2023-01-31T02:07:03.318Z"
   },
   {
    "duration": 2372,
    "start_time": "2023-01-31T02:07:51.568Z"
   },
   {
    "duration": 5,
    "start_time": "2023-01-31T02:08:14.181Z"
   },
   {
    "duration": 20,
    "start_time": "2023-01-31T02:08:25.589Z"
   },
   {
    "duration": 14,
    "start_time": "2023-01-31T02:08:43.524Z"
   },
   {
    "duration": 21,
    "start_time": "2023-01-31T02:09:17.651Z"
   },
   {
    "duration": 21,
    "start_time": "2023-01-31T02:09:47.207Z"
   },
   {
    "duration": 14,
    "start_time": "2023-01-31T02:10:09.791Z"
   },
   {
    "duration": 107,
    "start_time": "2023-01-31T02:10:34.796Z"
   },
   {
    "duration": 26,
    "start_time": "2023-01-31T02:11:22.817Z"
   },
   {
    "duration": 6,
    "start_time": "2023-01-31T02:12:06.377Z"
   },
   {
    "duration": 26,
    "start_time": "2023-01-31T02:12:13.369Z"
   },
   {
    "duration": 515,
    "start_time": "2023-01-31T02:12:49.099Z"
   },
   {
    "duration": 22,
    "start_time": "2023-01-31T02:13:02.090Z"
   },
   {
    "duration": 22,
    "start_time": "2023-01-31T02:14:30.769Z"
   },
   {
    "duration": 2517,
    "start_time": "2023-01-31T02:14:47.338Z"
   },
   {
    "duration": 21,
    "start_time": "2023-01-31T02:15:18.252Z"
   },
   {
    "duration": 2416,
    "start_time": "2023-01-31T02:18:45.351Z"
   },
   {
    "duration": 5,
    "start_time": "2023-01-31T02:19:05.357Z"
   },
   {
    "duration": 2465,
    "start_time": "2023-01-31T02:19:29.793Z"
   },
   {
    "duration": 2445,
    "start_time": "2023-01-31T02:20:22.008Z"
   },
   {
    "duration": 2371,
    "start_time": "2023-01-31T02:20:32.485Z"
   },
   {
    "duration": 2359,
    "start_time": "2023-01-31T02:20:45.697Z"
   },
   {
    "duration": 17,
    "start_time": "2023-01-31T02:23:53.321Z"
   },
   {
    "duration": 17,
    "start_time": "2023-01-31T02:24:14.745Z"
   },
   {
    "duration": 2523,
    "start_time": "2023-01-31T02:25:01.546Z"
   },
   {
    "duration": 2345,
    "start_time": "2023-01-31T02:25:27.410Z"
   },
   {
    "duration": 2529,
    "start_time": "2023-01-31T02:27:31.225Z"
   },
   {
    "duration": 1296,
    "start_time": "2023-01-31T02:28:03.744Z"
   },
   {
    "duration": 17,
    "start_time": "2023-01-31T02:28:14.269Z"
   },
   {
    "duration": 25,
    "start_time": "2023-01-31T02:28:25.223Z"
   },
   {
    "duration": 2391,
    "start_time": "2023-01-31T02:28:43.772Z"
   },
   {
    "duration": 2527,
    "start_time": "2023-01-31T02:30:15.071Z"
   },
   {
    "duration": 2458,
    "start_time": "2023-01-31T02:30:45.924Z"
   },
   {
    "duration": 2624,
    "start_time": "2023-01-31T02:31:35.155Z"
   },
   {
    "duration": 15,
    "start_time": "2023-01-31T02:33:15.649Z"
   },
   {
    "duration": 24,
    "start_time": "2023-01-31T02:33:50.228Z"
   },
   {
    "duration": 2550,
    "start_time": "2023-01-31T02:34:12.524Z"
   },
   {
    "duration": 412,
    "start_time": "2023-01-31T02:35:17.931Z"
   },
   {
    "duration": 423,
    "start_time": "2023-01-31T02:36:35.960Z"
   },
   {
    "duration": 2440,
    "start_time": "2023-01-31T02:36:42.232Z"
   },
   {
    "duration": 412,
    "start_time": "2023-01-31T02:40:05.229Z"
   },
   {
    "duration": 379,
    "start_time": "2023-01-31T02:42:23.222Z"
   },
   {
    "duration": 367,
    "start_time": "2023-01-31T02:42:59.116Z"
   },
   {
    "duration": 372,
    "start_time": "2023-01-31T02:43:09.669Z"
   },
   {
    "duration": 2486,
    "start_time": "2023-01-31T02:43:31.589Z"
   },
   {
    "duration": 2403,
    "start_time": "2023-01-31T02:44:30.556Z"
   },
   {
    "duration": 350,
    "start_time": "2023-01-31T02:49:14.416Z"
   },
   {
    "duration": 361,
    "start_time": "2023-01-31T02:51:09.496Z"
   },
   {
    "duration": 2399,
    "start_time": "2023-01-31T02:51:24.350Z"
   },
   {
    "duration": 83,
    "start_time": "2023-01-31T02:54:10.013Z"
   },
   {
    "duration": 360,
    "start_time": "2023-01-31T03:05:33.378Z"
   },
   {
    "duration": 372,
    "start_time": "2023-01-31T03:05:54.582Z"
   },
   {
    "duration": 2506,
    "start_time": "2023-01-31T03:06:39.452Z"
   },
   {
    "duration": 180,
    "start_time": "2023-01-31T03:14:30.451Z"
   },
   {
    "duration": 797,
    "start_time": "2023-01-31T03:15:07.672Z"
   },
   {
    "duration": 838,
    "start_time": "2023-01-31T03:15:38.711Z"
   },
   {
    "duration": 838,
    "start_time": "2023-01-31T03:16:51.200Z"
   },
   {
    "duration": 739,
    "start_time": "2023-01-31T03:17:03.024Z"
   },
   {
    "duration": 1015,
    "start_time": "2023-01-31T03:17:19.944Z"
   },
   {
    "duration": 208,
    "start_time": "2023-01-31T03:18:10.040Z"
   },
   {
    "duration": 1122,
    "start_time": "2023-01-31T03:18:51.383Z"
   },
   {
    "duration": 821,
    "start_time": "2023-01-31T03:19:05.055Z"
   },
   {
    "duration": 1066,
    "start_time": "2023-01-31T03:19:25.524Z"
   },
   {
    "duration": 1067,
    "start_time": "2023-01-31T03:21:58.229Z"
   },
   {
    "duration": 856,
    "start_time": "2023-01-31T03:22:09.867Z"
   },
   {
    "duration": 901,
    "start_time": "2023-01-31T03:22:55.429Z"
   },
   {
    "duration": 2393,
    "start_time": "2023-01-31T03:23:25.266Z"
   },
   {
    "duration": 776,
    "start_time": "2023-01-31T03:23:37.699Z"
   },
   {
    "duration": 966,
    "start_time": "2023-01-31T03:23:46.201Z"
   },
   {
    "duration": 852,
    "start_time": "2023-01-31T03:23:57.617Z"
   },
   {
    "duration": 862,
    "start_time": "2023-01-31T03:24:48.415Z"
   },
   {
    "duration": 915,
    "start_time": "2023-01-31T03:27:00.956Z"
   },
   {
    "duration": 917,
    "start_time": "2023-01-31T03:30:57.385Z"
   },
   {
    "duration": 801,
    "start_time": "2023-01-31T03:31:38.429Z"
   },
   {
    "duration": 729,
    "start_time": "2023-01-31T03:35:51.940Z"
   },
   {
    "duration": 91,
    "start_time": "2023-01-31T03:38:21.808Z"
   },
   {
    "duration": 1004,
    "start_time": "2023-01-31T03:38:28.800Z"
   },
   {
    "duration": 860,
    "start_time": "2023-01-31T03:38:43.229Z"
   },
   {
    "duration": 737,
    "start_time": "2023-01-31T03:38:50.153Z"
   },
   {
    "duration": 826,
    "start_time": "2023-01-31T03:40:26.501Z"
   },
   {
    "duration": 816,
    "start_time": "2023-01-31T03:44:45.404Z"
   },
   {
    "duration": 865,
    "start_time": "2023-01-31T03:45:18.020Z"
   },
   {
    "duration": 9,
    "start_time": "2023-01-31T04:01:02.942Z"
   },
   {
    "duration": 7,
    "start_time": "2023-01-31T04:01:06.455Z"
   },
   {
    "duration": 5,
    "start_time": "2023-01-31T04:01:07.279Z"
   },
   {
    "duration": 9,
    "start_time": "2023-01-31T04:07:47.916Z"
   },
   {
    "duration": 4,
    "start_time": "2023-01-31T04:07:49.245Z"
   },
   {
    "duration": 5,
    "start_time": "2023-01-31T04:07:58.153Z"
   },
   {
    "duration": 6,
    "start_time": "2023-01-31T04:08:09.856Z"
   },
   {
    "duration": 1079,
    "start_time": "2023-01-31T04:08:52.500Z"
   },
   {
    "duration": 8,
    "start_time": "2023-01-31T04:09:08.147Z"
   },
   {
    "duration": 5,
    "start_time": "2023-01-31T04:09:13.346Z"
   },
   {
    "duration": 5,
    "start_time": "2023-01-31T04:09:23.834Z"
   },
   {
    "duration": 884,
    "start_time": "2023-01-31T04:22:55.831Z"
   },
   {
    "duration": 11,
    "start_time": "2023-01-31T04:27:01.117Z"
   },
   {
    "duration": 409,
    "start_time": "2023-01-31T04:27:11.989Z"
   },
   {
    "duration": 1681,
    "start_time": "2023-01-31T04:28:01.701Z"
   },
   {
    "duration": 1404,
    "start_time": "2023-01-31T04:28:30.236Z"
   },
   {
    "duration": 1599,
    "start_time": "2023-01-31T04:28:46.629Z"
   },
   {
    "duration": 1506,
    "start_time": "2023-01-31T04:29:14.244Z"
   },
   {
    "duration": 1868,
    "start_time": "2023-01-31T04:29:33.965Z"
   },
   {
    "duration": 1701,
    "start_time": "2023-01-31T04:29:49.612Z"
   },
   {
    "duration": 1610,
    "start_time": "2023-01-31T04:29:59.150Z"
   },
   {
    "duration": 1385,
    "start_time": "2023-01-31T04:32:07.377Z"
   },
   {
    "duration": 1291,
    "start_time": "2023-01-31T04:32:43.186Z"
   },
   {
    "duration": 1399,
    "start_time": "2023-01-31T04:33:16.097Z"
   },
   {
    "duration": 11060,
    "start_time": "2023-01-31T04:35:22.550Z"
   },
   {
    "duration": 10721,
    "start_time": "2023-01-31T04:37:21.599Z"
   },
   {
    "duration": 4,
    "start_time": "2023-01-31T04:40:43.288Z"
   },
   {
    "duration": 906,
    "start_time": "2023-01-31T04:41:35.689Z"
   },
   {
    "duration": 1093,
    "start_time": "2023-01-31T04:42:21.137Z"
   },
   {
    "duration": 956,
    "start_time": "2023-01-31T04:42:33.102Z"
   },
   {
    "duration": 969,
    "start_time": "2023-01-31T04:42:43.445Z"
   },
   {
    "duration": 939,
    "start_time": "2023-01-31T04:43:22.030Z"
   },
   {
    "duration": 988,
    "start_time": "2023-01-31T04:44:03.381Z"
   },
   {
    "duration": 1080,
    "start_time": "2023-01-31T04:44:22.986Z"
   },
   {
    "duration": 974,
    "start_time": "2023-01-31T04:44:29.601Z"
   },
   {
    "duration": 1033,
    "start_time": "2023-01-31T04:44:36.136Z"
   },
   {
    "duration": 909,
    "start_time": "2023-01-31T04:45:20.873Z"
   },
   {
    "duration": 2406,
    "start_time": "2023-01-31T04:46:36.373Z"
   },
   {
    "duration": 2499,
    "start_time": "2023-01-31T04:46:55.802Z"
   },
   {
    "duration": 2407,
    "start_time": "2023-01-31T04:47:24.013Z"
   },
   {
    "duration": 2407,
    "start_time": "2023-01-31T04:47:37.182Z"
   },
   {
    "duration": 1173,
    "start_time": "2023-01-31T04:48:33.099Z"
   },
   {
    "duration": 1221,
    "start_time": "2023-01-31T04:48:46.082Z"
   },
   {
    "duration": 1300,
    "start_time": "2023-01-31T04:49:31.690Z"
   },
   {
    "duration": 1383,
    "start_time": "2023-01-31T04:50:08.547Z"
   },
   {
    "duration": 10,
    "start_time": "2023-01-31T04:50:50.283Z"
   },
   {
    "duration": 1045,
    "start_time": "2023-01-31T04:50:50.647Z"
   },
   {
    "duration": 22,
    "start_time": "2023-01-31T04:53:52.465Z"
   },
   {
    "duration": 18,
    "start_time": "2023-01-31T04:54:27.670Z"
   },
   {
    "duration": 1218,
    "start_time": "2023-01-31T04:54:56.141Z"
   },
   {
    "duration": 925,
    "start_time": "2023-01-31T04:55:19.904Z"
   },
   {
    "duration": 973,
    "start_time": "2023-01-31T04:56:01.196Z"
   },
   {
    "duration": 932,
    "start_time": "2023-01-31T04:56:03.645Z"
   },
   {
    "duration": 905,
    "start_time": "2023-01-31T04:56:31.640Z"
   },
   {
    "duration": 849,
    "start_time": "2023-01-31T04:56:58.422Z"
   },
   {
    "duration": 951,
    "start_time": "2023-01-31T04:57:05.230Z"
   },
   {
    "duration": 1221,
    "start_time": "2023-01-31T04:57:29.374Z"
   },
   {
    "duration": 1028,
    "start_time": "2023-01-31T04:57:36.182Z"
   },
   {
    "duration": 966,
    "start_time": "2023-01-31T04:58:04.116Z"
   },
   {
    "duration": 977,
    "start_time": "2023-01-31T04:58:12.098Z"
   },
   {
    "duration": 899,
    "start_time": "2023-01-31T04:58:43.605Z"
   },
   {
    "duration": 881,
    "start_time": "2023-01-31T04:58:53.518Z"
   },
   {
    "duration": 2458,
    "start_time": "2023-01-31T05:25:31.826Z"
   },
   {
    "duration": 919,
    "start_time": "2023-01-31T05:26:33.240Z"
   },
   {
    "duration": 1063,
    "start_time": "2023-01-31T05:26:41.796Z"
   },
   {
    "duration": 1073,
    "start_time": "2023-01-31T05:26:51.034Z"
   },
   {
    "duration": 1086,
    "start_time": "2023-01-31T05:27:08.119Z"
   },
   {
    "duration": 1085,
    "start_time": "2023-01-31T05:27:17.528Z"
   },
   {
    "duration": 844,
    "start_time": "2023-01-31T05:29:09.496Z"
   },
   {
    "duration": 928,
    "start_time": "2023-01-31T05:29:28.127Z"
   },
   {
    "duration": 1018,
    "start_time": "2023-01-31T05:31:49.810Z"
   },
   {
    "duration": 435,
    "start_time": "2023-01-31T05:32:57.916Z"
   },
   {
    "duration": 906,
    "start_time": "2023-01-31T05:33:09.232Z"
   },
   {
    "duration": 489,
    "start_time": "2023-01-31T05:35:29.274Z"
   },
   {
    "duration": 533,
    "start_time": "2023-01-31T05:36:37.906Z"
   },
   {
    "duration": 973,
    "start_time": "2023-01-31T05:39:46.713Z"
   },
   {
    "duration": 832,
    "start_time": "2023-01-31T05:40:16.520Z"
   },
   {
    "duration": 798,
    "start_time": "2023-01-31T05:41:43.161Z"
   },
   {
    "duration": 987,
    "start_time": "2023-01-31T05:43:49.141Z"
   },
   {
    "duration": 777,
    "start_time": "2023-01-31T05:44:17.459Z"
   },
   {
    "duration": 845,
    "start_time": "2023-01-31T05:44:45.398Z"
   },
   {
    "duration": 791,
    "start_time": "2023-01-31T05:45:00.439Z"
   },
   {
    "duration": 993,
    "start_time": "2023-01-31T05:45:09.149Z"
   },
   {
    "duration": 952,
    "start_time": "2023-01-31T05:45:13.205Z"
   },
   {
    "duration": 805,
    "start_time": "2023-01-31T05:46:13.928Z"
   },
   {
    "duration": 950,
    "start_time": "2023-01-31T05:46:37.704Z"
   },
   {
    "duration": 768,
    "start_time": "2023-01-31T05:47:00.573Z"
   },
   {
    "duration": 760,
    "start_time": "2023-01-31T05:47:07.965Z"
   },
   {
    "duration": 805,
    "start_time": "2023-01-31T05:47:29.651Z"
   },
   {
    "duration": 10,
    "start_time": "2023-01-31T05:47:42.532Z"
   },
   {
    "duration": 1016,
    "start_time": "2023-01-31T05:47:42.948Z"
   },
   {
    "duration": 2419,
    "start_time": "2023-01-31T05:48:39.123Z"
   },
   {
    "duration": 756,
    "start_time": "2023-01-31T05:49:13.946Z"
   },
   {
    "duration": 796,
    "start_time": "2023-01-31T05:49:18.820Z"
   },
   {
    "duration": 2717,
    "start_time": "2023-01-31T05:50:33.241Z"
   },
   {
    "duration": 2568,
    "start_time": "2023-01-31T05:50:56.386Z"
   },
   {
    "duration": 2430,
    "start_time": "2023-01-31T05:51:40.529Z"
   },
   {
    "duration": 2364,
    "start_time": "2023-01-31T05:51:55.985Z"
   },
   {
    "duration": 2572,
    "start_time": "2023-01-31T05:52:05.193Z"
   },
   {
    "duration": 10,
    "start_time": "2023-01-31T06:04:12.405Z"
   },
   {
    "duration": 1176,
    "start_time": "2023-01-31T06:04:13.345Z"
   },
   {
    "duration": 10,
    "start_time": "2023-01-31T06:05:27.729Z"
   },
   {
    "duration": 1025,
    "start_time": "2023-01-31T06:05:29.497Z"
   },
   {
    "duration": 4,
    "start_time": "2023-01-31T06:11:18.964Z"
   },
   {
    "duration": 14,
    "start_time": "2023-01-31T06:11:20.117Z"
   },
   {
    "duration": 10,
    "start_time": "2023-01-31T06:35:37.634Z"
   },
   {
    "duration": 11,
    "start_time": "2023-01-31T06:37:25.389Z"
   },
   {
    "duration": 7,
    "start_time": "2023-01-31T06:38:56.153Z"
   },
   {
    "duration": 4,
    "start_time": "2023-01-31T06:39:51.791Z"
   },
   {
    "duration": 13,
    "start_time": "2023-01-31T06:43:49.312Z"
   },
   {
    "duration": 18,
    "start_time": "2023-01-31T06:44:16.696Z"
   },
   {
    "duration": 16,
    "start_time": "2023-01-31T06:46:30.191Z"
   },
   {
    "duration": 6,
    "start_time": "2023-01-31T06:46:41.989Z"
   },
   {
    "duration": 7,
    "start_time": "2023-01-31T06:46:49.785Z"
   },
   {
    "duration": 8,
    "start_time": "2023-01-31T06:47:10.237Z"
   },
   {
    "duration": 4,
    "start_time": "2023-01-31T06:47:21.541Z"
   },
   {
    "duration": 5,
    "start_time": "2023-01-31T06:47:38.885Z"
   },
   {
    "duration": 3,
    "start_time": "2023-01-31T07:00:29.147Z"
   },
   {
    "duration": 6,
    "start_time": "2023-01-31T07:03:14.881Z"
   },
   {
    "duration": 10,
    "start_time": "2023-01-31T07:04:12.789Z"
   },
   {
    "duration": 16,
    "start_time": "2023-01-31T07:09:12.687Z"
   },
   {
    "duration": 18,
    "start_time": "2023-01-31T07:10:47.844Z"
   },
   {
    "duration": 4,
    "start_time": "2023-01-31T07:14:19.914Z"
   },
   {
    "duration": 4,
    "start_time": "2023-01-31T07:14:20.529Z"
   },
   {
    "duration": 184,
    "start_time": "2023-01-31T07:14:22.164Z"
   },
   {
    "duration": 5,
    "start_time": "2023-01-31T07:15:04.937Z"
   },
   {
    "duration": 15,
    "start_time": "2023-01-31T07:15:07.242Z"
   },
   {
    "duration": 3,
    "start_time": "2023-01-31T07:15:08.793Z"
   },
   {
    "duration": 3,
    "start_time": "2023-01-31T07:15:09.698Z"
   },
   {
    "duration": 172,
    "start_time": "2023-01-31T07:15:11.701Z"
   },
   {
    "duration": 2124,
    "start_time": "2023-01-31T07:15:47.092Z"
   },
   {
    "duration": 16,
    "start_time": "2023-01-31T07:18:52.940Z"
   },
   {
    "duration": 1339,
    "start_time": "2023-01-31T07:19:53.784Z"
   },
   {
    "duration": 701,
    "start_time": "2023-01-31T07:20:00.889Z"
   },
   {
    "duration": 2,
    "start_time": "2023-01-31T07:20:01.593Z"
   },
   {
    "duration": 9,
    "start_time": "2023-01-31T07:20:08.630Z"
   },
   {
    "duration": 30,
    "start_time": "2023-01-31T07:20:13.996Z"
   },
   {
    "duration": 17,
    "start_time": "2023-01-31T07:20:52.392Z"
   },
   {
    "duration": 6,
    "start_time": "2023-01-31T07:21:06.740Z"
   },
   {
    "duration": 22,
    "start_time": "2023-01-31T07:21:08.819Z"
   },
   {
    "duration": 4,
    "start_time": "2023-01-31T07:21:11.000Z"
   },
   {
    "duration": 3,
    "start_time": "2023-01-31T07:21:11.591Z"
   },
   {
    "duration": 223,
    "start_time": "2023-01-31T07:21:13.394Z"
   },
   {
    "duration": 12,
    "start_time": "2023-01-31T07:22:16.127Z"
   },
   {
    "duration": 12,
    "start_time": "2023-01-31T07:22:36.496Z"
   },
   {
    "duration": 5,
    "start_time": "2023-01-31T07:25:29.716Z"
   },
   {
    "duration": 6,
    "start_time": "2023-01-31T07:25:32.495Z"
   },
   {
    "duration": 16,
    "start_time": "2023-01-31T07:25:34.613Z"
   },
   {
    "duration": 3,
    "start_time": "2023-01-31T07:25:38.542Z"
   },
   {
    "duration": 3,
    "start_time": "2023-01-31T07:25:39.327Z"
   },
   {
    "duration": 46,
    "start_time": "2023-01-31T07:25:40.593Z"
   },
   {
    "duration": 11,
    "start_time": "2023-01-31T07:25:49.708Z"
   },
   {
    "duration": 5,
    "start_time": "2023-01-31T07:26:03.126Z"
   },
   {
    "duration": 5,
    "start_time": "2023-01-31T07:26:21.287Z"
   },
   {
    "duration": 5,
    "start_time": "2023-01-31T07:26:32.965Z"
   },
   {
    "duration": 21,
    "start_time": "2023-01-31T07:26:46.447Z"
   },
   {
    "duration": 4,
    "start_time": "2023-01-31T07:26:55.743Z"
   },
   {
    "duration": 5,
    "start_time": "2023-01-31T07:27:04.837Z"
   },
   {
    "duration": 3,
    "start_time": "2023-01-31T07:27:19.891Z"
   },
   {
    "duration": 3,
    "start_time": "2023-01-31T07:27:21.979Z"
   },
   {
    "duration": 46,
    "start_time": "2023-01-31T07:27:23.908Z"
   },
   {
    "duration": 109,
    "start_time": "2023-01-31T07:41:26.198Z"
   },
   {
    "duration": 16,
    "start_time": "2023-01-31T07:41:54.495Z"
   },
   {
    "duration": 19,
    "start_time": "2023-01-31T07:42:27.365Z"
   },
   {
    "duration": 16,
    "start_time": "2023-01-31T07:42:29.844Z"
   },
   {
    "duration": 4,
    "start_time": "2023-01-31T07:48:20.791Z"
   },
   {
    "duration": 8,
    "start_time": "2023-01-31T07:48:26.271Z"
   },
   {
    "duration": 11,
    "start_time": "2023-01-31T07:48:44.811Z"
   },
   {
    "duration": 6,
    "start_time": "2023-01-31T07:48:53.838Z"
   },
   {
    "duration": 11,
    "start_time": "2023-01-31T07:49:12.110Z"
   },
   {
    "duration": 10,
    "start_time": "2023-01-31T07:49:20.646Z"
   },
   {
    "duration": 6,
    "start_time": "2023-01-31T07:49:24.629Z"
   },
   {
    "duration": 15,
    "start_time": "2023-01-31T07:49:32.204Z"
   },
   {
    "duration": 1364,
    "start_time": "2023-01-31T07:50:28.644Z"
   },
   {
    "duration": 644,
    "start_time": "2023-01-31T07:50:34.398Z"
   },
   {
    "duration": 3,
    "start_time": "2023-01-31T07:50:35.043Z"
   },
   {
    "duration": 8,
    "start_time": "2023-01-31T07:50:38.919Z"
   },
   {
    "duration": 28,
    "start_time": "2023-01-31T07:50:42.133Z"
   },
   {
    "duration": 10,
    "start_time": "2023-01-31T07:50:44.157Z"
   },
   {
    "duration": 17,
    "start_time": "2023-01-31T07:50:46.097Z"
   },
   {
    "duration": 106,
    "start_time": "2023-01-31T07:50:47.201Z"
   },
   {
    "duration": 5,
    "start_time": "2023-01-31T07:50:55.765Z"
   },
   {
    "duration": 8,
    "start_time": "2023-01-31T07:51:08.062Z"
   },
   {
    "duration": 5,
    "start_time": "2023-01-31T07:51:09.766Z"
   },
   {
    "duration": 20,
    "start_time": "2023-01-31T07:51:10.727Z"
   },
   {
    "duration": 4,
    "start_time": "2023-01-31T07:51:11.905Z"
   },
   {
    "duration": 3,
    "start_time": "2023-01-31T07:51:12.212Z"
   },
   {
    "duration": 2442,
    "start_time": "2023-01-31T07:51:13.216Z"
   },
   {
    "duration": 29022,
    "start_time": "2023-01-31T07:51:31.429Z"
   },
   {
    "duration": 0,
    "start_time": "2023-01-31T07:53:42.195Z"
   },
   {
    "duration": 43256,
    "start_time": "2023-01-31T07:53:42.739Z"
   },
   {
    "duration": 228,
    "start_time": "2023-01-31T07:55:26.165Z"
   },
   {
    "duration": 30606,
    "start_time": "2023-01-31T07:56:50.982Z"
   },
   {
    "duration": 2313,
    "start_time": "2023-01-31T07:58:25.900Z"
   },
   {
    "duration": 721,
    "start_time": "2023-01-31T07:58:30.834Z"
   },
   {
    "duration": 736,
    "start_time": "2023-01-31T07:58:36.819Z"
   },
   {
    "duration": 201,
    "start_time": "2023-01-31T07:58:45.619Z"
   },
   {
    "duration": 8,
    "start_time": "2023-01-31T07:58:52.740Z"
   },
   {
    "duration": 1097,
    "start_time": "2023-01-31T07:58:53.338Z"
   },
   {
    "duration": 1417,
    "start_time": "2023-01-31T13:31:51.919Z"
   },
   {
    "duration": 1907,
    "start_time": "2023-01-31T13:31:53.338Z"
   },
   {
    "duration": 5,
    "start_time": "2023-01-31T13:31:55.247Z"
   },
   {
    "duration": 278,
    "start_time": "2023-01-31T13:31:55.254Z"
   },
   {
    "duration": 169,
    "start_time": "2023-01-31T13:31:55.534Z"
   },
   {
    "duration": 285,
    "start_time": "2023-01-31T13:31:55.705Z"
   },
   {
    "duration": 15,
    "start_time": "2023-01-31T13:31:55.991Z"
   },
   {
    "duration": 35,
    "start_time": "2023-01-31T13:31:56.007Z"
   },
   {
    "duration": 18,
    "start_time": "2023-01-31T13:31:56.044Z"
   },
   {
    "duration": 37,
    "start_time": "2023-01-31T13:31:56.064Z"
   },
   {
    "duration": 6,
    "start_time": "2023-01-31T13:31:56.103Z"
   },
   {
    "duration": 2272,
    "start_time": "2023-01-31T13:31:56.111Z"
   },
   {
    "duration": 727,
    "start_time": "2023-01-31T13:31:58.386Z"
   },
   {
    "duration": 683,
    "start_time": "2023-01-31T13:31:59.116Z"
   },
   {
    "duration": 9,
    "start_time": "2023-01-31T13:31:59.803Z"
   },
   {
    "duration": 965,
    "start_time": "2023-01-31T13:31:59.814Z"
   },
   {
    "duration": 8,
    "start_time": "2023-01-31T13:32:00.781Z"
   },
   {
    "duration": 62,
    "start_time": "2023-01-31T13:32:00.803Z"
   },
   {
    "duration": 68,
    "start_time": "2023-01-31T13:32:00.867Z"
   },
   {
    "duration": 71,
    "start_time": "2023-01-31T13:32:00.937Z"
   },
   {
    "duration": 10,
    "start_time": "2023-01-31T13:32:27.476Z"
   },
   {
    "duration": 357,
    "start_time": "2023-01-31T13:43:43.307Z"
   },
   {
    "duration": 3,
    "start_time": "2023-01-31T13:43:56.985Z"
   },
   {
    "duration": 4,
    "start_time": "2023-01-31T13:44:00.548Z"
   },
   {
    "duration": 1768,
    "start_time": "2023-01-31T13:44:03.744Z"
   },
   {
    "duration": 182,
    "start_time": "2023-01-31T13:44:15.156Z"
   },
   {
    "duration": 4,
    "start_time": "2023-01-31T13:51:38.359Z"
   },
   {
    "duration": 1558,
    "start_time": "2023-01-31T14:42:37.490Z"
   },
   {
    "duration": 1951,
    "start_time": "2023-01-31T14:42:43.163Z"
   },
   {
    "duration": 2,
    "start_time": "2023-01-31T14:42:45.651Z"
   },
   {
    "duration": 4,
    "start_time": "2023-01-31T14:43:01.051Z"
   },
   {
    "duration": 3,
    "start_time": "2023-01-31T14:48:09.116Z"
   },
   {
    "duration": 122,
    "start_time": "2023-01-31T14:56:10.263Z"
   },
   {
    "duration": 648,
    "start_time": "2023-01-31T14:57:48.763Z"
   },
   {
    "duration": 17,
    "start_time": "2023-01-31T14:58:07.362Z"
   },
   {
    "duration": 13,
    "start_time": "2023-01-31T14:58:13.761Z"
   },
   {
    "duration": 12,
    "start_time": "2023-01-31T14:58:27.633Z"
   },
   {
    "duration": 25,
    "start_time": "2023-01-31T15:00:21.178Z"
   },
   {
    "duration": 28,
    "start_time": "2023-01-31T15:00:43.376Z"
   },
   {
    "duration": 23,
    "start_time": "2023-01-31T15:01:55.689Z"
   },
   {
    "duration": 14,
    "start_time": "2023-01-31T15:02:54.703Z"
   },
   {
    "duration": 13,
    "start_time": "2023-01-31T15:03:28.102Z"
   },
   {
    "duration": 4,
    "start_time": "2023-01-31T15:07:15.299Z"
   },
   {
    "duration": 645,
    "start_time": "2023-01-31T15:07:19.669Z"
   },
   {
    "duration": 1403,
    "start_time": "2023-01-31T15:08:00.208Z"
   },
   {
    "duration": 684,
    "start_time": "2023-01-31T15:08:06.085Z"
   },
   {
    "duration": 3,
    "start_time": "2023-01-31T15:08:16.166Z"
   },
   {
    "duration": 16,
    "start_time": "2023-01-31T15:08:22.197Z"
   },
   {
    "duration": 10,
    "start_time": "2023-01-31T15:08:38.864Z"
   },
   {
    "duration": 9,
    "start_time": "2023-01-31T15:18:26.616Z"
   },
   {
    "duration": 2898,
    "start_time": "2023-01-31T15:21:49.363Z"
   },
   {
    "duration": 2954,
    "start_time": "2023-01-31T15:22:16.901Z"
   },
   {
    "duration": 2747,
    "start_time": "2023-01-31T15:24:27.815Z"
   },
   {
    "duration": 2691,
    "start_time": "2023-01-31T15:24:41.171Z"
   },
   {
    "duration": 131,
    "start_time": "2023-01-31T15:30:03.089Z"
   },
   {
    "duration": 19,
    "start_time": "2023-01-31T15:30:18.711Z"
   },
   {
    "duration": 17,
    "start_time": "2023-01-31T15:30:35.899Z"
   },
   {
    "duration": 16,
    "start_time": "2023-01-31T15:30:42.540Z"
   },
   {
    "duration": 16,
    "start_time": "2023-01-31T15:31:35.405Z"
   },
   {
    "duration": 17,
    "start_time": "2023-01-31T15:34:11.750Z"
   },
   {
    "duration": 18,
    "start_time": "2023-01-31T15:35:01.712Z"
   },
   {
    "duration": 19,
    "start_time": "2023-01-31T15:35:33.021Z"
   },
   {
    "duration": 3137,
    "start_time": "2023-01-31T15:35:42.124Z"
   },
   {
    "duration": 3045,
    "start_time": "2023-01-31T15:36:01.420Z"
   },
   {
    "duration": 13,
    "start_time": "2023-01-31T15:36:29.586Z"
   },
   {
    "duration": 13,
    "start_time": "2023-01-31T15:36:38.571Z"
   },
   {
    "duration": 13,
    "start_time": "2023-01-31T15:37:00.411Z"
   },
   {
    "duration": 2730,
    "start_time": "2023-01-31T15:37:07.428Z"
   },
   {
    "duration": 10,
    "start_time": "2023-01-31T15:46:37.838Z"
   },
   {
    "duration": 907,
    "start_time": "2023-01-31T15:46:41.925Z"
   },
   {
    "duration": 925,
    "start_time": "2023-01-31T15:51:40.832Z"
   },
   {
    "duration": 990,
    "start_time": "2023-01-31T15:51:51.476Z"
   },
   {
    "duration": 2853,
    "start_time": "2023-01-31T15:51:59.211Z"
   },
   {
    "duration": 2756,
    "start_time": "2023-01-31T15:56:56.600Z"
   },
   {
    "duration": 2850,
    "start_time": "2023-01-31T15:57:10.228Z"
   },
   {
    "duration": 10,
    "start_time": "2023-01-31T16:17:28.507Z"
   },
   {
    "duration": 13,
    "start_time": "2023-01-31T16:17:56.660Z"
   },
   {
    "duration": 12,
    "start_time": "2023-01-31T16:19:15.133Z"
   },
   {
    "duration": 214,
    "start_time": "2023-01-31T16:23:20.077Z"
   },
   {
    "duration": 9,
    "start_time": "2023-01-31T16:25:26.441Z"
   },
   {
    "duration": 10,
    "start_time": "2023-01-31T16:26:18.882Z"
   },
   {
    "duration": 11,
    "start_time": "2023-01-31T16:26:28.851Z"
   },
   {
    "duration": 20,
    "start_time": "2023-01-31T16:27:06.573Z"
   },
   {
    "duration": 8,
    "start_time": "2023-01-31T16:30:41.496Z"
   },
   {
    "duration": 24,
    "start_time": "2023-01-31T16:39:28.790Z"
   },
   {
    "duration": 19,
    "start_time": "2023-01-31T16:40:46.357Z"
   },
   {
    "duration": 11,
    "start_time": "2023-01-31T16:44:58.246Z"
   },
   {
    "duration": 11,
    "start_time": "2023-01-31T16:46:21.281Z"
   },
   {
    "duration": 679,
    "start_time": "2023-01-31T16:53:17.299Z"
   },
   {
    "duration": 658,
    "start_time": "2023-01-31T16:54:49.325Z"
   },
   {
    "duration": 780,
    "start_time": "2023-01-31T16:55:49.461Z"
   },
   {
    "duration": 639,
    "start_time": "2023-01-31T16:56:16.041Z"
   },
   {
    "duration": 69,
    "start_time": "2023-01-31T16:57:32.873Z"
   },
   {
    "duration": 737,
    "start_time": "2023-01-31T16:58:14.442Z"
   },
   {
    "duration": 64,
    "start_time": "2023-01-31T16:58:48.882Z"
   },
   {
    "duration": 30,
    "start_time": "2023-01-31T16:59:05.745Z"
   },
   {
    "duration": 62,
    "start_time": "2023-01-31T16:59:25.063Z"
   },
   {
    "duration": 66,
    "start_time": "2023-01-31T16:59:54.354Z"
   },
   {
    "duration": 8,
    "start_time": "2023-01-31T17:00:16.488Z"
   },
   {
    "duration": 61,
    "start_time": "2023-01-31T17:00:29.174Z"
   },
   {
    "duration": 8,
    "start_time": "2023-01-31T17:00:31.344Z"
   },
   {
    "duration": 71,
    "start_time": "2023-01-31T17:01:59.824Z"
   },
   {
    "duration": 10,
    "start_time": "2023-01-31T17:02:02.527Z"
   },
   {
    "duration": 10,
    "start_time": "2023-01-31T17:03:29.286Z"
   },
   {
    "duration": 8,
    "start_time": "2023-01-31T17:03:30.528Z"
   },
   {
    "duration": 41,
    "start_time": "2023-01-31T17:04:07.759Z"
   },
   {
    "duration": 10,
    "start_time": "2023-01-31T17:04:21.460Z"
   },
   {
    "duration": 16,
    "start_time": "2023-01-31T17:04:42.855Z"
   },
   {
    "duration": 52,
    "start_time": "2023-01-31T17:05:01.735Z"
   },
   {
    "duration": 25,
    "start_time": "2023-01-31T17:05:26.031Z"
   },
   {
    "duration": 8,
    "start_time": "2023-01-31T17:05:30.621Z"
   },
   {
    "duration": 14,
    "start_time": "2023-01-31T17:06:26.278Z"
   },
   {
    "duration": 9,
    "start_time": "2023-01-31T17:06:27.057Z"
   },
   {
    "duration": 21,
    "start_time": "2023-01-31T17:06:29.467Z"
   },
   {
    "duration": 8,
    "start_time": "2023-01-31T17:06:33.082Z"
   },
   {
    "duration": 20,
    "start_time": "2023-01-31T17:06:40.445Z"
   },
   {
    "duration": 12,
    "start_time": "2023-01-31T17:06:41.317Z"
   },
   {
    "duration": 14,
    "start_time": "2023-01-31T17:07:04.837Z"
   },
   {
    "duration": 1436,
    "start_time": "2023-01-31T17:07:34.134Z"
   },
   {
    "duration": 625,
    "start_time": "2023-01-31T17:07:39.969Z"
   },
   {
    "duration": 3,
    "start_time": "2023-01-31T17:07:41.300Z"
   },
   {
    "duration": 4,
    "start_time": "2023-01-31T17:07:48.676Z"
   },
   {
    "duration": 14,
    "start_time": "2023-01-31T17:07:51.373Z"
   },
   {
    "duration": 9,
    "start_time": "2023-01-31T17:07:54.117Z"
   },
   {
    "duration": 2848,
    "start_time": "2023-01-31T17:08:00.724Z"
   },
   {
    "duration": 8,
    "start_time": "2023-01-31T17:08:10.414Z"
   },
   {
    "duration": 35,
    "start_time": "2023-01-31T17:08:15.452Z"
   },
   {
    "duration": 8,
    "start_time": "2023-01-31T17:08:20.396Z"
   },
   {
    "duration": 118,
    "start_time": "2023-01-31T17:09:10.180Z"
   },
   {
    "duration": 11,
    "start_time": "2023-01-31T17:09:16.660Z"
   },
   {
    "duration": 8,
    "start_time": "2023-01-31T17:09:19.947Z"
   },
   {
    "duration": 8,
    "start_time": "2023-01-31T17:10:33.427Z"
   },
   {
    "duration": 1335,
    "start_time": "2023-01-31T17:11:55.346Z"
   },
   {
    "duration": 619,
    "start_time": "2023-01-31T17:11:59.076Z"
   },
   {
    "duration": 3,
    "start_time": "2023-01-31T17:12:06.132Z"
   },
   {
    "duration": 22,
    "start_time": "2023-01-31T17:12:08.309Z"
   },
   {
    "duration": 13,
    "start_time": "2023-01-31T17:12:12.476Z"
   },
   {
    "duration": 2819,
    "start_time": "2023-01-31T17:12:15.940Z"
   },
   {
    "duration": 9,
    "start_time": "2023-01-31T17:12:27.757Z"
   },
   {
    "duration": 38,
    "start_time": "2023-01-31T17:12:36.147Z"
   },
   {
    "duration": 8,
    "start_time": "2023-01-31T17:12:37.954Z"
   },
   {
    "duration": 128,
    "start_time": "2023-01-31T17:13:25.442Z"
   },
   {
    "duration": 14,
    "start_time": "2023-01-31T17:14:13.780Z"
   },
   {
    "duration": 14,
    "start_time": "2023-01-31T17:18:44.640Z"
   },
   {
    "duration": 14,
    "start_time": "2023-01-31T17:19:15.542Z"
   },
   {
    "duration": 14,
    "start_time": "2023-01-31T17:20:35.999Z"
   },
   {
    "duration": 12,
    "start_time": "2023-01-31T17:20:49.493Z"
   },
   {
    "duration": 3,
    "start_time": "2023-01-31T17:20:53.832Z"
   },
   {
    "duration": 3,
    "start_time": "2023-01-31T17:21:45.975Z"
   },
   {
    "duration": 13,
    "start_time": "2023-01-31T17:22:01.821Z"
   },
   {
    "duration": 12,
    "start_time": "2023-01-31T17:23:16.237Z"
   },
   {
    "duration": 5,
    "start_time": "2023-01-31T17:24:43.043Z"
   },
   {
    "duration": 4,
    "start_time": "2023-01-31T17:25:08.764Z"
   },
   {
    "duration": 12,
    "start_time": "2023-01-31T17:25:37.711Z"
   },
   {
    "duration": 1343,
    "start_time": "2023-01-31T17:26:13.496Z"
   },
   {
    "duration": 120,
    "start_time": "2023-01-31T17:26:24.580Z"
   },
   {
    "duration": 655,
    "start_time": "2023-01-31T17:26:31.408Z"
   },
   {
    "duration": 3,
    "start_time": "2023-01-31T17:26:40.483Z"
   },
   {
    "duration": 21,
    "start_time": "2023-01-31T17:26:43.443Z"
   },
   {
    "duration": 10,
    "start_time": "2023-01-31T17:26:44.618Z"
   },
   {
    "duration": 2716,
    "start_time": "2023-01-31T17:26:46.242Z"
   },
   {
    "duration": 577,
    "start_time": "2023-01-31T17:26:48.959Z"
   },
   {
    "duration": 582,
    "start_time": "2023-01-31T17:26:49.538Z"
   },
   {
    "duration": 10,
    "start_time": "2023-01-31T17:26:50.122Z"
   },
   {
    "duration": 959,
    "start_time": "2023-01-31T17:26:50.134Z"
   },
   {
    "duration": 9,
    "start_time": "2023-01-31T17:26:51.095Z"
   },
   {
    "duration": 36,
    "start_time": "2023-01-31T17:26:52.241Z"
   },
   {
    "duration": 9,
    "start_time": "2023-01-31T17:26:52.985Z"
   },
   {
    "duration": 4,
    "start_time": "2023-01-31T17:27:19.730Z"
   },
   {
    "duration": 4,
    "start_time": "2023-01-31T17:27:32.065Z"
   },
   {
    "duration": 5,
    "start_time": "2023-01-31T17:27:33.146Z"
   },
   {
    "duration": 4,
    "start_time": "2023-01-31T17:27:34.081Z"
   },
   {
    "duration": 4,
    "start_time": "2023-01-31T17:27:54.808Z"
   },
   {
    "duration": 785,
    "start_time": "2023-01-31T17:27:56.412Z"
   },
   {
    "duration": 721,
    "start_time": "2023-01-31T17:29:24.105Z"
   },
   {
    "duration": 25,
    "start_time": "2023-01-31T17:30:04.615Z"
   },
   {
    "duration": 13,
    "start_time": "2023-01-31T17:30:39.057Z"
   },
   {
    "duration": 1397,
    "start_time": "2023-01-31T17:31:19.792Z"
   },
   {
    "duration": 694,
    "start_time": "2023-01-31T17:31:24.032Z"
   },
   {
    "duration": 3,
    "start_time": "2023-01-31T17:31:24.728Z"
   },
   {
    "duration": 261,
    "start_time": "2023-01-31T17:31:25.287Z"
   },
   {
    "duration": 137,
    "start_time": "2023-01-31T17:31:25.993Z"
   },
   {
    "duration": 294,
    "start_time": "2023-01-31T17:31:26.451Z"
   },
   {
    "duration": 9,
    "start_time": "2023-01-31T17:31:27.110Z"
   },
   {
    "duration": 4,
    "start_time": "2023-01-31T17:31:29.513Z"
   },
   {
    "duration": 21,
    "start_time": "2023-01-31T17:31:30.135Z"
   },
   {
    "duration": 10,
    "start_time": "2023-01-31T17:31:31.494Z"
   },
   {
    "duration": 2907,
    "start_time": "2023-01-31T17:31:33.584Z"
   },
   {
    "duration": 595,
    "start_time": "2023-01-31T17:31:36.493Z"
   },
   {
    "duration": 541,
    "start_time": "2023-01-31T17:31:37.090Z"
   },
   {
    "duration": 10,
    "start_time": "2023-01-31T17:31:38.984Z"
   },
   {
    "duration": 953,
    "start_time": "2023-01-31T17:31:40.136Z"
   },
   {
    "duration": 10,
    "start_time": "2023-01-31T17:31:41.431Z"
   },
   {
    "duration": 38,
    "start_time": "2023-01-31T17:31:42.464Z"
   },
   {
    "duration": 4,
    "start_time": "2023-01-31T17:31:42.895Z"
   },
   {
    "duration": 6,
    "start_time": "2023-01-31T17:31:46.472Z"
   },
   {
    "duration": 5,
    "start_time": "2023-01-31T17:31:47.376Z"
   },
   {
    "duration": 772,
    "start_time": "2023-01-31T17:31:48.656Z"
   },
   {
    "duration": 4,
    "start_time": "2023-01-31T17:33:33.768Z"
   },
   {
    "duration": 1453,
    "start_time": "2023-01-31T17:33:50.060Z"
   },
   {
    "duration": 765,
    "start_time": "2023-01-31T17:33:55.037Z"
   },
   {
    "duration": 4,
    "start_time": "2023-01-31T17:33:56.533Z"
   },
   {
    "duration": 260,
    "start_time": "2023-01-31T17:33:57.290Z"
   },
   {
    "duration": 212,
    "start_time": "2023-01-31T17:33:57.553Z"
   },
   {
    "duration": 277,
    "start_time": "2023-01-31T17:33:57.807Z"
   },
   {
    "duration": 10,
    "start_time": "2023-01-31T17:33:58.638Z"
   },
   {
    "duration": 4,
    "start_time": "2023-01-31T17:34:00.637Z"
   },
   {
    "duration": 16,
    "start_time": "2023-01-31T17:34:01.484Z"
   },
   {
    "duration": 12,
    "start_time": "2023-01-31T17:34:03.125Z"
   },
   {
    "duration": 3392,
    "start_time": "2023-01-31T17:34:05.118Z"
   },
   {
    "duration": 564,
    "start_time": "2023-01-31T17:34:08.512Z"
   },
   {
    "duration": 656,
    "start_time": "2023-01-31T17:34:09.078Z"
   },
   {
    "duration": 13,
    "start_time": "2023-01-31T17:34:09.736Z"
   },
   {
    "duration": 1080,
    "start_time": "2023-01-31T17:34:10.326Z"
   },
   {
    "duration": 8,
    "start_time": "2023-01-31T17:34:11.775Z"
   },
   {
    "duration": 46,
    "start_time": "2023-01-31T17:34:12.798Z"
   },
   {
    "duration": 7,
    "start_time": "2023-01-31T17:34:13.293Z"
   },
   {
    "duration": 3,
    "start_time": "2023-01-31T17:34:15.820Z"
   },
   {
    "duration": 5,
    "start_time": "2023-01-31T17:34:16.894Z"
   },
   {
    "duration": 817,
    "start_time": "2023-01-31T17:34:18.222Z"
   },
   {
    "duration": 4,
    "start_time": "2023-01-31T17:35:22.543Z"
   },
   {
    "duration": 14,
    "start_time": "2023-01-31T17:35:34.997Z"
   },
   {
    "duration": 14,
    "start_time": "2023-01-31T17:37:02.284Z"
   },
   {
    "duration": 4,
    "start_time": "2023-01-31T17:41:17.858Z"
   },
   {
    "duration": 700,
    "start_time": "2023-01-31T17:41:29.353Z"
   },
   {
    "duration": 45,
    "start_time": "2023-01-31T17:41:42.193Z"
   },
   {
    "duration": 645,
    "start_time": "2023-01-31T17:42:39.649Z"
   },
   {
    "duration": 1390,
    "start_time": "2023-01-31T17:43:28.565Z"
   },
   {
    "duration": 676,
    "start_time": "2023-01-31T17:43:32.327Z"
   },
   {
    "duration": 5,
    "start_time": "2023-01-31T17:43:33.005Z"
   },
   {
    "duration": 255,
    "start_time": "2023-01-31T17:43:34.645Z"
   },
   {
    "duration": 153,
    "start_time": "2023-01-31T17:43:34.911Z"
   },
   {
    "duration": 257,
    "start_time": "2023-01-31T17:43:35.117Z"
   },
   {
    "duration": 10,
    "start_time": "2023-01-31T17:43:35.653Z"
   },
   {
    "duration": 5,
    "start_time": "2023-01-31T17:43:37.502Z"
   },
   {
    "duration": 18,
    "start_time": "2023-01-31T17:43:37.894Z"
   },
   {
    "duration": 10,
    "start_time": "2023-01-31T17:43:38.926Z"
   },
   {
    "duration": 2887,
    "start_time": "2023-01-31T17:43:40.383Z"
   },
   {
    "duration": 612,
    "start_time": "2023-01-31T17:43:43.272Z"
   },
   {
    "duration": 574,
    "start_time": "2023-01-31T17:43:43.887Z"
   },
   {
    "duration": 15,
    "start_time": "2023-01-31T17:43:44.464Z"
   },
   {
    "duration": 972,
    "start_time": "2023-01-31T17:43:45.535Z"
   },
   {
    "duration": 9,
    "start_time": "2023-01-31T17:43:46.966Z"
   },
   {
    "duration": 134,
    "start_time": "2023-01-31T17:43:48.758Z"
   },
   {
    "duration": 46,
    "start_time": "2023-01-31T17:46:50.422Z"
   },
   {
    "duration": 43,
    "start_time": "2023-01-31T17:47:01.836Z"
   },
   {
    "duration": 45,
    "start_time": "2023-01-31T17:47:12.801Z"
   },
   {
    "duration": 25,
    "start_time": "2023-01-31T18:01:37.254Z"
   },
   {
    "duration": 18,
    "start_time": "2023-01-31T18:01:46.603Z"
   },
   {
    "duration": 6,
    "start_time": "2023-01-31T18:02:13.499Z"
   },
   {
    "duration": 1362,
    "start_time": "2023-01-31T18:02:49.984Z"
   },
   {
    "duration": 697,
    "start_time": "2023-01-31T18:02:53.463Z"
   },
   {
    "duration": 3,
    "start_time": "2023-01-31T18:02:54.162Z"
   },
   {
    "duration": 233,
    "start_time": "2023-01-31T18:02:54.522Z"
   },
   {
    "duration": 143,
    "start_time": "2023-01-31T18:02:54.756Z"
   },
   {
    "duration": 255,
    "start_time": "2023-01-31T18:02:54.941Z"
   },
   {
    "duration": 8,
    "start_time": "2023-01-31T18:02:55.371Z"
   },
   {
    "duration": 4,
    "start_time": "2023-01-31T18:02:57.288Z"
   },
   {
    "duration": 15,
    "start_time": "2023-01-31T18:02:57.725Z"
   },
   {
    "duration": 10,
    "start_time": "2023-01-31T18:02:58.731Z"
   },
   {
    "duration": 2834,
    "start_time": "2023-01-31T18:03:00.426Z"
   },
   {
    "duration": 578,
    "start_time": "2023-01-31T18:03:03.262Z"
   },
   {
    "duration": 574,
    "start_time": "2023-01-31T18:03:03.842Z"
   },
   {
    "duration": 10,
    "start_time": "2023-01-31T18:03:04.418Z"
   },
   {
    "duration": 1033,
    "start_time": "2023-01-31T18:03:06.460Z"
   },
   {
    "duration": 8,
    "start_time": "2023-01-31T18:03:09.548Z"
   },
   {
    "duration": 30,
    "start_time": "2023-01-31T18:03:13.803Z"
   },
   {
    "duration": 5,
    "start_time": "2023-01-31T18:03:15.523Z"
   },
   {
    "duration": 5,
    "start_time": "2023-01-31T18:04:23.324Z"
   },
   {
    "duration": 4,
    "start_time": "2023-01-31T18:04:28.619Z"
   },
   {
    "duration": 5,
    "start_time": "2023-01-31T18:04:37.244Z"
   },
   {
    "duration": 18,
    "start_time": "2023-01-31T18:05:20.421Z"
   },
   {
    "duration": 4,
    "start_time": "2023-01-31T18:05:36.067Z"
   },
   {
    "duration": 5,
    "start_time": "2023-01-31T18:05:43.741Z"
   },
   {
    "duration": 4,
    "start_time": "2023-01-31T18:05:44.779Z"
   },
   {
    "duration": 13,
    "start_time": "2023-01-31T18:05:45.930Z"
   },
   {
    "duration": 977,
    "start_time": "2023-01-31T18:05:46.667Z"
   },
   {
    "duration": 6,
    "start_time": "2023-01-31T18:18:09.672Z"
   },
   {
    "duration": 4,
    "start_time": "2023-01-31T18:19:53.466Z"
   },
   {
    "duration": 4,
    "start_time": "2023-01-31T18:20:05.949Z"
   },
   {
    "duration": 1405,
    "start_time": "2023-01-31T18:20:16.441Z"
   },
   {
    "duration": 663,
    "start_time": "2023-01-31T18:20:19.615Z"
   },
   {
    "duration": 2,
    "start_time": "2023-01-31T18:20:20.280Z"
   },
   {
    "duration": 234,
    "start_time": "2023-01-31T18:20:20.616Z"
   },
   {
    "duration": 143,
    "start_time": "2023-01-31T18:20:20.851Z"
   },
   {
    "duration": 251,
    "start_time": "2023-01-31T18:20:21.008Z"
   },
   {
    "duration": 8,
    "start_time": "2023-01-31T18:20:21.407Z"
   },
   {
    "duration": 3,
    "start_time": "2023-01-31T18:20:22.892Z"
   },
   {
    "duration": 13,
    "start_time": "2023-01-31T18:20:23.327Z"
   },
   {
    "duration": 9,
    "start_time": "2023-01-31T18:20:24.272Z"
   },
   {
    "duration": 2867,
    "start_time": "2023-01-31T18:20:26.079Z"
   },
   {
    "duration": 584,
    "start_time": "2023-01-31T18:20:28.948Z"
   },
   {
    "duration": 493,
    "start_time": "2023-01-31T18:20:29.533Z"
   },
   {
    "duration": 10,
    "start_time": "2023-01-31T18:20:31.582Z"
   },
   {
    "duration": 994,
    "start_time": "2023-01-31T18:20:34.495Z"
   },
   {
    "duration": 5,
    "start_time": "2023-01-31T18:20:37.654Z"
   },
   {
    "duration": 16,
    "start_time": "2023-01-31T18:20:38.647Z"
   },
   {
    "duration": 4,
    "start_time": "2023-01-31T18:20:39.470Z"
   },
   {
    "duration": 3,
    "start_time": "2023-01-31T18:20:48.560Z"
   },
   {
    "duration": 13,
    "start_time": "2023-01-31T18:20:50.239Z"
   },
   {
    "duration": 855,
    "start_time": "2023-01-31T18:20:51.040Z"
   },
   {
    "duration": 4,
    "start_time": "2023-01-31T18:27:44.067Z"
   },
   {
    "duration": 1273,
    "start_time": "2023-01-31T18:28:09.560Z"
   },
   {
    "duration": 662,
    "start_time": "2023-01-31T18:28:13.515Z"
   },
   {
    "duration": 2,
    "start_time": "2023-01-31T18:28:14.394Z"
   },
   {
    "duration": 247,
    "start_time": "2023-01-31T18:28:15.383Z"
   },
   {
    "duration": 144,
    "start_time": "2023-01-31T18:28:15.632Z"
   },
   {
    "duration": 254,
    "start_time": "2023-01-31T18:28:15.780Z"
   },
   {
    "duration": 7,
    "start_time": "2023-01-31T18:28:16.403Z"
   },
   {
    "duration": 3,
    "start_time": "2023-01-31T18:28:18.027Z"
   },
   {
    "duration": 14,
    "start_time": "2023-01-31T18:28:18.443Z"
   },
   {
    "duration": 10,
    "start_time": "2023-01-31T18:28:20.088Z"
   },
   {
    "duration": 2895,
    "start_time": "2023-01-31T18:28:21.561Z"
   },
   {
    "duration": 570,
    "start_time": "2023-01-31T18:28:24.458Z"
   },
   {
    "duration": 493,
    "start_time": "2023-01-31T18:28:25.030Z"
   },
   {
    "duration": 9,
    "start_time": "2023-01-31T18:28:25.525Z"
   },
   {
    "duration": 945,
    "start_time": "2023-01-31T18:28:25.536Z"
   },
   {
    "duration": 6,
    "start_time": "2023-01-31T18:28:26.701Z"
   },
   {
    "duration": 15,
    "start_time": "2023-01-31T18:28:27.637Z"
   },
   {
    "duration": 5,
    "start_time": "2023-01-31T18:28:28.185Z"
   },
   {
    "duration": 2,
    "start_time": "2023-01-31T18:28:28.993Z"
   },
   {
    "duration": 5,
    "start_time": "2023-01-31T18:28:31.195Z"
   },
   {
    "duration": 4,
    "start_time": "2023-01-31T18:28:32.657Z"
   },
   {
    "duration": 13,
    "start_time": "2023-01-31T18:28:34.225Z"
   },
   {
    "duration": 9,
    "start_time": "2023-01-31T18:28:35.231Z"
   },
   {
    "duration": 9,
    "start_time": "2023-01-31T18:28:58.600Z"
   },
   {
    "duration": 4,
    "start_time": "2023-01-31T18:30:15.392Z"
   },
   {
    "duration": 4,
    "start_time": "2023-01-31T18:30:16.832Z"
   },
   {
    "duration": 757,
    "start_time": "2023-01-31T18:30:18.954Z"
   },
   {
    "duration": 4137,
    "start_time": "2023-01-31T18:30:26.825Z"
   },
   {
    "duration": 4,
    "start_time": "2023-01-31T19:19:27.036Z"
   },
   {
    "duration": 11,
    "start_time": "2023-01-31T19:19:28.302Z"
   },
   {
    "duration": 10,
    "start_time": "2023-01-31T19:19:29.004Z"
   },
   {
    "duration": 816,
    "start_time": "2023-01-31T19:31:44.031Z"
   },
   {
    "duration": 664,
    "start_time": "2023-01-31T19:32:02.912Z"
   },
   {
    "duration": 732,
    "start_time": "2023-01-31T19:32:22.608Z"
   },
   {
    "duration": 690,
    "start_time": "2023-01-31T19:33:46.521Z"
   },
   {
    "duration": 1311,
    "start_time": "2023-01-31T19:34:10.441Z"
   },
   {
    "duration": 699,
    "start_time": "2023-01-31T19:34:16.594Z"
   },
   {
    "duration": 3,
    "start_time": "2023-01-31T19:34:18.415Z"
   },
   {
    "duration": 248,
    "start_time": "2023-01-31T19:34:19.304Z"
   },
   {
    "duration": 134,
    "start_time": "2023-01-31T19:34:19.695Z"
   },
   {
    "duration": 267,
    "start_time": "2023-01-31T19:34:19.948Z"
   },
   {
    "duration": 9,
    "start_time": "2023-01-31T19:34:20.395Z"
   },
   {
    "duration": 3,
    "start_time": "2023-01-31T19:34:22.496Z"
   },
   {
    "duration": 20,
    "start_time": "2023-01-31T19:34:23.495Z"
   },
   {
    "duration": 10,
    "start_time": "2023-01-31T19:34:25.607Z"
   },
   {
    "duration": 2863,
    "start_time": "2023-01-31T19:34:28.696Z"
   },
   {
    "duration": 507,
    "start_time": "2023-01-31T19:34:33.929Z"
   },
   {
    "duration": 471,
    "start_time": "2023-01-31T19:34:34.439Z"
   },
   {
    "duration": 12,
    "start_time": "2023-01-31T19:34:37.095Z"
   },
   {
    "duration": 1045,
    "start_time": "2023-01-31T19:34:40.256Z"
   },
   {
    "duration": 5,
    "start_time": "2023-01-31T19:34:45.941Z"
   },
   {
    "duration": 34,
    "start_time": "2023-01-31T19:34:50.647Z"
   },
   {
    "duration": 5,
    "start_time": "2023-01-31T19:35:04.429Z"
   },
   {
    "duration": 4,
    "start_time": "2023-01-31T19:35:17.615Z"
   },
   {
    "duration": 4,
    "start_time": "2023-01-31T19:35:19.247Z"
   },
   {
    "duration": 12,
    "start_time": "2023-01-31T19:35:20.568Z"
   },
   {
    "duration": 11,
    "start_time": "2023-01-31T19:35:21.233Z"
   },
   {
    "duration": 4,
    "start_time": "2023-01-31T19:35:23.335Z"
   },
   {
    "duration": 3,
    "start_time": "2023-01-31T19:35:26.996Z"
   },
   {
    "duration": 647,
    "start_time": "2023-01-31T19:35:29.064Z"
   },
   {
    "duration": 739,
    "start_time": "2023-01-31T19:35:58.393Z"
   },
   {
    "duration": 2524,
    "start_time": "2023-01-31T19:45:50.613Z"
   },
   {
    "duration": 495,
    "start_time": "2023-01-31T19:45:58.016Z"
   },
   {
    "duration": 10,
    "start_time": "2023-01-31T20:03:28.387Z"
   },
   {
    "duration": 4,
    "start_time": "2023-01-31T20:04:05.496Z"
   },
   {
    "duration": 11,
    "start_time": "2023-01-31T20:04:11.372Z"
   },
   {
    "duration": 15,
    "start_time": "2023-01-31T20:06:03.183Z"
   },
   {
    "duration": 1327,
    "start_time": "2023-01-31T20:14:53.312Z"
   },
   {
    "duration": 682,
    "start_time": "2023-01-31T20:14:58.902Z"
   },
   {
    "duration": 3,
    "start_time": "2023-01-31T20:15:00.915Z"
   },
   {
    "duration": 249,
    "start_time": "2023-01-31T20:15:06.274Z"
   },
   {
    "duration": 136,
    "start_time": "2023-01-31T20:15:07.285Z"
   },
   {
    "duration": 256,
    "start_time": "2023-01-31T20:15:08.254Z"
   },
   {
    "duration": 9,
    "start_time": "2023-01-31T20:15:10.114Z"
   },
   {
    "duration": 4,
    "start_time": "2023-01-31T20:15:16.315Z"
   },
   {
    "duration": 13,
    "start_time": "2023-01-31T20:15:21.234Z"
   },
   {
    "duration": 12,
    "start_time": "2023-01-31T20:15:37.290Z"
   },
   {
    "duration": 2844,
    "start_time": "2023-01-31T20:15:48.213Z"
   },
   {
    "duration": 573,
    "start_time": "2023-01-31T20:15:57.251Z"
   },
   {
    "duration": 551,
    "start_time": "2023-01-31T20:15:58.170Z"
   },
   {
    "duration": 12,
    "start_time": "2023-01-31T20:16:20.618Z"
   },
   {
    "duration": 934,
    "start_time": "2023-01-31T20:16:23.882Z"
   },
   {
    "duration": 5,
    "start_time": "2023-01-31T20:16:30.721Z"
   },
   {
    "duration": 40,
    "start_time": "2023-01-31T20:16:31.825Z"
   },
   {
    "duration": 6,
    "start_time": "2023-01-31T20:16:34.212Z"
   },
   {
    "duration": 5,
    "start_time": "2023-01-31T20:16:42.801Z"
   },
   {
    "duration": 3,
    "start_time": "2023-01-31T20:16:43.994Z"
   },
   {
    "duration": 12,
    "start_time": "2023-01-31T20:16:45.393Z"
   },
   {
    "duration": 9,
    "start_time": "2023-01-31T20:16:46.217Z"
   },
   {
    "duration": 4,
    "start_time": "2023-01-31T20:17:20.138Z"
   },
   {
    "duration": 3,
    "start_time": "2023-01-31T20:17:25.002Z"
   },
   {
    "duration": 559,
    "start_time": "2023-01-31T20:17:27.252Z"
   },
   {
    "duration": 2538,
    "start_time": "2023-01-31T20:17:32.371Z"
   },
   {
    "duration": 5265,
    "start_time": "2023-01-31T20:18:07.619Z"
   },
   {
    "duration": 152,
    "start_time": "2023-01-31T20:18:34.320Z"
   },
   {
    "duration": 34,
    "start_time": "2023-01-31T20:18:52.882Z"
   },
   {
    "duration": 14,
    "start_time": "2023-01-31T20:19:53.804Z"
   },
   {
    "duration": 56,
    "start_time": "2023-01-31T20:23:32.572Z"
   },
   {
    "duration": 6,
    "start_time": "2023-01-31T20:26:29.127Z"
   },
   {
    "duration": 6,
    "start_time": "2023-01-31T20:26:32.088Z"
   },
   {
    "duration": 35,
    "start_time": "2023-01-31T20:26:35.642Z"
   },
   {
    "duration": 4,
    "start_time": "2023-01-31T20:27:31.953Z"
   },
   {
    "duration": 44,
    "start_time": "2023-01-31T20:27:32.574Z"
   },
   {
    "duration": 14,
    "start_time": "2023-01-31T20:27:40.447Z"
   },
   {
    "duration": 1379,
    "start_time": "2023-01-31T20:35:47.076Z"
   },
   {
    "duration": 705,
    "start_time": "2023-01-31T20:35:52.619Z"
   },
   {
    "duration": 3,
    "start_time": "2023-01-31T20:35:53.327Z"
   },
   {
    "duration": 233,
    "start_time": "2023-01-31T20:35:54.444Z"
   },
   {
    "duration": 143,
    "start_time": "2023-01-31T20:35:54.678Z"
   },
   {
    "duration": 251,
    "start_time": "2023-01-31T20:35:54.868Z"
   },
   {
    "duration": 8,
    "start_time": "2023-01-31T20:35:55.339Z"
   },
   {
    "duration": 3,
    "start_time": "2023-01-31T20:35:57.659Z"
   },
   {
    "duration": 14,
    "start_time": "2023-01-31T20:35:58.300Z"
   },
   {
    "duration": 11,
    "start_time": "2023-01-31T20:35:59.506Z"
   },
   {
    "duration": 2874,
    "start_time": "2023-01-31T20:36:02.303Z"
   },
   {
    "duration": 485,
    "start_time": "2023-01-31T20:36:05.235Z"
   },
   {
    "duration": 499,
    "start_time": "2023-01-31T20:36:05.722Z"
   },
   {
    "duration": 12,
    "start_time": "2023-01-31T20:36:07.835Z"
   },
   {
    "duration": 982,
    "start_time": "2023-01-31T20:36:09.018Z"
   },
   {
    "duration": 4,
    "start_time": "2023-01-31T20:36:11.889Z"
   },
   {
    "duration": 37,
    "start_time": "2023-01-31T20:36:12.402Z"
   },
   {
    "duration": 4,
    "start_time": "2023-01-31T20:36:13.090Z"
   },
   {
    "duration": 6,
    "start_time": "2023-01-31T20:36:17.140Z"
   },
   {
    "duration": 5,
    "start_time": "2023-01-31T20:36:18.742Z"
   },
   {
    "duration": 12,
    "start_time": "2023-01-31T20:36:19.764Z"
   },
   {
    "duration": 4,
    "start_time": "2023-01-31T20:36:21.666Z"
   },
   {
    "duration": 3,
    "start_time": "2023-01-31T20:36:24.418Z"
   },
   {
    "duration": 557,
    "start_time": "2023-01-31T20:36:26.754Z"
   },
   {
    "duration": 2563,
    "start_time": "2023-01-31T20:36:30.849Z"
   },
   {
    "duration": 5452,
    "start_time": "2023-01-31T20:36:39.658Z"
   },
   {
    "duration": 2,
    "start_time": "2023-01-31T20:37:10.207Z"
   },
   {
    "duration": 33,
    "start_time": "2023-01-31T20:37:11.467Z"
   },
   {
    "duration": 14,
    "start_time": "2023-01-31T20:37:18.154Z"
   },
   {
    "duration": 1291,
    "start_time": "2023-01-31T20:48:58.439Z"
   },
   {
    "duration": 697,
    "start_time": "2023-01-31T20:49:02.794Z"
   },
   {
    "duration": 2,
    "start_time": "2023-01-31T20:49:04.251Z"
   },
   {
    "duration": 244,
    "start_time": "2023-01-31T20:49:05.631Z"
   },
   {
    "duration": 166,
    "start_time": "2023-01-31T20:49:05.877Z"
   },
   {
    "duration": 267,
    "start_time": "2023-01-31T20:49:06.171Z"
   },
   {
    "duration": 11,
    "start_time": "2023-01-31T20:49:06.844Z"
   },
   {
    "duration": 4,
    "start_time": "2023-01-31T20:49:11.500Z"
   },
   {
    "duration": 17,
    "start_time": "2023-01-31T20:49:14.271Z"
   },
   {
    "duration": 10,
    "start_time": "2023-01-31T20:49:17.122Z"
   },
   {
    "duration": 2874,
    "start_time": "2023-01-31T20:49:21.490Z"
   },
   {
    "duration": 494,
    "start_time": "2023-01-31T20:49:24.538Z"
   },
   {
    "duration": 473,
    "start_time": "2023-01-31T20:49:25.034Z"
   },
   {
    "duration": 10,
    "start_time": "2023-01-31T20:49:26.555Z"
   },
   {
    "duration": 1018,
    "start_time": "2023-01-31T20:49:28.667Z"
   },
   {
    "duration": 5,
    "start_time": "2023-01-31T20:49:31.488Z"
   },
   {
    "duration": 43,
    "start_time": "2023-01-31T20:49:32.043Z"
   },
   {
    "duration": 5,
    "start_time": "2023-01-31T20:49:32.465Z"
   },
   {
    "duration": 4,
    "start_time": "2023-01-31T20:49:35.277Z"
   },
   {
    "duration": 4,
    "start_time": "2023-01-31T20:49:36.475Z"
   },
   {
    "duration": 12,
    "start_time": "2023-01-31T20:49:37.298Z"
   },
   {
    "duration": 4,
    "start_time": "2023-01-31T20:49:38.248Z"
   },
   {
    "duration": 4,
    "start_time": "2023-01-31T20:49:40.878Z"
   },
   {
    "duration": 524,
    "start_time": "2023-01-31T20:49:42.395Z"
   },
   {
    "duration": 2514,
    "start_time": "2023-01-31T20:49:49.601Z"
   },
   {
    "duration": 5505,
    "start_time": "2023-01-31T20:50:01.733Z"
   },
   {
    "duration": 33,
    "start_time": "2023-01-31T20:50:15.650Z"
   },
   {
    "duration": 15,
    "start_time": "2023-01-31T20:50:19.430Z"
   },
   {
    "duration": 3,
    "start_time": "2023-01-31T20:54:02.352Z"
   },
   {
    "duration": 513,
    "start_time": "2023-01-31T20:54:07.798Z"
   },
   {
    "duration": 2562,
    "start_time": "2023-01-31T20:54:11.233Z"
   },
   {
    "duration": 33,
    "start_time": "2023-01-31T20:56:37.588Z"
   },
   {
    "duration": 2249,
    "start_time": "2023-02-01T14:11:39.788Z"
   },
   {
    "duration": 3048,
    "start_time": "2023-02-01T14:11:42.039Z"
   },
   {
    "duration": 4,
    "start_time": "2023-02-01T14:11:45.089Z"
   },
   {
    "duration": 278,
    "start_time": "2023-02-01T14:11:45.096Z"
   },
   {
    "duration": 157,
    "start_time": "2023-02-01T14:11:45.381Z"
   },
   {
    "duration": 298,
    "start_time": "2023-02-01T14:11:45.541Z"
   },
   {
    "duration": 8,
    "start_time": "2023-02-01T14:11:45.841Z"
   },
   {
    "duration": 10,
    "start_time": "2023-02-01T14:11:45.850Z"
   },
   {
    "duration": 1471,
    "start_time": "2023-02-01T14:11:45.861Z"
   },
   {
    "duration": 2082,
    "start_time": "2023-02-01T14:22:48.075Z"
   },
   {
    "duration": 728,
    "start_time": "2023-02-01T14:22:50.159Z"
   },
   {
    "duration": 3,
    "start_time": "2023-02-01T14:22:50.889Z"
   },
   {
    "duration": 278,
    "start_time": "2023-02-01T14:22:50.894Z"
   },
   {
    "duration": 157,
    "start_time": "2023-02-01T14:22:51.181Z"
   },
   {
    "duration": 299,
    "start_time": "2023-02-01T14:22:51.339Z"
   },
   {
    "duration": 9,
    "start_time": "2023-02-01T14:22:51.640Z"
   },
   {
    "duration": 5,
    "start_time": "2023-02-01T14:22:51.651Z"
   },
   {
    "duration": 35,
    "start_time": "2023-02-01T14:22:51.658Z"
   },
   {
    "duration": 10,
    "start_time": "2023-02-01T14:22:51.695Z"
   },
   {
    "duration": 2835,
    "start_time": "2023-02-01T14:22:51.706Z"
   },
   {
    "duration": 2717,
    "start_time": "2023-02-01T14:28:56.636Z"
   },
   {
    "duration": 2693,
    "start_time": "2023-02-01T14:29:16.749Z"
   },
   {
    "duration": 2939,
    "start_time": "2023-02-01T14:30:59.629Z"
   },
   {
    "duration": 2819,
    "start_time": "2023-02-01T14:33:51.745Z"
   },
   {
    "duration": 2795,
    "start_time": "2023-02-01T14:34:54.454Z"
   },
   {
    "duration": 3034,
    "start_time": "2023-02-01T14:36:52.565Z"
   },
   {
    "duration": 3119,
    "start_time": "2023-02-01T14:38:06.382Z"
   },
   {
    "duration": 3093,
    "start_time": "2023-02-01T14:38:16.702Z"
   },
   {
    "duration": 6,
    "start_time": "2023-02-01T14:44:13.332Z"
   },
   {
    "duration": 5,
    "start_time": "2023-02-01T14:44:52.265Z"
   },
   {
    "duration": 5,
    "start_time": "2023-02-01T14:47:18.208Z"
   },
   {
    "duration": 5,
    "start_time": "2023-02-01T14:47:25.984Z"
   },
   {
    "duration": 1535,
    "start_time": "2023-02-01T15:59:15.707Z"
   },
   {
    "duration": 3197,
    "start_time": "2023-02-01T15:59:22.302Z"
   },
   {
    "duration": 4,
    "start_time": "2023-02-01T15:59:25.501Z"
   },
   {
    "duration": 253,
    "start_time": "2023-02-01T15:59:27.705Z"
   },
   {
    "duration": 145,
    "start_time": "2023-02-01T15:59:28.191Z"
   },
   {
    "duration": 254,
    "start_time": "2023-02-01T15:59:28.633Z"
   },
   {
    "duration": 9,
    "start_time": "2023-02-01T15:59:29.507Z"
   },
   {
    "duration": 3,
    "start_time": "2023-02-01T15:59:32.397Z"
   },
   {
    "duration": 18,
    "start_time": "2023-02-01T15:59:33.708Z"
   },
   {
    "duration": 10,
    "start_time": "2023-02-01T15:59:36.309Z"
   },
   {
    "duration": 3060,
    "start_time": "2023-02-01T15:59:40.307Z"
   },
   {
    "duration": 546,
    "start_time": "2023-02-01T15:59:44.511Z"
   },
   {
    "duration": 565,
    "start_time": "2023-02-01T15:59:45.060Z"
   },
   {
    "duration": 12,
    "start_time": "2023-02-01T15:59:47.053Z"
   },
   {
    "duration": 927,
    "start_time": "2023-02-01T15:59:49.207Z"
   },
   {
    "duration": 6,
    "start_time": "2023-02-01T15:59:53.325Z"
   },
   {
    "duration": 5,
    "start_time": "2023-02-01T15:59:54.109Z"
   },
   {
    "duration": 56,
    "start_time": "2023-02-01T15:59:54.810Z"
   },
   {
    "duration": 5,
    "start_time": "2023-02-01T15:59:56.316Z"
   },
   {
    "duration": 5,
    "start_time": "2023-02-01T16:00:00.407Z"
   },
   {
    "duration": 6,
    "start_time": "2023-02-01T16:00:01.408Z"
   },
   {
    "duration": 15,
    "start_time": "2023-02-01T16:00:02.253Z"
   },
   {
    "duration": 4,
    "start_time": "2023-02-01T16:00:03.454Z"
   },
   {
    "duration": 4,
    "start_time": "2023-02-01T16:00:05.897Z"
   },
   {
    "duration": 2635,
    "start_time": "2023-02-01T16:00:08.221Z"
   },
   {
    "duration": 34605,
    "start_time": "2023-02-01T16:00:11.612Z"
   },
   {
    "duration": 50412,
    "start_time": "2023-02-01T16:01:08.436Z"
   },
   {
    "duration": 348,
    "start_time": "2023-02-01T16:02:36.108Z"
   },
   {
    "duration": 18,
    "start_time": "2023-02-01T16:02:42.314Z"
   },
   {
    "duration": 1560,
    "start_time": "2023-02-01T16:26:44.736Z"
   },
   {
    "duration": 499,
    "start_time": "2023-02-01T16:32:53.060Z"
   },
   {
    "duration": 1563,
    "start_time": "2023-02-01T16:33:37.767Z"
   },
   {
    "duration": 753,
    "start_time": "2023-02-01T16:33:43.688Z"
   },
   {
    "duration": 3,
    "start_time": "2023-02-01T16:33:45.125Z"
   },
   {
    "duration": 264,
    "start_time": "2023-02-01T16:33:46.697Z"
   },
   {
    "duration": 159,
    "start_time": "2023-02-01T16:33:47.117Z"
   },
   {
    "duration": 268,
    "start_time": "2023-02-01T16:33:47.409Z"
   },
   {
    "duration": 9,
    "start_time": "2023-02-01T16:33:48.198Z"
   },
   {
    "duration": 3,
    "start_time": "2023-02-01T16:33:50.691Z"
   },
   {
    "duration": 15,
    "start_time": "2023-02-01T16:33:51.915Z"
   },
   {
    "duration": 17,
    "start_time": "2023-02-01T16:33:56.396Z"
   },
   {
    "duration": 3165,
    "start_time": "2023-02-01T16:34:01.406Z"
   },
   {
    "duration": 484,
    "start_time": "2023-02-01T16:34:08.095Z"
   },
   {
    "duration": 523,
    "start_time": "2023-02-01T16:34:08.941Z"
   },
   {
    "duration": 11,
    "start_time": "2023-02-01T16:34:12.695Z"
   },
   {
    "duration": 937,
    "start_time": "2023-02-01T16:34:16.298Z"
   },
   {
    "duration": 6,
    "start_time": "2023-02-01T16:34:23.492Z"
   },
   {
    "duration": 6,
    "start_time": "2023-02-01T16:34:24.164Z"
   },
   {
    "duration": 53,
    "start_time": "2023-02-01T16:34:25.185Z"
   },
   {
    "duration": 5,
    "start_time": "2023-02-01T16:34:27.324Z"
   },
   {
    "duration": 5,
    "start_time": "2023-02-01T16:34:33.989Z"
   },
   {
    "duration": 7,
    "start_time": "2023-02-01T16:34:35.421Z"
   },
   {
    "duration": 19,
    "start_time": "2023-02-01T16:34:36.743Z"
   },
   {
    "duration": 3,
    "start_time": "2023-02-01T16:34:38.338Z"
   },
   {
    "duration": 3,
    "start_time": "2023-02-01T16:34:40.795Z"
   },
   {
    "duration": 2874,
    "start_time": "2023-02-01T16:34:44.607Z"
   },
   {
    "duration": 37045,
    "start_time": "2023-02-01T16:34:49.694Z"
   },
   {
    "duration": 51856,
    "start_time": "2023-02-01T16:35:37.763Z"
   },
   {
    "duration": 452,
    "start_time": "2023-02-01T16:36:29.621Z"
   },
   {
    "duration": 22,
    "start_time": "2023-02-01T16:37:03.911Z"
   },
   {
    "duration": 2173,
    "start_time": "2023-02-01T16:39:19.396Z"
   },
   {
    "duration": 2398,
    "start_time": "2023-02-02T07:08:44.850Z"
   },
   {
    "duration": 3004,
    "start_time": "2023-02-02T07:08:47.250Z"
   },
   {
    "duration": 3,
    "start_time": "2023-02-02T07:08:50.256Z"
   },
   {
    "duration": 254,
    "start_time": "2023-02-02T07:08:50.261Z"
   },
   {
    "duration": 153,
    "start_time": "2023-02-02T07:08:50.517Z"
   },
   {
    "duration": 254,
    "start_time": "2023-02-02T07:08:50.671Z"
   },
   {
    "duration": 21,
    "start_time": "2023-02-02T07:08:50.927Z"
   },
   {
    "duration": 2,
    "start_time": "2023-02-02T07:08:50.950Z"
   },
   {
    "duration": 17,
    "start_time": "2023-02-02T07:08:50.953Z"
   },
   {
    "duration": 9,
    "start_time": "2023-02-02T07:08:50.972Z"
   },
   {
    "duration": 3077,
    "start_time": "2023-02-02T07:08:50.982Z"
   },
   {
    "duration": 458,
    "start_time": "2023-02-02T07:08:54.060Z"
   },
   {
    "duration": 511,
    "start_time": "2023-02-02T07:08:54.520Z"
   },
   {
    "duration": 10,
    "start_time": "2023-02-02T07:08:55.032Z"
   },
   {
    "duration": 968,
    "start_time": "2023-02-02T07:08:55.048Z"
   },
   {
    "duration": 5,
    "start_time": "2023-02-02T07:08:56.018Z"
   },
   {
    "duration": 59,
    "start_time": "2023-02-02T07:08:56.025Z"
   },
   {
    "duration": 5,
    "start_time": "2023-02-02T07:08:56.086Z"
   },
   {
    "duration": 7,
    "start_time": "2023-02-02T07:08:56.093Z"
   },
   {
    "duration": 6,
    "start_time": "2023-02-02T07:08:56.101Z"
   },
   {
    "duration": 15,
    "start_time": "2023-02-02T07:08:56.109Z"
   },
   {
    "duration": 4,
    "start_time": "2023-02-02T07:08:56.126Z"
   },
   {
    "duration": 3,
    "start_time": "2023-02-02T07:08:56.148Z"
   },
   {
    "duration": 1904,
    "start_time": "2023-02-02T07:08:56.152Z"
   },
   {
    "duration": 34330,
    "start_time": "2023-02-02T07:08:58.058Z"
   },
   {
    "duration": 1632,
    "start_time": "2023-12-29T06:39:17.589Z"
   },
   {
    "duration": 3056,
    "start_time": "2023-12-29T06:39:24.942Z"
   },
   {
    "duration": 2,
    "start_time": "2023-12-29T06:39:31.239Z"
   },
   {
    "duration": 3,
    "start_time": "2023-12-29T06:39:59.772Z"
   },
   {
    "duration": 8,
    "start_time": "2024-01-05T03:32:03.317Z"
   },
   {
    "duration": 42,
    "start_time": "2024-01-05T03:32:08.184Z"
   },
   {
    "duration": 6,
    "start_time": "2024-01-05T03:32:34.939Z"
   },
   {
    "duration": 1507,
    "start_time": "2024-01-05T03:32:37.875Z"
   },
   {
    "duration": 3021,
    "start_time": "2024-01-05T03:32:41.818Z"
   },
   {
    "duration": 3,
    "start_time": "2024-01-05T03:32:45.954Z"
   },
   {
    "duration": 72,
    "start_time": "2024-01-05T03:32:47.762Z"
   },
   {
    "duration": 249,
    "start_time": "2024-01-05T03:32:56.920Z"
   },
   {
    "duration": 144,
    "start_time": "2024-01-05T03:33:03.913Z"
   },
   {
    "duration": 268,
    "start_time": "2024-01-05T03:33:05.746Z"
   },
   {
    "duration": 9,
    "start_time": "2024-01-05T03:33:32.154Z"
   },
   {
    "duration": 3,
    "start_time": "2024-01-05T03:34:17.729Z"
   },
   {
    "duration": 21,
    "start_time": "2024-01-05T03:34:28.287Z"
   },
   {
    "duration": 10,
    "start_time": "2024-01-05T03:34:45.865Z"
   },
   {
    "duration": 3079,
    "start_time": "2024-01-05T03:35:15.552Z"
   },
   {
    "duration": 513,
    "start_time": "2024-01-05T03:37:56.887Z"
   },
   {
    "duration": 536,
    "start_time": "2024-01-05T03:37:59.279Z"
   },
   {
    "duration": 9,
    "start_time": "2024-01-05T03:38:12.598Z"
   },
   {
    "duration": 927,
    "start_time": "2024-01-05T03:38:52.977Z"
   },
   {
    "duration": 4,
    "start_time": "2024-01-05T03:39:07.798Z"
   },
   {
    "duration": 53,
    "start_time": "2024-01-05T03:39:10.599Z"
   },
   {
    "duration": 5,
    "start_time": "2024-01-05T03:39:13.589Z"
   },
   {
    "duration": 6,
    "start_time": "2024-01-05T03:40:12.021Z"
   },
   {
    "duration": 5,
    "start_time": "2024-01-05T03:40:14.735Z"
   },
   {
    "duration": 13,
    "start_time": "2024-01-05T03:40:16.464Z"
   },
   {
    "duration": 4,
    "start_time": "2024-01-05T03:40:21.493Z"
   },
   {
    "duration": 2,
    "start_time": "2024-01-05T03:40:37.653Z"
   },
   {
    "duration": 2519,
    "start_time": "2024-01-05T03:40:45.497Z"
   },
   {
    "duration": 35233,
    "start_time": "2024-01-05T03:40:58.061Z"
   },
   {
    "duration": 50621,
    "start_time": "2024-01-05T03:42:31.291Z"
   },
   {
    "duration": 602,
    "start_time": "2024-01-05T03:43:21.914Z"
   },
   {
    "duration": 16,
    "start_time": "2024-01-05T03:43:31.803Z"
   },
   {
    "duration": 15,
    "start_time": "2024-01-05T03:43:58.563Z"
   }
  ],
  "kernelspec": {
   "display_name": "Python 3 (ipykernel)",
   "language": "python",
   "name": "python3"
  },
  "language_info": {
   "codemirror_mode": {
    "name": "ipython",
    "version": 3
   },
   "file_extension": ".py",
   "mimetype": "text/x-python",
   "name": "python",
   "nbconvert_exporter": "python",
   "pygments_lexer": "ipython3",
   "version": "3.9.5"
  },
  "toc": {
   "base_numbering": 1,
   "nav_menu": {},
   "number_sections": true,
   "sideBar": true,
   "skip_h1_title": true,
   "title_cell": "Содержание",
   "title_sidebar": "Contents",
   "toc_cell": true,
   "toc_position": {
    "height": "calc(100% - 180px)",
    "left": "10px",
    "top": "150px",
    "width": "235.27px"
   },
   "toc_section_display": true,
   "toc_window_display": true
  }
 },
 "nbformat": 4,
 "nbformat_minor": 2
}
